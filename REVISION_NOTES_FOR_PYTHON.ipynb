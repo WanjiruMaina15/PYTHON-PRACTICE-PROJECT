{
  "nbformat": 4,
  "nbformat_minor": 0,
  "metadata": {
    "colab": {
      "provenance": []
    },
    "kernelspec": {
      "name": "python3",
      "display_name": "Python 3"
    },
    "language_info": {
      "name": "python"
    }
  },
  "cells": [
    {
      "cell_type": "code",
      "execution_count": null,
      "metadata": {
        "colab": {
          "base_uri": "https://localhost:8080/"
        },
        "id": "_zn0SMB-_eNu",
        "outputId": "7c3d4e4f-7fe9-44d4-edec-5abe01aae93c"
      },
      "outputs": [
        {
          "output_type": "execute_result",
          "data": {
            "text/plain": [
              "False"
            ]
          },
          "metadata": {},
          "execution_count": 1
        }
      ],
      "source": [
        "#datatypes\n",
        "#booleans,strings,integers,floats\n",
        "#string use the quotes\n",
        "#booleans true or false == >,<\n",
        "'Osam bin Laden'== 'Osam bin Sadam'"
      ]
    },
    {
      "cell_type": "code",
      "source": [
        "#functions include\n",
        "#.capitalize()\n",
        "'esther'\n",
        "'esther'.capitalize()"
      ],
      "metadata": {
        "colab": {
          "base_uri": "https://localhost:8080/",
          "height": 36
        },
        "id": "jA4RoBcrAO6y",
        "outputId": "5cc920f4-4cb2-457d-d510-896f4693249b"
      },
      "execution_count": null,
      "outputs": [
        {
          "output_type": "execute_result",
          "data": {
            "text/plain": [
              "'Esther'"
            ],
            "application/vnd.google.colaboratory.intrinsic+json": {
              "type": "string"
            }
          },
          "metadata": {},
          "execution_count": 3
        }
      ]
    },
    {
      "cell_type": "code",
      "source": [
        "#.tittle()\n",
        "'binomial nomenclature'\n",
        "'binomia nomenclature'.title()"
      ],
      "metadata": {
        "colab": {
          "base_uri": "https://localhost:8080/",
          "height": 36
        },
        "id": "KSeCrfpSAi6O",
        "outputId": "752b2d6f-84a2-4c96-a9aa-7d96624b0f15"
      },
      "execution_count": null,
      "outputs": [
        {
          "output_type": "execute_result",
          "data": {
            "text/plain": [
              "'Binomia Nomenclature'"
            ],
            "application/vnd.google.colaboratory.intrinsic+json": {
              "type": "string"
            }
          },
          "metadata": {},
          "execution_count": 4
        }
      ]
    },
    {
      "cell_type": "code",
      "source": [
        "#casefold\n",
        "'binomial nomenclature'\n",
        "'binomial nomenclature'.casefold()"
      ],
      "metadata": {
        "colab": {
          "base_uri": "https://localhost:8080/",
          "height": 36
        },
        "id": "mfNI5QmjA1KD",
        "outputId": "ce3a838d-f4c2-47aa-9b9e-ebda4c91f0c9"
      },
      "execution_count": null,
      "outputs": [
        {
          "output_type": "execute_result",
          "data": {
            "text/plain": [
              "'binomial nomenclature'"
            ],
            "application/vnd.google.colaboratory.intrinsic+json": {
              "type": "string"
            }
          },
          "metadata": {},
          "execution_count": 5
        }
      ]
    },
    {
      "cell_type": "code",
      "source": [
        "#upper\n",
        "'binomial nomenclature'.upper()"
      ],
      "metadata": {
        "colab": {
          "base_uri": "https://localhost:8080/",
          "height": 36
        },
        "id": "rYGMYozxBHQK",
        "outputId": "59364347-fc22-48d1-9e19-89cc480eede4"
      },
      "execution_count": null,
      "outputs": [
        {
          "output_type": "execute_result",
          "data": {
            "text/plain": [
              "'BINOMIAL NOMENCLATURE'"
            ],
            "application/vnd.google.colaboratory.intrinsic+json": {
              "type": "string"
            }
          },
          "metadata": {},
          "execution_count": 6
        }
      ]
    },
    {
      "cell_type": "code",
      "source": [
        "#centre\n",
        "'binomial nomenclature'.centre()"
      ],
      "metadata": {
        "colab": {
          "base_uri": "https://localhost:8080/",
          "height": 164
        },
        "id": "F4hjh-pyBP1V",
        "outputId": "ff28d623-4612-404a-8fad-1ed77d7ce8f0"
      },
      "execution_count": null,
      "outputs": [
        {
          "output_type": "error",
          "ename": "AttributeError",
          "evalue": "'str' object has no attribute 'centre'",
          "traceback": [
            "\u001b[0;31m---------------------------------------------------------------------------\u001b[0m",
            "\u001b[0;31mAttributeError\u001b[0m                            Traceback (most recent call last)",
            "\u001b[0;32m<ipython-input-7-ee7557af6f1d>\u001b[0m in \u001b[0;36m<cell line: 0>\u001b[0;34m()\u001b[0m\n\u001b[1;32m      1\u001b[0m \u001b[0;31m#centre\u001b[0m\u001b[0;34m\u001b[0m\u001b[0;34m\u001b[0m\u001b[0m\n\u001b[0;32m----> 2\u001b[0;31m \u001b[0;34m'binomial nomenclature'\u001b[0m\u001b[0;34m.\u001b[0m\u001b[0mcentre\u001b[0m\u001b[0;34m(\u001b[0m\u001b[0;34m)\u001b[0m\u001b[0;34m\u001b[0m\u001b[0;34m\u001b[0m\u001b[0m\n\u001b[0m",
            "\u001b[0;31mAttributeError\u001b[0m: 'str' object has no attribute 'centre'"
          ]
        }
      ]
    },
    {
      "cell_type": "code",
      "source": [
        "#ends with\n",
        "'binomial nomenclature'.endswith('artificial')\n"
      ],
      "metadata": {
        "colab": {
          "base_uri": "https://localhost:8080/"
        },
        "id": "p2NgB62wBk1Q",
        "outputId": "e92e2835-29fc-4db9-e1d6-0c6f20a7709d"
      },
      "execution_count": null,
      "outputs": [
        {
          "output_type": "execute_result",
          "data": {
            "text/plain": [
              "False"
            ]
          },
          "metadata": {},
          "execution_count": 9
        }
      ]
    },
    {
      "cell_type": "code",
      "source": [
        "#variables.\n",
        "#includes letters,digits,underscores for a two or more letter word.\n",
        "#cannot start with a digit 0 work is invalid, weight0 is valid\n",
        "#are case sensitive Weight is different from weight\n",
        "#followed by =\n",
        "Fruits = ['Oranges', 'apples', 'tomatoes']\n",
        "type(Fruits)"
      ],
      "metadata": {
        "colab": {
          "base_uri": "https://localhost:8080/"
        },
        "id": "uTYankX2CLHL",
        "outputId": "5bff082b-b4b3-432c-91d9-d186fc1a5ae8"
      },
      "execution_count": null,
      "outputs": [
        {
          "output_type": "execute_result",
          "data": {
            "text/plain": [
              "list"
            ]
          },
          "metadata": {},
          "execution_count": 11
        }
      ]
    },
    {
      "cell_type": "code",
      "source": [
        "#concatenation is linking different strings.\n",
        "#one cannot concantenate an interger and a string.thus one has to convert an interger to a string.\n",
        "age=32\n",
        "'I'+' am '+ str( age ) + 'years' + ' today '\n"
      ],
      "metadata": {
        "colab": {
          "base_uri": "https://localhost:8080/",
          "height": 36
        },
        "id": "fcurvz63FB1A",
        "outputId": "acb1d4b9-4b83-4191-ceea-93d588223a4c"
      },
      "execution_count": null,
      "outputs": [
        {
          "output_type": "execute_result",
          "data": {
            "text/plain": [
              "'I am 32years today '"
            ],
            "application/vnd.google.colaboratory.intrinsic+json": {
              "type": "string"
            }
          },
          "metadata": {},
          "execution_count": 28
        }
      ]
    },
    {
      "cell_type": "code",
      "source": [
        "age = 42\n",
        "num_string= str(age)\n"
      ],
      "metadata": {
        "id": "UYpSxUSgRhLU"
      },
      "execution_count": null,
      "outputs": []
    },
    {
      "cell_type": "code",
      "source": [
        "\"I \" + \" live \" + \" at \" + str(50) + \" th street Durba n\""
      ],
      "metadata": {
        "colab": {
          "base_uri": "https://localhost:8080/",
          "height": 36
        },
        "id": "y0a9TRKrR68e",
        "outputId": "228b7e9e-1682-4052-9e60-eff5fb945a15"
      },
      "execution_count": null,
      "outputs": [
        {
          "output_type": "execute_result",
          "data": {
            "text/plain": [
              "'I  live  at 50 th street Durba n'"
            ],
            "application/vnd.google.colaboratory.intrinsic+json": {
              "type": "string"
            }
          },
          "metadata": {},
          "execution_count": 31
        }
      ]
    },
    {
      "cell_type": "code",
      "source": [
        "datatypes = None\n",
        "#one must assign a data to variable..so if there is no data use none\n",
        "#none represents nothing"
      ],
      "metadata": {
        "id": "Chawk8ORTyvp"
      },
      "execution_count": null,
      "outputs": []
    },
    {
      "cell_type": "code",
      "source": [
        "#sequence types\n",
        "#this include dictionary,lists,tuples.\n",
        "#tuples are immutable\n",
        "#dictionary{} use the curly brackets.\n",
        "#lists[] use the square set\n",
        "#tuples() use this brackets\n",
        "top_travel_cities = ['Walla Walla ','Marrakesh','Capetown','Lisbon']\n",
        "bucket_list = top_travel_cities[1]\n",
        "bucket_list"
      ],
      "metadata": {
        "colab": {
          "base_uri": "https://localhost:8080/",
          "height": 36
        },
        "id": "lbGtE3RrS6Ry",
        "outputId": "18597b17-8d59-4e09-85f8-09795971d5af"
      },
      "execution_count": null,
      "outputs": [
        {
          "output_type": "execute_result",
          "data": {
            "text/plain": [
              "'Marrakesh'"
            ],
            "application/vnd.google.colaboratory.intrinsic+json": {
              "type": "string"
            }
          },
          "metadata": {},
          "execution_count": 39
        }
      ]
    },
    {
      "cell_type": "code",
      "source": [
        "counties = ('Nairobi', 'Kakamega', 'Nyandarua','Kisumu')\n",
        "type(counties)"
      ],
      "metadata": {
        "colab": {
          "base_uri": "https://localhost:8080/"
        },
        "id": "eycVC2bGVr9Q",
        "outputId": "f4803438-bea0-47d5-ea79-59a79e493b52"
      },
      "execution_count": null,
      "outputs": [
        {
          "output_type": "execute_result",
          "data": {
            "text/plain": [
              "tuple"
            ]
          },
          "metadata": {},
          "execution_count": 41
        }
      ]
    },
    {
      "cell_type": "code",
      "source": [
        "#tuples are immutable ,you can not pop or append\n",
        "counties.pop()"
      ],
      "metadata": {
        "colab": {
          "base_uri": "https://localhost:8080/",
          "height": 146
        },
        "id": "_drsG6_dWBu9",
        "outputId": "c12be6d1-6df4-4346-ef4a-35206dc0af7c"
      },
      "execution_count": null,
      "outputs": [
        {
          "output_type": "error",
          "ename": "AttributeError",
          "evalue": "'tuple' object has no attribute 'pop'",
          "traceback": [
            "\u001b[0;31m---------------------------------------------------------------------------\u001b[0m",
            "\u001b[0;31mAttributeError\u001b[0m                            Traceback (most recent call last)",
            "\u001b[0;32m<ipython-input-42-e49d37bfba0e>\u001b[0m in \u001b[0;36m<cell line: 0>\u001b[0;34m()\u001b[0m\n\u001b[0;32m----> 1\u001b[0;31m \u001b[0mcounties\u001b[0m\u001b[0;34m.\u001b[0m\u001b[0mpop\u001b[0m\u001b[0;34m(\u001b[0m\u001b[0;34m)\u001b[0m\u001b[0;34m\u001b[0m\u001b[0;34m\u001b[0m\u001b[0m\n\u001b[0m",
            "\u001b[0;31mAttributeError\u001b[0m: 'tuple' object has no attribute 'pop'"
          ]
        }
      ]
    },
    {
      "cell_type": "code",
      "source": [
        "#lists are malleable,unlike tuples\n",
        "programming_languages = ['java','java script','python','ruby', 'C++']\n",
        "programming_languages"
      ],
      "metadata": {
        "colab": {
          "base_uri": "https://localhost:8080/"
        },
        "id": "rASIaFUcVc3J",
        "outputId": "b5dbfd18-45f9-4cfc-9dc6-238fdf4ba35c"
      },
      "execution_count": null,
      "outputs": [
        {
          "output_type": "execute_result",
          "data": {
            "text/plain": [
              "['java', 'java script', 'python', 'ruby', 'C++']"
            ]
          },
          "metadata": {},
          "execution_count": 44
        }
      ]
    },
    {
      "cell_type": "code",
      "source": [
        "current = programming_languages[2]\n",
        "current"
      ],
      "metadata": {
        "colab": {
          "base_uri": "https://localhost:8080/",
          "height": 36
        },
        "id": "OMYa3bukXD-E",
        "outputId": "bb33feec-8591-4d0e-f07a-209b84df4a91"
      },
      "execution_count": null,
      "outputs": [
        {
          "output_type": "execute_result",
          "data": {
            "text/plain": [
              "'python'"
            ],
            "application/vnd.google.colaboratory.intrinsic+json": {
              "type": "string"
            }
          },
          "metadata": {},
          "execution_count": 46
        }
      ]
    },
    {
      "cell_type": "code",
      "source": [
        "#when accessing elements in lists we usually use indices.\n",
        "#The first element  called by index 0 and subsequent element with the others.\n",
        "#python in this case is index 2\n",
        "#slicing of list\n",
        "programming_languages[0:3]"
      ],
      "metadata": {
        "colab": {
          "base_uri": "https://localhost:8080/"
        },
        "id": "9ZbPsG7JXQQg",
        "outputId": "795f98a8-0da2-4d09-e4d3-852197404c84"
      },
      "execution_count": null,
      "outputs": [
        {
          "output_type": "execute_result",
          "data": {
            "text/plain": [
              "['java', 'java script', 'python']"
            ]
          },
          "metadata": {},
          "execution_count": 47
        }
      ]
    },
    {
      "cell_type": "code",
      "source": [
        "#dictionaries  usually have a key and a value\n",
        "field_of_biology ={'Biochemistry':1,'molecular biology':2, 'Microbiology':3}\n",
        "field_of_biology"
      ],
      "metadata": {
        "colab": {
          "base_uri": "https://localhost:8080/"
        },
        "id": "Hf6wKEfcYtEB",
        "outputId": "ed9b2ecb-e3fe-4c55-d26c-5bdb454187d3"
      },
      "execution_count": null,
      "outputs": [
        {
          "output_type": "execute_result",
          "data": {
            "text/plain": [
              "{'Biochemistry': 1, 'molecular biology': 2, 'Microbiology': 3}"
            ]
          },
          "metadata": {},
          "execution_count": 49
        }
      ]
    },
    {
      "cell_type": "code",
      "source": [
        "my_bucket_list_travel_countries= {'Portugal':'lisbon', 'South Africa':'Capetown','Morocco':'Marakkesh', 'Malaysia':'Kuala Lumpur','Jordan':'Petra'}\n",
        "my_bucket_list_travel_countries"
      ],
      "metadata": {
        "colab": {
          "base_uri": "https://localhost:8080/"
        },
        "id": "J-Op4t8rdGHw",
        "outputId": "d2fd7e5a-183e-48d9-968b-412fddb5aeeb"
      },
      "execution_count": null,
      "outputs": [
        {
          "output_type": "execute_result",
          "data": {
            "text/plain": [
              "{'Portugal': 'lisbon',\n",
              " 'South Africa': 'Capetown',\n",
              " 'Morocco': 'Marakkesh',\n",
              " 'Malaysia': 'Kuala Lumpur',\n",
              " 'Jordan': 'Petra'}"
            ]
          },
          "metadata": {},
          "execution_count": 51
        }
      ]
    },
    {
      "cell_type": "code",
      "source": [
        "no_1 = my_bucket_list_travel_countries['Jordan']\n",
        "no_1"
      ],
      "metadata": {
        "colab": {
          "base_uri": "https://localhost:8080/",
          "height": 36
        },
        "id": "7DdISmVleOWh",
        "outputId": "f04032d2-c704-4283-cbc3-1d39d23a23ce"
      },
      "execution_count": null,
      "outputs": [
        {
          "output_type": "execute_result",
          "data": {
            "text/plain": [
              "'Petra'"
            ],
            "application/vnd.google.colaboratory.intrinsic+json": {
              "type": "string"
            }
          },
          "metadata": {},
          "execution_count": 53
        }
      ]
    }
  ]
}