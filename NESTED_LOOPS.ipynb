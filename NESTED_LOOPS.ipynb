{
  "nbformat": 4,
  "nbformat_minor": 0,
  "metadata": {
    "colab": {
      "provenance": []
    },
    "kernelspec": {
      "name": "python3",
      "display_name": "Python 3"
    },
    "language_info": {
      "name": "python"
    }
  },
  "cells": [
    {
      "cell_type": "code",
      "execution_count": 3,
      "metadata": {
        "id": "5d56xbUAMRHS"
      },
      "outputs": [],
      "source": [
        "#A nestedlist is a loop inside a loop\n",
        "#This is a nested list\n",
        "_of_lists = [[1,2,3], [4,5,6], [3,5,2]]\n",
        "dict_nested_list = { 'name': \"example\", 'colors': [\"blue\", \"green\", \"yellow\", \"red\"] }"
      ]
    },
    {
      "cell_type": "code",
      "source": [
        "outer_numbers = [1,2,3]\n",
        "inner_words = [\"ONE\", \"TWO\", \"THREE\"]\n",
        "for number in outer_numbers:\n",
        "    print(f\"this is iteration **{number}** of the OUTER loop\")\n",
        "    for word in inner_words:\n",
        "        print(f\"     this is iteration {word} of the INNER loop\")\n",
        "    print(\"\\n\")\n"
      ],
      "metadata": {
        "colab": {
          "base_uri": "https://localhost:8080/"
        },
        "id": "0wdzp3_uSA_C",
        "outputId": "1e67b28a-a958-48c4-ea28-dc6276756ddb"
      },
      "execution_count": 4,
      "outputs": [
        {
          "output_type": "stream",
          "name": "stdout",
          "text": [
            "this is iteration **1** of the OUTER loop\n",
            "     this is iteration ONE of the INNER loop\n",
            "     this is iteration TWO of the INNER loop\n",
            "     this is iteration THREE of the INNER loop\n",
            "\n",
            "\n",
            "this is iteration **2** of the OUTER loop\n",
            "     this is iteration ONE of the INNER loop\n",
            "     this is iteration TWO of the INNER loop\n",
            "     this is iteration THREE of the INNER loop\n",
            "\n",
            "\n",
            "this is iteration **3** of the OUTER loop\n",
            "     this is iteration ONE of the INNER loop\n",
            "     this is iteration TWO of the INNER loop\n",
            "     this is iteration THREE of the INNER loop\n",
            "\n",
            "\n"
          ]
        }
      ]
    }
  ]
}