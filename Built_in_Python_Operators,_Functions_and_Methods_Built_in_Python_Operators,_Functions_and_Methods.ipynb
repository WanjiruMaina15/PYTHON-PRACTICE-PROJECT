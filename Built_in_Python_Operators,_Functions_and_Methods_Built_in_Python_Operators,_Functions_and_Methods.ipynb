{
  "nbformat": 4,
  "nbformat_minor": 0,
  "metadata": {
    "colab": {
      "provenance": []
    },
    "kernelspec": {
      "name": "python3",
      "display_name": "Python 3"
    },
    "language_info": {
      "name": "python"
    }
  },
  "cells": [
    {
      "cell_type": "code",
      "execution_count": null,
      "metadata": {
        "colab": {
          "base_uri": "https://localhost:8080/"
        },
        "id": "39DxDj2xNNMs",
        "outputId": "2c975ec5-1fd8-4f73-a1fc-f0ae345a346d"
      },
      "outputs": [
        {
          "output_type": "stream",
          "name": "stdout",
          "text": [
            "Hellow\n"
          ]
        }
      ],
      "source": [
        "#In Python build in operators include functions and methods.\n",
        "#Functions involve writng their names first and can be used on any datatype\n",
        "#Methods are always bound to a string. eg .capitalize(), .title(), .casefold()\n",
        "type('Hello') #these are functions\n",
        "print('Hellow')"
      ]
    },
    {
      "cell_type": "code",
      "source": [
        "'esther'.capitalize() #this is a method"
      ],
      "metadata": {
        "colab": {
          "base_uri": "https://localhost:8080/",
          "height": 35
        },
        "id": "i-LCbUOjOuFZ",
        "outputId": "7357d14b-ebe6-4f1d-fa3c-3a1a9d024060"
      },
      "execution_count": null,
      "outputs": [
        {
          "output_type": "execute_result",
          "data": {
            "text/plain": [
              "'Esther'"
            ],
            "application/vnd.google.colaboratory.intrinsic+json": {
              "type": "string"
            }
          },
          "metadata": {},
          "execution_count": 50
        }
      ]
    },
    {
      "cell_type": "code",
      "source": [
        "#There are sting methods , list methods, dictionary methods\n",
        "# .pop, .append(), .extend() are used on a list\n",
        "list_append = [1,2,3,4]\n",
        "list_append.append(5)\n",
        "print(list_append)\n"
      ],
      "metadata": {
        "colab": {
          "base_uri": "https://localhost:8080/"
        },
        "id": "xoaBihppPEvb",
        "outputId": "cd140ccc-c9e4-4da3-d2bf-09a24308a49c"
      },
      "execution_count": null,
      "outputs": [
        {
          "output_type": "stream",
          "name": "stdout",
          "text": [
            "[1, 2, 3, 4, 5]\n"
          ]
        }
      ]
    },
    {
      "cell_type": "code",
      "source": [
        "list_append[3]=8\n",
        "list_append"
      ],
      "metadata": {
        "colab": {
          "base_uri": "https://localhost:8080/"
        },
        "id": "2mvpAny8_bYN",
        "outputId": "73d223d8-6e1e-4c25-cd53-b22d2d14bee6"
      },
      "execution_count": null,
      "outputs": [
        {
          "output_type": "execute_result",
          "data": {
            "text/plain": [
              "[1, 2, 3, 8, 5]"
            ]
          },
          "metadata": {},
          "execution_count": 52
        }
      ]
    },
    {
      "cell_type": "code",
      "source": [
        "#Dictionary methods..key(),.value()\n",
        "#keys() is used to return a list-like dict_keys object with the name of each key in the dictionary\n",
        "\n",
        "#.values() is used to return a list-like dict_values object with the values in the dictionary\n"
      ],
      "metadata": {
        "id": "atenW0tXPuxm"
      },
      "execution_count": null,
      "outputs": []
    },
    {
      "cell_type": "code",
      "source": [
        "list_one = [1,2,3]\n",
        "list_two = [4,5,6]\n",
        "list_one.extend(list_two)\n",
        "print(list_one)\n"
      ],
      "metadata": {
        "colab": {
          "base_uri": "https://localhost:8080/"
        },
        "id": "NKNO9Mz6Pf2N",
        "outputId": "f8a60d63-c68c-4d16-8658-50ea78d47c22"
      },
      "execution_count": null,
      "outputs": [
        {
          "output_type": "stream",
          "name": "stdout",
          "text": [
            "[1, 2, 3, 4, 5, 6]\n"
          ]
        }
      ]
    },
    {
      "cell_type": "code",
      "source": [
        "dictionary = {'name-key': 'example-dict', 'key_2': 'value_2', 'num_keys': 3}\n",
        "print(dictionary.keys())\n",
        "print(dictionary.values())\n"
      ],
      "metadata": {
        "colab": {
          "base_uri": "https://localhost:8080/"
        },
        "id": "nPTVEjC3QMfd",
        "outputId": "6cb34331-a5ac-41bc-f9f2-79bae466e61b"
      },
      "execution_count": null,
      "outputs": [
        {
          "output_type": "stream",
          "name": "stdout",
          "text": [
            "dict_keys(['name-key', 'key_2', 'num_keys'])\n",
            "dict_values(['example-dict', 'value_2', 3])\n"
          ]
        }
      ]
    },
    {
      "cell_type": "code",
      "source": [
        "# use the dir function to get the types of methods for each datattype\n",
        "dir(str)# for strings"
      ],
      "metadata": {
        "colab": {
          "base_uri": "https://localhost:8080/"
        },
        "id": "WVxQzu5IQcDQ",
        "outputId": "ccc6873c-1528-432f-8496-f40990bae907"
      },
      "execution_count": null,
      "outputs": [
        {
          "output_type": "execute_result",
          "data": {
            "text/plain": [
              "['__add__',\n",
              " '__class__',\n",
              " '__contains__',\n",
              " '__delattr__',\n",
              " '__dir__',\n",
              " '__doc__',\n",
              " '__eq__',\n",
              " '__format__',\n",
              " '__ge__',\n",
              " '__getattribute__',\n",
              " '__getitem__',\n",
              " '__getnewargs__',\n",
              " '__getstate__',\n",
              " '__gt__',\n",
              " '__hash__',\n",
              " '__init__',\n",
              " '__init_subclass__',\n",
              " '__iter__',\n",
              " '__le__',\n",
              " '__len__',\n",
              " '__lt__',\n",
              " '__mod__',\n",
              " '__mul__',\n",
              " '__ne__',\n",
              " '__new__',\n",
              " '__reduce__',\n",
              " '__reduce_ex__',\n",
              " '__repr__',\n",
              " '__rmod__',\n",
              " '__rmul__',\n",
              " '__setattr__',\n",
              " '__sizeof__',\n",
              " '__str__',\n",
              " '__subclasshook__',\n",
              " 'capitalize',\n",
              " 'casefold',\n",
              " 'center',\n",
              " 'count',\n",
              " 'encode',\n",
              " 'endswith',\n",
              " 'expandtabs',\n",
              " 'find',\n",
              " 'format',\n",
              " 'format_map',\n",
              " 'index',\n",
              " 'isalnum',\n",
              " 'isalpha',\n",
              " 'isascii',\n",
              " 'isdecimal',\n",
              " 'isdigit',\n",
              " 'isidentifier',\n",
              " 'islower',\n",
              " 'isnumeric',\n",
              " 'isprintable',\n",
              " 'isspace',\n",
              " 'istitle',\n",
              " 'isupper',\n",
              " 'join',\n",
              " 'ljust',\n",
              " 'lower',\n",
              " 'lstrip',\n",
              " 'maketrans',\n",
              " 'partition',\n",
              " 'removeprefix',\n",
              " 'removesuffix',\n",
              " 'replace',\n",
              " 'rfind',\n",
              " 'rindex',\n",
              " 'rjust',\n",
              " 'rpartition',\n",
              " 'rsplit',\n",
              " 'rstrip',\n",
              " 'split',\n",
              " 'splitlines',\n",
              " 'startswith',\n",
              " 'strip',\n",
              " 'swapcase',\n",
              " 'title',\n",
              " 'translate',\n",
              " 'upper',\n",
              " 'zfill']"
            ]
          },
          "metadata": {},
          "execution_count": 56
        }
      ]
    },
    {
      "cell_type": "code",
      "source": [
        "dir(dict)"
      ],
      "metadata": {
        "colab": {
          "base_uri": "https://localhost:8080/"
        },
        "id": "_fwNnz4dQqTR",
        "outputId": "a399b43b-844e-4118-9c9b-7aeb02f721f0"
      },
      "execution_count": null,
      "outputs": [
        {
          "output_type": "execute_result",
          "data": {
            "text/plain": [
              "['__class__',\n",
              " '__class_getitem__',\n",
              " '__contains__',\n",
              " '__delattr__',\n",
              " '__delitem__',\n",
              " '__dir__',\n",
              " '__doc__',\n",
              " '__eq__',\n",
              " '__format__',\n",
              " '__ge__',\n",
              " '__getattribute__',\n",
              " '__getitem__',\n",
              " '__getstate__',\n",
              " '__gt__',\n",
              " '__hash__',\n",
              " '__init__',\n",
              " '__init_subclass__',\n",
              " '__ior__',\n",
              " '__iter__',\n",
              " '__le__',\n",
              " '__len__',\n",
              " '__lt__',\n",
              " '__ne__',\n",
              " '__new__',\n",
              " '__or__',\n",
              " '__reduce__',\n",
              " '__reduce_ex__',\n",
              " '__repr__',\n",
              " '__reversed__',\n",
              " '__ror__',\n",
              " '__setattr__',\n",
              " '__setitem__',\n",
              " '__sizeof__',\n",
              " '__str__',\n",
              " '__subclasshook__',\n",
              " 'clear',\n",
              " 'copy',\n",
              " 'fromkeys',\n",
              " 'get',\n",
              " 'items',\n",
              " 'keys',\n",
              " 'pop',\n",
              " 'popitem',\n",
              " 'setdefault',\n",
              " 'update',\n",
              " 'values']"
            ]
          },
          "metadata": {},
          "execution_count": 57
        }
      ]
    },
    {
      "cell_type": "code",
      "source": [
        "# len function can be used to check how many elements are there in a dictionary or a list\n",
        "len({\"this-is\": 'a-dictionary', \"with-two\": \"key value pairs\"})"
      ],
      "metadata": {
        "colab": {
          "base_uri": "https://localhost:8080/"
        },
        "id": "zfb78gpDRSym",
        "outputId": "9e2272c2-1535-4798-f97e-f2dd811059c1"
      },
      "execution_count": null,
      "outputs": [
        {
          "output_type": "execute_result",
          "data": {
            "text/plain": [
              "2"
            ]
          },
          "metadata": {},
          "execution_count": 58
        }
      ]
    },
    {
      "cell_type": "code",
      "source": [
        "len([\"this\", \"is\", 1, \"list\", \"with\", 7, \"elements\"])\n"
      ],
      "metadata": {
        "colab": {
          "base_uri": "https://localhost:8080/"
        },
        "id": "gOwSxvZLRk4O",
        "outputId": "0d4210d4-a3b1-43c6-b5ca-8bb0a6925be1"
      },
      "execution_count": null,
      "outputs": [
        {
          "output_type": "execute_result",
          "data": {
            "text/plain": [
              "7"
            ]
          },
          "metadata": {},
          "execution_count": 59
        }
      ]
    },
    {
      "cell_type": "code",
      "source": [
        "# COMPARISION OPERATORS.\n",
        "\n",
        "#We can  compare strings to see which is alphabetically greater or less.\n",
        "#A string is greater if it comes after another string alphabetically (or if its ASCII value is greater).\n",
        "#An important note is that capital letters have lower ASCII values,\n",
        "#which means that when you make comparisions, uppercase letters will always be less than lowercase letters.\n",
        "#For example, the ASCII alphabet would look something like: A, B, C ... X, Y, Z ... a, b, c ... x, y, z\n",
        "#with A having the lowest ASCII value and z having the highest ASCII value.\n",
        "\"APPLE\" < \"apple\" # True\n"
      ],
      "metadata": {
        "colab": {
          "base_uri": "https://localhost:8080/"
        },
        "id": "-GaQti7CSjEB",
        "outputId": "8fe4586b-3f0e-400b-c255-79978ba28fb5"
      },
      "execution_count": null,
      "outputs": [
        {
          "output_type": "execute_result",
          "data": {
            "text/plain": [
              "True"
            ]
          },
          "metadata": {},
          "execution_count": 60
        }
      ]
    },
    {
      "cell_type": "code",
      "source": [
        "\"aaron\" > \"alexa\""
      ],
      "metadata": {
        "colab": {
          "base_uri": "https://localhost:8080/"
        },
        "id": "tfI-ovwITF4p",
        "outputId": "6d35ece6-3c57-44c4-e3ee-e21c1a237ed0"
      },
      "execution_count": null,
      "outputs": [
        {
          "output_type": "execute_result",
          "data": {
            "text/plain": [
              "False"
            ]
          },
          "metadata": {},
          "execution_count": 61
        }
      ]
    },
    {
      "cell_type": "code",
      "source": [
        "#LOGICAL OPERATORS\n",
        "# 1.and\n",
        "# Evaluates 2 elements x and y; x is evaluated first. If x is falsy, x is returned.\n",
        "    #If x is not falsy, y is evaluated and the resulting value is returned. In other words, both have to be true in order for True to be returned. Otherwise, False is returned.\n",
        "\n",
        "\n",
        "\n",
        "#2. or\n",
        "# Evaluates 2 elements x and y; x is evaluated first. If x is truthy, its value is returned. If x is not truthy, y is evaluated and the resulting value is returned. In other words, if either x or y is True, True is returned. Only if both are false is False returned.\n",
        "\n",
        "\n",
        "#not\n",
        "# returns a boolean value that is the opposite of the truthy/falsy value of the element.\n"
      ],
      "metadata": {
        "id": "P2I6KaVrTki4"
      },
      "execution_count": null,
      "outputs": []
    },
    {
      "cell_type": "code",
      "source": [
        "#CREATING FUNCTIONS.\n",
        "new_employees = ['jim', 'tracy', 'lisa']\n"
      ],
      "metadata": {
        "id": "skTdUVa-nE62"
      },
      "execution_count": null,
      "outputs": []
    },
    {
      "cell_type": "code",
      "source": [
        "welcome_messages = []\n",
        "for new_employee in new_employees:\n",
        "    welcome_messages.append(\"Hi \" + new_employee.title() + \", I'm so glad to be working with you!\" )\n",
        "\n",
        "welcome_messages\n"
      ],
      "metadata": {
        "colab": {
          "base_uri": "https://localhost:8080/"
        },
        "id": "-GFMswuCnG79",
        "outputId": "a9d5727a-af64-4b23-ba46-ff5682c2c212"
      },
      "execution_count": null,
      "outputs": [
        {
          "output_type": "execute_result",
          "data": {
            "text/plain": [
              "[\"Hi Jim, I'm so glad to be working with you!\",\n",
              " \"Hi Tracy, I'm so glad to be working with you!\",\n",
              " \"Hi Lisa, I'm so glad to be working with you!\"]"
            ]
          },
          "metadata": {},
          "execution_count": 64
        }
      ]
    },
    {
      "cell_type": "code",
      "source": [
        "new_employees = ['steven', 'jan', 'meryl']\n"
      ],
      "metadata": {
        "id": "tkg0YvB2n-cm"
      },
      "execution_count": null,
      "outputs": []
    },
    {
      "cell_type": "code",
      "source": [
        "welcome_messages = []\n",
        "for new_employee in new_employees:\n",
        "    welcome_messages.append(\"Hi \" + new_employee.title() + \", I'm so glad to be working with you!\" )\n",
        "\n",
        "welcome_messages\n"
      ],
      "metadata": {
        "colab": {
          "base_uri": "https://localhost:8080/"
        },
        "id": "SAabVrThoIiV",
        "outputId": "31c8a5f7-1724-475f-d1a7-fb95b2d87a72"
      },
      "execution_count": null,
      "outputs": [
        {
          "output_type": "execute_result",
          "data": {
            "text/plain": [
              "[\"Hi Steven, I'm so glad to be working with you!\",\n",
              " \"Hi Jan, I'm so glad to be working with you!\",\n",
              " \"Hi Meryl, I'm so glad to be working with you!\"]"
            ]
          },
          "metadata": {},
          "execution_count": 66
        }
      ]
    },
    {
      "cell_type": "code",
      "source": [
        "#  So what if there was a way to write that code just one time, yet be able to execute that code wherever and whenever we want?\n",
        "#Functions allow us to do just that.\n",
        "def greet_employees():\n",
        "   welcome_messages = []\n",
        "   for new_employee in new_employees:\n",
        "        welcome_messages.append(\"Hi \" + new_employee.title() + \", I'm so glad to be working with you!\" )\n",
        "   return welcome_messages\n"
      ],
      "metadata": {
        "id": "Z09J73fjo1Ox"
      },
      "execution_count": null,
      "outputs": []
    },
    {
      "cell_type": "code",
      "source": [
        "greet_employees()"
      ],
      "metadata": {
        "colab": {
          "base_uri": "https://localhost:8080/"
        },
        "id": "-bPSKlj5o8vE",
        "outputId": "8985377f-cc3b-4b8a-ecf4-d74ffffa2679"
      },
      "execution_count": null,
      "outputs": [
        {
          "output_type": "execute_result",
          "data": {
            "text/plain": [
              "[\"Hi Steven, I'm so glad to be working with you!\",\n",
              " \"Hi Jan, I'm so glad to be working with you!\",\n",
              " \"Hi Meryl, I'm so glad to be working with you!\"]"
            ]
          },
          "metadata": {},
          "execution_count": 68
        }
      ]
    },
    {
      "cell_type": "code",
      "source": [
        "new_employees = ['Jan', 'Joe', 'Avi']\n",
        "greet_employees()\n"
      ],
      "metadata": {
        "colab": {
          "base_uri": "https://localhost:8080/"
        },
        "id": "OBEFhC4wp8Jd",
        "outputId": "a5f172d3-c223-42ba-c685-a80ea7e2accb"
      },
      "execution_count": null,
      "outputs": [
        {
          "output_type": "execute_result",
          "data": {
            "text/plain": [
              "[\"Hi Jan, I'm so glad to be working with you!\",\n",
              " \"Hi Joe, I'm so glad to be working with you!\",\n",
              " \"Hi Avi, I'm so glad to be working with you!\"]"
            ]
          },
          "metadata": {},
          "execution_count": 69
        }
      ]
    },
    {
      "cell_type": "code",
      "source": [
        "#Declaring and using functions\n",
        "#There are two components to declaring a function: the function signature and the function body.\n",
        "def name_of_function(): # signature ,\n",
        "    words = 'function body' # body\n",
        "    print(words) # body\n",
        "#The function signature is the first line of the function.  It follows the pattern of def, function name, parentheses, colon.eg def name_of_function():\n",
        "#def tells Python you are about to declare a function.\n",
        "#function name, indicates how to reference and execute the function later.\n",
        "#he colon is to end the function signature and indicate that the body of the function is next.\n"
      ],
      "metadata": {
        "id": "mUiHoj8xqN71"
      },
      "execution_count": null,
      "outputs": []
    },
    {
      "cell_type": "code",
      "source": [
        "name_of_function()"
      ],
      "metadata": {
        "colab": {
          "base_uri": "https://localhost:8080/"
        },
        "id": "0LnySb0js4LI",
        "outputId": "51868c35-137e-4817-9b0b-e36cb2737e21"
      },
      "execution_count": null,
      "outputs": [
        {
          "output_type": "stream",
          "name": "stdout",
          "text": [
            "function body\n"
          ]
        }
      ]
    },
    {
      "cell_type": "code",
      "source": [
        "#o get something out of the function, we must use the return keyword, followed by what we would like to return.\n",
        "#Let's declare another function called other_function() that has a body which is exactly the same, but has a return statement.\n",
        "def other_function(): # signature\n",
        "    words = 'returned from inside the function body' # body\n",
        "    return words\n"
      ],
      "metadata": {
        "id": "elRFW8J4yiyR"
      },
      "execution_count": null,
      "outputs": []
    },
    {
      "cell_type": "code",
      "source": [
        "other_function()"
      ],
      "metadata": {
        "colab": {
          "base_uri": "https://localhost:8080/",
          "height": 35
        },
        "id": "Nx12pl97y3PK",
        "outputId": "a030865c-da63-4381-ed74-893a5dacae86"
      },
      "execution_count": null,
      "outputs": [
        {
          "output_type": "execute_result",
          "data": {
            "text/plain": [
              "'returned from inside the function body'"
            ],
            "application/vnd.google.colaboratory.intrinsic+json": {
              "type": "string"
            }
          },
          "metadata": {},
          "execution_count": 73
        }
      ]
    },
    {
      "cell_type": "code",
      "source": [
        "travel_destinations = ['argentina', 'mexico', 'italy', 'finland', 'canada', 'croatia']\n",
        "# define function here\n",
        "def number_of_destinations():\n",
        "    return len(travel_destinations)\n"
      ],
      "metadata": {
        "id": "R5tyDeDUznRu"
      },
      "execution_count": null,
      "outputs": []
    },
    {
      "cell_type": "code",
      "source": [
        "number_of_destinations()"
      ],
      "metadata": {
        "colab": {
          "base_uri": "https://localhost:8080/"
        },
        "id": "09GlB-RJzvwO",
        "outputId": "fa65c51d-4c5d-4b8a-ea99-e9b0cc1189b4"
      },
      "execution_count": null,
      "outputs": [
        {
          "output_type": "execute_result",
          "data": {
            "text/plain": [
              "6"
            ]
          },
          "metadata": {},
          "execution_count": 75
        }
      ]
    },
    {
      "cell_type": "code",
      "source": [
        "def next_up():\n",
        "   return travel_destinations[0]\n",
        "\n",
        "next_up()"
      ],
      "metadata": {
        "colab": {
          "base_uri": "https://localhost:8080/",
          "height": 35
        },
        "id": "tZlMa1GC0CSN",
        "outputId": "2f61ccf0-0764-46e9-ab23-466a204467c9"
      },
      "execution_count": null,
      "outputs": [
        {
          "output_type": "execute_result",
          "data": {
            "text/plain": [
              "'argentina'"
            ],
            "application/vnd.google.colaboratory.intrinsic+json": {
              "type": "string"
            }
          },
          "metadata": {},
          "execution_count": 76
        }
      ]
    },
    {
      "cell_type": "code",
      "source": [
        "new_list =[]\n",
        "def capitalize_countries():\n",
        "    for capitalized_countries in travel_destinations:\n",
        "\n",
        "        new_list.append(capitalized_countries.title())\n",
        "    return new_list\n",
        "capitalize_countries()"
      ],
      "metadata": {
        "colab": {
          "base_uri": "https://localhost:8080/"
        },
        "id": "odZ2imXQ477G",
        "outputId": "d13288d7-ee18-477c-a156-73107352bb2b"
      },
      "execution_count": null,
      "outputs": [
        {
          "output_type": "execute_result",
          "data": {
            "text/plain": [
              "['Argentina', 'Mexico', 'Italy', 'Finland', 'Canada', 'Croatia']"
            ]
          },
          "metadata": {},
          "execution_count": 77
        }
      ]
    },
    {
      "cell_type": "code",
      "source": [],
      "metadata": {
        "id": "mAntX1o0_vq1"
      },
      "execution_count": null,
      "outputs": []
    },
    {
      "cell_type": "code",
      "source": [],
      "metadata": {
        "id": "iTcUjbRT_Yt-"
      },
      "execution_count": null,
      "outputs": []
    },
    {
      "cell_type": "code",
      "source": [],
      "metadata": {
        "id": "YgAaK65Q_ae2"
      },
      "execution_count": null,
      "outputs": []
    }
  ]
}