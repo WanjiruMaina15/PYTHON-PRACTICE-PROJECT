{
  "nbformat": 4,
  "nbformat_minor": 0,
  "metadata": {
    "colab": {
      "provenance": []
    },
    "kernelspec": {
      "name": "python3",
      "display_name": "Python 3"
    },
    "language_info": {
      "name": "python"
    }
  },
  "cells": [
    {
      "cell_type": "code",
      "execution_count": null,
      "metadata": {
        "id": "2k0SqHVMpJaX",
        "colab": {
          "base_uri": "https://localhost:8080/"
        },
        "outputId": "7732e65d-167a-4376-c121-84c23729d6b2"
      },
      "outputs": [
        {
          "output_type": "execute_result",
          "data": {
            "text/plain": [
              "2"
            ]
          },
          "metadata": {},
          "execution_count": 1
        }
      ],
      "source": [
        "#addition in python\n",
        "1 + 1"
      ]
    },
    {
      "cell_type": "code",
      "source": [
        "#multiplication in python\n",
        "2*5\n"
      ],
      "metadata": {
        "colab": {
          "base_uri": "https://localhost:8080/"
        },
        "id": "HSRX7namjprb",
        "outputId": "32001548-4d21-4f35-d682-e03e51ea1a78"
      },
      "execution_count": null,
      "outputs": [
        {
          "output_type": "execute_result",
          "data": {
            "text/plain": [
              "10"
            ]
          },
          "metadata": {},
          "execution_count": 2
        }
      ]
    },
    {
      "cell_type": "code",
      "source": [
        "#looking at the data type\n",
        "type(10)"
      ],
      "metadata": {
        "colab": {
          "base_uri": "https://localhost:8080/"
        },
        "id": "a9JLcRrJj4gK",
        "outputId": "76d8cba6-9a0a-475e-d6a9-e53791de8e45"
      },
      "execution_count": null,
      "outputs": [
        {
          "output_type": "execute_result",
          "data": {
            "text/plain": [
              "int"
            ]
          },
          "metadata": {},
          "execution_count": 3
        }
      ]
    },
    {
      "cell_type": "code",
      "source": [
        "type(10.5)"
      ],
      "metadata": {
        "colab": {
          "base_uri": "https://localhost:8080/"
        },
        "id": "JOt3APqLj6_Y",
        "outputId": "dd11616f-c835-4514-c1f2-811723776b07"
      },
      "execution_count": null,
      "outputs": [
        {
          "output_type": "execute_result",
          "data": {
            "text/plain": [
              "float"
            ]
          },
          "metadata": {},
          "execution_count": 4
        }
      ]
    },
    {
      "cell_type": "code",
      "source": [
        "# when you add a float and an integer it becomes a float\n",
        "10 + 10.5"
      ],
      "metadata": {
        "colab": {
          "base_uri": "https://localhost:8080/"
        },
        "id": "mePmfZGej9N-",
        "outputId": "2e981448-78c4-4ac4-c1c1-311582421971"
      },
      "execution_count": null,
      "outputs": [
        {
          "output_type": "execute_result",
          "data": {
            "text/plain": [
              "20.5"
            ]
          },
          "metadata": {},
          "execution_count": 5
        }
      ]
    },
    {
      "cell_type": "code",
      "source": [
        "type(20.5)"
      ],
      "metadata": {
        "colab": {
          "base_uri": "https://localhost:8080/"
        },
        "id": "gYQUprLFkLvC",
        "outputId": "3af94a5c-769e-469d-9923-be7edc5929fa"
      },
      "execution_count": null,
      "outputs": [
        {
          "output_type": "execute_result",
          "data": {
            "text/plain": [
              "float"
            ]
          },
          "metadata": {},
          "execution_count": 6
        }
      ]
    },
    {
      "cell_type": "code",
      "source": [
        "type(True)"
      ],
      "metadata": {
        "colab": {
          "base_uri": "https://localhost:8080/"
        },
        "id": "u3RT3crskWnP",
        "outputId": "cb2cdd00-5b5f-4134-e956-8e59e482f83b"
      },
      "execution_count": null,
      "outputs": [
        {
          "output_type": "execute_result",
          "data": {
            "text/plain": [
              "bool"
            ]
          },
          "metadata": {},
          "execution_count": 7
        }
      ]
    },
    {
      "cell_type": "code",
      "source": [
        "type(False)"
      ],
      "metadata": {
        "colab": {
          "base_uri": "https://localhost:8080/"
        },
        "id": "VlyYIXHNkfsr",
        "outputId": "26611d08-3020-4fbd-b237-cefb868b692e"
      },
      "execution_count": null,
      "outputs": [
        {
          "output_type": "execute_result",
          "data": {
            "text/plain": [
              "bool"
            ]
          },
          "metadata": {},
          "execution_count": 8
        }
      ]
    },
    {
      "cell_type": "code",
      "source": [
        "\"Homer Simpson\".endswith(\"Simpson\")"
      ],
      "metadata": {
        "colab": {
          "base_uri": "https://localhost:8080/"
        },
        "id": "PtRyLWxEkh9U",
        "outputId": "30cc2254-b036-4edc-c664-4f513a88bfb2"
      },
      "execution_count": null,
      "outputs": [
        {
          "output_type": "execute_result",
          "data": {
            "text/plain": [
              "True"
            ]
          },
          "metadata": {},
          "execution_count": 9
        }
      ]
    },
    {
      "cell_type": "code",
      "source": [
        "\"Homer Simpson\".endswith(\"Homer\")"
      ],
      "metadata": {
        "colab": {
          "base_uri": "https://localhost:8080/"
        },
        "id": "xt_XsPmeklxX",
        "outputId": "676e777f-d402-42dd-e3b5-916e59a5c985"
      },
      "execution_count": null,
      "outputs": [
        {
          "output_type": "execute_result",
          "data": {
            "text/plain": [
              "False"
            ]
          },
          "metadata": {},
          "execution_count": 10
        }
      ]
    },
    {
      "cell_type": "code",
      "source": [
        "3 * 5 < 10"
      ],
      "metadata": {
        "colab": {
          "base_uri": "https://localhost:8080/"
        },
        "id": "yF_gQhoLkrqT",
        "outputId": "a329df6c-406a-40da-8511-af5de3967588"
      },
      "execution_count": null,
      "outputs": [
        {
          "output_type": "execute_result",
          "data": {
            "text/plain": [
              "False"
            ]
          },
          "metadata": {},
          "execution_count": 11
        }
      ]
    },
    {
      "cell_type": "code",
      "source": [
        "55 + 20 > 100"
      ],
      "metadata": {
        "colab": {
          "base_uri": "https://localhost:8080/"
        },
        "id": "9TtF6Xlqk1XJ",
        "outputId": "36ec7667-6542-4a62-c6ae-8eb70b4a19cb"
      },
      "execution_count": null,
      "outputs": [
        {
          "output_type": "execute_result",
          "data": {
            "text/plain": [
              "False"
            ]
          },
          "metadata": {},
          "execution_count": 12
        }
      ]
    },
    {
      "cell_type": "code",
      "source": [
        "15 + 15 == 30"
      ],
      "metadata": {
        "colab": {
          "base_uri": "https://localhost:8080/"
        },
        "id": "UwDspNZuk8z3",
        "outputId": "b23b010f-312b-4cf4-bae3-62a836486839"
      },
      "execution_count": null,
      "outputs": [
        {
          "output_type": "execute_result",
          "data": {
            "text/plain": [
              "True"
            ]
          },
          "metadata": {},
          "execution_count": 13
        }
      ]
    },
    {
      "cell_type": "code",
      "source": [
        "15 + 15 != 30"
      ],
      "metadata": {
        "colab": {
          "base_uri": "https://localhost:8080/"
        },
        "id": "4F2LC4TElCtJ",
        "outputId": "e5f7d8ea-f7db-4136-fd3c-1907e647e373"
      },
      "execution_count": null,
      "outputs": [
        {
          "output_type": "execute_result",
          "data": {
            "text/plain": [
              "False"
            ]
          },
          "metadata": {},
          "execution_count": 14
        }
      ]
    },
    {
      "cell_type": "code",
      "source": [
        "str(34) + 'th Street'"
      ],
      "metadata": {
        "colab": {
          "base_uri": "https://localhost:8080/",
          "height": 35
        },
        "id": "d8nr-vE3lP9y",
        "outputId": "29e9b4c5-0a9c-4a24-ee3c-ff68ce0f2ffe"
      },
      "execution_count": null,
      "outputs": [
        {
          "output_type": "execute_result",
          "data": {
            "text/plain": [
              "'34th Street'"
            ],
            "application/vnd.google.colaboratory.intrinsic+json": {
              "type": "string"
            }
          },
          "metadata": {},
          "execution_count": 15
        }
      ]
    },
    {
      "cell_type": "code",
      "source": [
        "bool(10)"
      ],
      "metadata": {
        "colab": {
          "base_uri": "https://localhost:8080/"
        },
        "id": "wZsZzPncl81N",
        "outputId": "5b625ba2-fd42-4c77-e44a-488926cb1737"
      },
      "execution_count": null,
      "outputs": [
        {
          "output_type": "execute_result",
          "data": {
            "text/plain": [
              "True"
            ]
          },
          "metadata": {},
          "execution_count": 16
        }
      ]
    },
    {
      "cell_type": "code",
      "source": [
        "bool(20)"
      ],
      "metadata": {
        "colab": {
          "base_uri": "https://localhost:8080/"
        },
        "id": "ymAyAJIlnT8Z",
        "outputId": "ca9d8388-91aa-4114-cf89-7cb21fb448af"
      },
      "execution_count": null,
      "outputs": [
        {
          "output_type": "execute_result",
          "data": {
            "text/plain": [
              "True"
            ]
          },
          "metadata": {},
          "execution_count": 17
        }
      ]
    },
    {
      "cell_type": "code",
      "source": [
        "bool(0)"
      ],
      "metadata": {
        "colab": {
          "base_uri": "https://localhost:8080/"
        },
        "id": "IJaAE8d8mEpS",
        "outputId": "e06a3e36-5607-4309-b44a-b7f2b410fd95"
      },
      "execution_count": null,
      "outputs": [
        {
          "output_type": "execute_result",
          "data": {
            "text/plain": [
              "False"
            ]
          },
          "metadata": {},
          "execution_count": 18
        }
      ]
    },
    {
      "cell_type": "code",
      "source": [
        "bool(-1)"
      ],
      "metadata": {
        "colab": {
          "base_uri": "https://localhost:8080/"
        },
        "id": "mvxcXbIfnii5",
        "outputId": "832abeae-9f80-46c7-c207-c25d1a0a9313"
      },
      "execution_count": null,
      "outputs": [
        {
          "output_type": "execute_result",
          "data": {
            "text/plain": [
              "True"
            ]
          },
          "metadata": {},
          "execution_count": 19
        }
      ]
    },
    {
      "cell_type": "code",
      "source": [
        "bool(0.5)"
      ],
      "metadata": {
        "colab": {
          "base_uri": "https://localhost:8080/"
        },
        "id": "3pOhHaHHnpyp",
        "outputId": "c37d81ee-8ffd-42d8-dba9-e9c79cbac89e"
      },
      "execution_count": null,
      "outputs": [
        {
          "output_type": "execute_result",
          "data": {
            "text/plain": [
              "True"
            ]
          },
          "metadata": {},
          "execution_count": 20
        }
      ]
    },
    {
      "cell_type": "code",
      "source": [
        "#### CONDITIONALS"
      ],
      "metadata": {
        "id": "VSkqIb70nxJc"
      },
      "execution_count": null,
      "outputs": []
    },
    {
      "cell_type": "markdown",
      "source": [
        "# New Section"
      ],
      "metadata": {
        "id": "ae82BpjL3vE7"
      }
    },
    {
      "cell_type": "code",
      "source": [
        "print(\"MY NAME IS CHRISTINE\")"
      ],
      "metadata": {
        "colab": {
          "base_uri": "https://localhost:8080/"
        },
        "id": "zEWE1UNGsP25",
        "outputId": "86aa4a0a-c5ae-48f8-97c5-aa9179639b4d"
      },
      "execution_count": null,
      "outputs": [
        {
          "output_type": "stream",
          "name": "stdout",
          "text": [
            "MY NAME IS CHRISTINE\n"
          ]
        }
      ]
    },
    {
      "cell_type": "code",
      "source": [
        "vacation_days = 1\n",
        "goals_met = True\n",
        "if goals_met:\n",
        "    # all code indented under the if statement is the block\n",
        "    # indented code runs since conditional argument is True\n",
        "    vacation_days += 1\n",
        "    print(\"vacation_days = \", vacation_days)\n",
        "    print(\"we incremented vacation days\")\n",
        "#vacation_days"
      ],
      "metadata": {
        "colab": {
          "base_uri": "https://localhost:8080/"
        },
        "id": "Prlc9fydud0I",
        "outputId": "2b5f5439-d3c1-479b-a98c-baf7150a7c91"
      },
      "execution_count": null,
      "outputs": [
        {
          "output_type": "stream",
          "name": "stdout",
          "text": [
            "vacation_days =  2\n",
            "we incremented vacation days\n"
          ]
        }
      ]
    },
    {
      "cell_type": "code",
      "source": [
        "valentine_days = 0\n",
        "friend = True\n",
        "lover = False\n",
        "if friend :\n",
        "  valentine_days += 1\n",
        "  print(\"mungu amenionekania valentine days ni\", valentine_days)\n",
        "elif lover :\n",
        "  valentine_days += 2\n",
        "  print(\"mapenzi tele valentine days ni\", valentine_days)\n",
        "else :\n",
        "  print(\"uchumi ni mbaya\")\n",
        "#valentine_days\n"
      ],
      "metadata": {
        "colab": {
          "base_uri": "https://localhost:8080/"
        },
        "id": "oozjZDshwnqv",
        "outputId": "77a94b47-0391-48f2-b8b6-02baff5d59fa"
      },
      "execution_count": null,
      "outputs": [
        {
          "output_type": "stream",
          "name": "stdout",
          "text": [
            "mungu amenionekania valentine days ni 1\n"
          ]
        }
      ]
    },
    {
      "cell_type": "code",
      "source": [
        "greeting = \"\"\n",
        "if greeting:\n",
        "    greeting += 'Hello'\n",
        "else:\n",
        "    greeting += 'Goodbye'\n",
        "greeting"
      ],
      "metadata": {
        "colab": {
          "base_uri": "https://localhost:8080/",
          "height": 35
        },
        "id": "Pe4AhA3o1925",
        "outputId": "bbe679e8-7063-473d-b946-b4c8e5c23925"
      },
      "execution_count": null,
      "outputs": [
        {
          "output_type": "execute_result",
          "data": {
            "text/plain": [
              "'Goodbye'"
            ],
            "application/vnd.google.colaboratory.intrinsic+json": {
              "type": "string"
            }
          },
          "metadata": {},
          "execution_count": 25
        }
      ]
    },
    {
      "cell_type": "code",
      "source": [
        "number_of_days = 7\n",
        "if number_of_days > 5:\n",
        "    print(\"#disruptive\")\n",
        "else:\n",
        "    print(\"#average\")"
      ],
      "metadata": {
        "colab": {
          "base_uri": "https://localhost:8080/"
        },
        "id": "TF_Aqc2P2exL",
        "outputId": "03224a6c-555d-4453-dfda-e365afe12ab6"
      },
      "execution_count": null,
      "outputs": [
        {
          "output_type": "stream",
          "name": "stdout",
          "text": [
            "#disruptive\n"
          ]
        }
      ]
    },
    {
      "cell_type": "code",
      "source": [
        "cutpoint = 70\n",
        "if cutpoint >= 70:\n",
        "   print(\"excellent\")\n",
        "else:\n",
        "   print(\"jikakamue\")\n"
      ],
      "metadata": {
        "colab": {
          "base_uri": "https://localhost:8080/"
        },
        "id": "e6Y-Nxn32rDy",
        "outputId": "8561badd-6d3d-4e45-a710-c44033d47ca0"
      },
      "execution_count": null,
      "outputs": [
        {
          "output_type": "stream",
          "name": "stdout",
          "text": [
            "excellent\n"
          ]
        }
      ]
    },
    {
      "cell_type": "code",
      "source": [],
      "metadata": {
        "id": "v2wKgaH1jwXA"
      },
      "execution_count": null,
      "outputs": []
    },
    {
      "cell_type": "code",
      "source": [
        "i = 1\n",
        "while i < 6:\n",
        "  print(i)\n",
        "  i += 1"
      ],
      "metadata": {
        "colab": {
          "base_uri": "https://localhost:8080/"
        },
        "id": "501dvyApbRDu",
        "outputId": "633c7231-cf8c-4111-b228-e0de87910f82"
      },
      "execution_count": null,
      "outputs": [
        {
          "output_type": "stream",
          "name": "stdout",
          "text": [
            "1\n",
            "2\n",
            "3\n",
            "4\n",
            "5\n"
          ]
        }
      ]
    },
    {
      "cell_type": "code",
      "source": [],
      "metadata": {
        "id": "djF7tblWjuqn"
      },
      "execution_count": null,
      "outputs": []
    },
    {
      "cell_type": "markdown",
      "source": [
        "# ***WHILE LOOPS***"
      ],
      "metadata": {
        "id": "H1-2JQ6RkLR1"
      }
    },
    {
      "cell_type": "code",
      "source": [
        "grade = 50\n",
        "while grade < 100:\n",
        "      print(grade)\n",
        "      grade += 10"
      ],
      "metadata": {
        "colab": {
          "base_uri": "https://localhost:8080/"
        },
        "id": "QG0_Xpygb-qm",
        "outputId": "37346a21-9408-49f8-9e0b-a0e6d6070c81"
      },
      "execution_count": null,
      "outputs": [
        {
          "output_type": "stream",
          "name": "stdout",
          "text": [
            "50\n",
            "60\n",
            "70\n",
            "80\n",
            "90\n"
          ]
        }
      ]
    },
    {
      "cell_type": "markdown",
      "source": [],
      "metadata": {
        "id": "HxjKuM9-j3yF"
      }
    },
    {
      "cell_type": "code",
      "source": [
        "grade = 50\n",
        "while grade < 100:\n",
        "      print(grade)\n",
        "      if grade == 80:\n",
        "        break\n",
        "      grade += 10"
      ],
      "metadata": {
        "colab": {
          "base_uri": "https://localhost:8080/"
        },
        "outputId": "0e214ade-b9c6-4d98-89ee-e97bc3f9fe0d",
        "id": "Vu8HOJKvcxZn"
      },
      "execution_count": null,
      "outputs": [
        {
          "output_type": "stream",
          "name": "stdout",
          "text": [
            "50\n",
            "60\n",
            "70\n",
            "80\n"
          ]
        }
      ]
    },
    {
      "cell_type": "code",
      "source": [
        "i = 1\n",
        "while i < 6:\n",
        "  print(i)\n",
        "  if i == 3:\n",
        "    break\n",
        "  i += 1"
      ],
      "metadata": {
        "colab": {
          "base_uri": "https://localhost:8080/"
        },
        "id": "QibLxZFvcjJT",
        "outputId": "80d9ad67-45ed-439d-dd30-283937223537"
      },
      "execution_count": null,
      "outputs": [
        {
          "output_type": "stream",
          "name": "stdout",
          "text": [
            "1\n",
            "2\n",
            "3\n"
          ]
        }
      ]
    },
    {
      "cell_type": "code",
      "source": [
        "i = 0\n",
        "while i < 6:\n",
        "  i += 1\n",
        "  if i == 3:\n",
        "    continue\n",
        "  print(i)"
      ],
      "metadata": {
        "colab": {
          "base_uri": "https://localhost:8080/"
        },
        "id": "iBWlwj2XdRGZ",
        "outputId": "963cda15-24fb-437c-c54b-bc0a88ec67cd"
      },
      "execution_count": null,
      "outputs": [
        {
          "output_type": "stream",
          "name": "stdout",
          "text": [
            "1\n",
            "2\n",
            "4\n",
            "5\n",
            "6\n"
          ]
        }
      ]
    },
    {
      "cell_type": "code",
      "source": [
        "grade = 50\n",
        "while grade < 100:\n",
        "       grade += 10\n",
        "       if grade == 80:\n",
        "        continue\n",
        "       print(grade)"
      ],
      "metadata": {
        "colab": {
          "base_uri": "https://localhost:8080/"
        },
        "outputId": "00dedc3e-4ef9-4849-9e46-cc66d8061c4d",
        "id": "zfRrh6JFdxHt"
      },
      "execution_count": null,
      "outputs": [
        {
          "output_type": "stream",
          "name": "stdout",
          "text": [
            "60\n",
            "70\n",
            "90\n",
            "100\n"
          ]
        }
      ]
    },
    {
      "cell_type": "code",
      "source": [
        "i = 1\n",
        "while i < 6:\n",
        "  print(i)\n",
        "  i += 1\n",
        "else:\n",
        "  print(\"i is no longer less than 6\")"
      ],
      "metadata": {
        "id": "xxi7cGSaebpG",
        "colab": {
          "base_uri": "https://localhost:8080/"
        },
        "outputId": "1672553c-e7f2-4b84-c6be-d2b8a21bdbd7"
      },
      "execution_count": null,
      "outputs": [
        {
          "output_type": "stream",
          "name": "stdout",
          "text": [
            "1\n",
            "2\n",
            "3\n",
            "4\n",
            "5\n",
            "i is no longer less than 6\n"
          ]
        }
      ]
    },
    {
      "cell_type": "code",
      "source": [
        "grade = 50\n",
        "while grade < 100:\n",
        "      print(grade)\n",
        "      grade += 10\n",
        "else:\n",
        "  print(\"Huyu amepita excess\")"
      ],
      "metadata": {
        "colab": {
          "base_uri": "https://localhost:8080/"
        },
        "outputId": "fee74aed-d899-4f25-af85-7255b1c90c51",
        "id": "Ix8MkbC0jMsq"
      },
      "execution_count": null,
      "outputs": [
        {
          "output_type": "stream",
          "name": "stdout",
          "text": [
            "50\n",
            "60\n",
            "70\n",
            "80\n",
            "90\n",
            "Huyu amepita excess\n"
          ]
        }
      ]
    }
  ]
}