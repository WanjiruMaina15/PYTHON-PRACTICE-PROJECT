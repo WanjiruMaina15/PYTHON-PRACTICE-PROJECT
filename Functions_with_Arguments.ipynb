{
  "nbformat": 4,
  "nbformat_minor": 0,
  "metadata": {
    "colab": {
      "provenance": [],
      "authorship_tag": "ABX9TyPtuBlLFAHWhXZIkYwL+Xm2",
      "include_colab_link": true
    },
    "kernelspec": {
      "name": "python3",
      "display_name": "Python 3"
    },
    "language_info": {
      "name": "python"
    }
  },
  "cells": [
    {
      "cell_type": "markdown",
      "metadata": {
        "id": "view-in-github",
        "colab_type": "text"
      },
      "source": [
        "<a href=\"https://colab.research.google.com/github/WanjiruMaina15/PYTHON-PRACTICE-PROJECT/blob/main/Functions_with_Arguments.ipynb\" target=\"_parent\"><img src=\"https://colab.research.google.com/assets/colab-badge.svg\" alt=\"Open In Colab\"/></a>"
      ]
    },
    {
      "cell_type": "code",
      "execution_count": 1,
      "metadata": {
        "id": "6pAtLMUkIDob"
      },
      "outputs": [],
      "source": [
        "def meet_traveller():\n",
        "    welcome_message = \"Hi \" + traveller.title() + \", I'm so glad we'll be going on the trip together!\"\n",
        "    return welcome_message # return statement\n"
      ]
    },
    {
      "cell_type": "code",
      "source": [
        "meet_traveller()"
      ],
      "metadata": {
        "colab": {
          "base_uri": "https://localhost:8080/",
          "height": 228
        },
        "id": "ZhihpmQKJPJg",
        "outputId": "c1a2c211-0904-462b-c10e-173359b93708"
      },
      "execution_count": 2,
      "outputs": [
        {
          "output_type": "error",
          "ename": "NameError",
          "evalue": "name 'traveller' is not defined",
          "traceback": [
            "\u001b[0;31m---------------------------------------------------------------------------\u001b[0m",
            "\u001b[0;31mNameError\u001b[0m                                 Traceback (most recent call last)",
            "\u001b[0;32m<ipython-input-2-f6a9d4fa9473>\u001b[0m in \u001b[0;36m<cell line: 0>\u001b[0;34m()\u001b[0m\n\u001b[0;32m----> 1\u001b[0;31m \u001b[0mmeet_traveller\u001b[0m\u001b[0;34m(\u001b[0m\u001b[0;34m)\u001b[0m\u001b[0;34m\u001b[0m\u001b[0;34m\u001b[0m\u001b[0m\n\u001b[0m",
            "\u001b[0;32m<ipython-input-1-0f8a0b87e7e6>\u001b[0m in \u001b[0;36mmeet_traveller\u001b[0;34m()\u001b[0m\n\u001b[1;32m      1\u001b[0m \u001b[0;32mdef\u001b[0m \u001b[0mmeet_traveller\u001b[0m\u001b[0;34m(\u001b[0m\u001b[0;34m)\u001b[0m\u001b[0;34m:\u001b[0m\u001b[0;34m\u001b[0m\u001b[0;34m\u001b[0m\u001b[0m\n\u001b[0;32m----> 2\u001b[0;31m     \u001b[0mwelcome_message\u001b[0m \u001b[0;34m=\u001b[0m \u001b[0;34m\"Hi \"\u001b[0m \u001b[0;34m+\u001b[0m \u001b[0mtraveller\u001b[0m\u001b[0;34m.\u001b[0m\u001b[0mtitle\u001b[0m\u001b[0;34m(\u001b[0m\u001b[0;34m)\u001b[0m \u001b[0;34m+\u001b[0m \u001b[0;34m\", I'm so glad we'll be going on the trip together!\"\u001b[0m\u001b[0;34m\u001b[0m\u001b[0;34m\u001b[0m\u001b[0m\n\u001b[0m\u001b[1;32m      3\u001b[0m     \u001b[0;32mreturn\u001b[0m \u001b[0mwelcome_message\u001b[0m \u001b[0;31m# return statement\u001b[0m\u001b[0;34m\u001b[0m\u001b[0;34m\u001b[0m\u001b[0m\n",
            "\u001b[0;31mNameError\u001b[0m: name 'traveller' is not defined"
          ]
        }
      ]
    },
    {
      "cell_type": "code",
      "source": [
        "def meet(traveller):\n",
        "    welcome_message = \"Hi \" + traveller.title() + \", I'm so glad we'll be going on the trip together!\"\n",
        "    return welcome_message\n"
      ],
      "metadata": {
        "id": "h-8Wy7oGJqhk"
      },
      "execution_count": 4,
      "outputs": []
    },
    {
      "cell_type": "code",
      "source": [
        "meet()"
      ],
      "metadata": {
        "colab": {
          "base_uri": "https://localhost:8080/",
          "height": 141
        },
        "id": "uQQ4aFgDJt2s",
        "outputId": "e86a3300-c697-44fa-b52a-1c6d708a2e8a"
      },
      "execution_count": 5,
      "outputs": [
        {
          "output_type": "error",
          "ename": "TypeError",
          "evalue": "meet() missing 1 required positional argument: 'traveller'",
          "traceback": [
            "\u001b[0;31m---------------------------------------------------------------------------\u001b[0m",
            "\u001b[0;31mTypeError\u001b[0m                                 Traceback (most recent call last)",
            "\u001b[0;32m<ipython-input-5-c60a3be83cb4>\u001b[0m in \u001b[0;36m<cell line: 0>\u001b[0;34m()\u001b[0m\n\u001b[0;32m----> 1\u001b[0;31m \u001b[0mmeet\u001b[0m\u001b[0;34m(\u001b[0m\u001b[0;34m)\u001b[0m\u001b[0;34m\u001b[0m\u001b[0;34m\u001b[0m\u001b[0m\n\u001b[0m",
            "\u001b[0;31mTypeError\u001b[0m: meet() missing 1 required positional argument: 'traveller'"
          ]
        }
      ]
    },
    {
      "cell_type": "code",
      "source": [
        "meet('Sally')"
      ],
      "metadata": {
        "colab": {
          "base_uri": "https://localhost:8080/",
          "height": 35
        },
        "id": "ZuA765PMUsOE",
        "outputId": "84e61362-2873-48d8-d3aa-0c4500f80af8"
      },
      "execution_count": 6,
      "outputs": [
        {
          "output_type": "execute_result",
          "data": {
            "text/plain": [
              "\"Hi Sally, I'm so glad we'll be going on the trip together!\""
            ],
            "application/vnd.google.colaboratory.intrinsic+json": {
              "type": "string"
            }
          },
          "metadata": {},
          "execution_count": 6
        }
      ]
    },
    {
      "cell_type": "code",
      "source": [
        "def meet(traveller):\n",
        "                              # \"sally\"\n",
        "    welcome_message = \"Hi \" + traveller.title() + \", I'm so glad we'll be going on the trip together!\"\n",
        "    return welcome_message\n",
        "meet('Fred')"
      ],
      "metadata": {
        "colab": {
          "base_uri": "https://localhost:8080/",
          "height": 35
        },
        "id": "hKPY0GnFVpav",
        "outputId": "0c683d21-9c0f-42ee-a329-d31f7c7d1ec5"
      },
      "execution_count": 7,
      "outputs": [
        {
          "output_type": "execute_result",
          "data": {
            "text/plain": [
              "\"Hi Fred, I'm so glad we'll be going on the trip together!\""
            ],
            "application/vnd.google.colaboratory.intrinsic+json": {
              "type": "string"
            }
          },
          "metadata": {},
          "execution_count": 7
        }
      ]
    },
    {
      "cell_type": "code",
      "source": [
        "def find_the_mean(list_nums):#Parameter\n",
        "    length = len(list_nums)\n",
        "    total = sum(list_nums)\n",
        "    return total/length\n",
        "\n",
        "find_the_mean([1, 2, 3, 4, 5, 6, 7, 8, 9, 10])# argument\n"
      ],
      "metadata": {
        "colab": {
          "base_uri": "https://localhost:8080/"
        },
        "id": "G42RR8hOWEnI",
        "outputId": "5d65322a-8622-401d-b5e1-fa2304a97417"
      },
      "execution_count": 10,
      "outputs": [
        {
          "output_type": "execute_result",
          "data": {
            "text/plain": [
              "5.5"
            ]
          },
          "metadata": {},
          "execution_count": 10
        }
      ]
    },
    {
      "cell_type": "code",
      "source": [
        "area_one_pops = [10453, 12383, 8034, 800835, 76434, 32394]\n",
        "find_the_mean(area_one_pops)\n"
      ],
      "metadata": {
        "id": "jENoolkrunPN"
      },
      "execution_count": null,
      "outputs": []
    },
    {
      "cell_type": "code",
      "source": [
        "area_two_pops = [43845, 54930, 59354, 96403, 73492, 729320]\n",
        "find_the_mean(area_two_pops)\n"
      ],
      "metadata": {
        "colab": {
          "base_uri": "https://localhost:8080/"
        },
        "id": "S1ibRJleWqZp",
        "outputId": "e7ed814c-4966-47fa-cb54-78ec54e3c678"
      },
      "execution_count": 11,
      "outputs": [
        {
          "output_type": "execute_result",
          "data": {
            "text/plain": [
              "176224.0"
            ]
          },
          "metadata": {},
          "execution_count": 11
        }
      ]
    },
    {
      "cell_type": "code",
      "source": [
        "def find_biggest_pop(list_pops_one, list_pops_two):\n",
        "    mean_one = find_the_mean(list_pops_one)\n",
        "    mean_two = find_the_mean(list_pops_two)\n",
        "    if (mean_one > mean_two):\n",
        "        return print(\"The first list,\", list_pops_one ,\" has the larger mean population\")\n",
        "    else:\n",
        "        return print(\"The second list,\", list_pops_two ,\"has the larger mean population\")\n",
        "find_biggest_pop(a)\n"
      ],
      "metadata": {
        "id": "cuXD3PboXFmQ"
      },
      "execution_count": 12,
      "outputs": []
    }
  ]
}