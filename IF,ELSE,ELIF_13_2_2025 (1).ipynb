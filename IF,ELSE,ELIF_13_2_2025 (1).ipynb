{
  "nbformat": 4,
  "nbformat_minor": 0,
  "metadata": {
    "colab": {
      "provenance": []
    },
    "kernelspec": {
      "name": "python3",
      "display_name": "Python 3"
    },
    "language_info": {
      "name": "python"
    }
  },
  "cells": [
    {
      "cell_type": "code",
      "execution_count": null,
      "metadata": {
        "colab": {
          "base_uri": "https://localhost:8080/"
        },
        "id": "50ZBkfXKIofC",
        "outputId": "fa2db9ba-01c6-4b64-8555-a7ab6daa23a1"
      },
      "outputs": [
        {
          "output_type": "execute_result",
          "data": {
            "text/plain": [
              "30"
            ]
          },
          "metadata": {},
          "execution_count": 15
        }
      ],
      "source": [
        "#changing numbers to strings in Python\n",
        "counts = 30\n",
        "number_string = str(counts)\n",
        "counts"
      ]
    },
    {
      "cell_type": "code",
      "source": [
        "#Boolean values (True and False) can also be used in mathematical equations.\n",
        "# True is set to 1 and False is set to 0.\n",
        "bool(1)"
      ],
      "metadata": {
        "colab": {
          "base_uri": "https://localhost:8080/"
        },
        "id": "gv7OrOjkJBdY",
        "outputId": "ba8632b6-f4ed-40ec-c886-810ef546db40"
      },
      "execution_count": null,
      "outputs": [
        {
          "output_type": "execute_result",
          "data": {
            "text/plain": [
              "True"
            ]
          },
          "metadata": {},
          "execution_count": 14
        }
      ]
    },
    {
      "cell_type": "code",
      "source": [
        "#True is set to 1\n",
        "True + 5 + True\n"
      ],
      "metadata": {
        "colab": {
          "base_uri": "https://localhost:8080/"
        },
        "id": "Oi3RgNxoW9px",
        "outputId": "a720ed1e-0611-46f5-a08c-73ab0e7c72ab"
      },
      "execution_count": null,
      "outputs": [
        {
          "output_type": "execute_result",
          "data": {
            "text/plain": [
              "7"
            ]
          },
          "metadata": {},
          "execution_count": 37
        }
      ]
    },
    {
      "cell_type": "code",
      "source": [
        "True * 4\n"
      ],
      "metadata": {
        "colab": {
          "base_uri": "https://localhost:8080/"
        },
        "id": "kJcEZgBIXN6a",
        "outputId": "102a0a5e-e702-472b-e4d6-5c5e3a4267f7"
      },
      "execution_count": null,
      "outputs": [
        {
          "output_type": "execute_result",
          "data": {
            "text/plain": [
              "4"
            ]
          },
          "metadata": {},
          "execution_count": 38
        }
      ]
    },
    {
      "cell_type": "code",
      "source": [
        "False *4"
      ],
      "metadata": {
        "colab": {
          "base_uri": "https://localhost:8080/"
        },
        "id": "oIUlpiYwXnxj",
        "outputId": "b9bc37be-3bd8-406e-9f3f-a397a066c881"
      },
      "execution_count": null,
      "outputs": [
        {
          "output_type": "execute_result",
          "data": {
            "text/plain": [
              "0"
            ]
          },
          "metadata": {},
          "execution_count": 39
        }
      ]
    },
    {
      "cell_type": "code",
      "source": [
        "False +False *True"
      ],
      "metadata": {
        "colab": {
          "base_uri": "https://localhost:8080/"
        },
        "id": "INz1aDEuXv_C",
        "outputId": "27cb3f27-3312-464a-c9cb-7d291c84a7c4"
      },
      "execution_count": null,
      "outputs": [
        {
          "output_type": "execute_result",
          "data": {
            "text/plain": [
              "0"
            ]
          },
          "metadata": {},
          "execution_count": 40
        }
      ]
    },
    {
      "cell_type": "code",
      "source": [
        "#When you add an interger and a float you get a float\n",
        "10 + 0.75\n"
      ],
      "metadata": {
        "colab": {
          "base_uri": "https://localhost:8080/"
        },
        "id": "I0VtpfBxKo4n",
        "outputId": "0473125d-ff57-4158-d1ae-b3bf0a9171ab"
      },
      "execution_count": null,
      "outputs": [
        {
          "output_type": "execute_result",
          "data": {
            "text/plain": [
              "10.75"
            ]
          },
          "metadata": {},
          "execution_count": 13
        }
      ]
    },
    {
      "cell_type": "code",
      "source": [
        "type(10.75)"
      ],
      "metadata": {
        "colab": {
          "base_uri": "https://localhost:8080/"
        },
        "id": "TyQBLVZuK06h",
        "outputId": "062f693e-be7e-49e5-d174-73fb4dd7a9a9"
      },
      "execution_count": null,
      "outputs": [
        {
          "output_type": "execute_result",
          "data": {
            "text/plain": [
              "float"
            ]
          },
          "metadata": {},
          "execution_count": 8
        }
      ]
    },
    {
      "cell_type": "code",
      "source": [
        "#example of boolean as a string\n",
        "#In Python we use the == to mean equal to as = is used to assign variables data\n",
        "'Homper Simpson'== 'homer Simpson'"
      ],
      "metadata": {
        "colab": {
          "base_uri": "https://localhost:8080/"
        },
        "id": "3AeANlUjLDNH",
        "outputId": "1967fccc-0c7a-44a8-a1d6-19f23d610463"
      },
      "execution_count": null,
      "outputs": [
        {
          "output_type": "execute_result",
          "data": {
            "text/plain": [
              "False"
            ]
          },
          "metadata": {},
          "execution_count": 24
        }
      ]
    },
    {
      "cell_type": "code",
      "source": [
        "#Example of Boolean as an interger\n",
        "30*20> 50"
      ],
      "metadata": {
        "colab": {
          "base_uri": "https://localhost:8080/"
        },
        "id": "fWU34ce_LVM7",
        "outputId": "eecf95fd-9e81-44be-d627-400d22f93d21"
      },
      "execution_count": null,
      "outputs": [
        {
          "output_type": "execute_result",
          "data": {
            "text/plain": [
              "True"
            ]
          },
          "metadata": {},
          "execution_count": 17
        }
      ]
    },
    {
      "cell_type": "code",
      "source": [
        "#Control flow if-else statement conditional statemnet\n",
        "age = 30\n",
        "if age >= 30:\n",
        "  print('You can vote!')\n",
        "#The print must be indented.Indentation refers to the spaces at the beginning of a code line.\n",
        "#Where in other programming languages the indentation in code is for readability only, the indentation in Python is very important.\n",
        "#Python uses indentation to indicate a block of code.\n",
        "#The number of spaces is up to you as a programmer, but it has to be at least one\n",
        "#You have to use the same number of spaces in the same block of code, otherwise Python will give you an error:\n",
        "else:\n",
        "    print('to young to vote')"
      ],
      "metadata": {
        "colab": {
          "base_uri": "https://localhost:8080/"
        },
        "id": "pCqweK9JJGR8",
        "outputId": "37a867b1-1b71-4d66-e9bb-52517a795322"
      },
      "execution_count": null,
      "outputs": [
        {
          "output_type": "stream",
          "name": "stdout",
          "text": [
            "You can vote!\n"
          ]
        }
      ]
    },
    {
      "cell_type": "code",
      "source": [
        "#multiplication in Python for intergers\n",
        "30*2"
      ],
      "metadata": {
        "colab": {
          "base_uri": "https://localhost:8080/"
        },
        "id": "VMPoLXg0KCfv",
        "outputId": "812243bd-b9a9-4371-c142-3f7cc1f6cc6b"
      },
      "execution_count": null,
      "outputs": [
        {
          "output_type": "execute_result",
          "data": {
            "text/plain": [
              "60"
            ]
          },
          "metadata": {},
          "execution_count": 21
        }
      ]
    },
    {
      "cell_type": "code",
      "source": [
        "#Additin of intergers in Booleans\n",
        "1+1"
      ],
      "metadata": {
        "colab": {
          "base_uri": "https://localhost:8080/"
        },
        "id": "hnmOit6PKGMS",
        "outputId": "de4e3237-0958-4d12-8ff5-7dc931825b2a"
      },
      "execution_count": null,
      "outputs": [
        {
          "output_type": "execute_result",
          "data": {
            "text/plain": [
              "2"
            ]
          },
          "metadata": {},
          "execution_count": 20
        }
      ]
    },
    {
      "cell_type": "code",
      "source": [
        "#!= means not equal\n",
        "30 != 50"
      ],
      "metadata": {
        "colab": {
          "base_uri": "https://localhost:8080/"
        },
        "id": "WoYpesHTNgMw",
        "outputId": "2898be84-10e4-4950-ea2e-517be96fc215"
      },
      "execution_count": null,
      "outputs": [
        {
          "output_type": "execute_result",
          "data": {
            "text/plain": [
              "True"
            ]
          },
          "metadata": {},
          "execution_count": 23
        }
      ]
    },
    {
      "cell_type": "code",
      "source": [
        "#Comparison Operators\n",
        "#In Python, many built-in classes have the following functions that can be used to compare two values:\n",
        "\n",
        "#>: greater than\n",
        "#>=: greater than or equal to\n",
        "#<: less than\n",
        "#<=: less than or equal to\n",
        "#==: equal to\n",
        "#!=: not equal to\n",
        "#In Python, the == function checks if the objects on both sides are considered the equivalent values:\n",
        "\n",
        "\"1\" == 1"
      ],
      "metadata": {
        "colab": {
          "base_uri": "https://localhost:8080/"
        },
        "id": "VRsgpO0JOPm0",
        "outputId": "57174a23-4ec2-4cfa-98cb-16a980e9a257"
      },
      "execution_count": null,
      "outputs": [
        {
          "output_type": "execute_result",
          "data": {
            "text/plain": [
              "False"
            ]
          },
          "metadata": {},
          "execution_count": 25
        }
      ]
    },
    {
      "cell_type": "code",
      "source": [
        "#Different data types but same value\n",
        "1.0 == 1"
      ],
      "metadata": {
        "colab": {
          "base_uri": "https://localhost:8080/"
        },
        "id": "vudpqsChOpoc",
        "outputId": "276b3682-b16d-4357-dcd2-b8e2d458444d"
      },
      "execution_count": null,
      "outputs": [
        {
          "output_type": "execute_result",
          "data": {
            "text/plain": [
              "True"
            ]
          },
          "metadata": {},
          "execution_count": 27
        }
      ]
    },
    {
      "cell_type": "code",
      "source": [
        "# Execution flow\n",
        "Vacation_days = 0\n",
        "# add 1 to vaction days and rewrite itself.\n",
        "Vacation_days = Vacation_days + 1\n",
        "Vacation_days = Vacation_days + 1\n",
        "\n",
        "print(Vacation_days)\n"
      ],
      "metadata": {
        "colab": {
          "base_uri": "https://localhost:8080/"
        },
        "id": "uqTFyovAQ8Dl",
        "outputId": "ff7d3dee-7dbd-49b1-b461-ec85c85ab2f1"
      },
      "execution_count": null,
      "outputs": [
        {
          "output_type": "stream",
          "name": "stdout",
          "text": [
            "2\n"
          ]
        }
      ]
    },
    {
      "cell_type": "code",
      "source": [
        "#Reset vaction days to 0\n",
        "Vacation_days = 0\n",
        "# reset variable to 0\n",
        "Vacation_days = 0\n",
        "\n",
        "# +1 this does the same as above\n",
        "Vacation_days += 1\n",
        "Vacation_days += 1\n",
        "\n",
        "print(Vacation_days)\n",
        "# += is used to increment the current value of the variable and assign this new value back to it.\n",
        "#The statement vacation_days += 1 can be thought of as vacation_days = vacation_days + 1.\n",
        "\n",
        "\n"
      ],
      "metadata": {
        "colab": {
          "base_uri": "https://localhost:8080/"
        },
        "id": "U6b9gTcPR28l",
        "outputId": "31b99f0b-118b-4503-afff-e281d01a6689"
      },
      "execution_count": null,
      "outputs": [
        {
          "output_type": "stream",
          "name": "stdout",
          "text": [
            "2\n"
          ]
        }
      ]
    },
    {
      "cell_type": "code",
      "source": [
        "bool(0)"
      ],
      "metadata": {
        "colab": {
          "base_uri": "https://localhost:8080/"
        },
        "id": "jmFXPVvQrfzW",
        "outputId": "c33b24ec-a7da-46d0-abe7-79352c71ab5b"
      },
      "execution_count": null,
      "outputs": [
        {
          "output_type": "execute_result",
          "data": {
            "text/plain": [
              "False"
            ]
          },
          "metadata": {},
          "execution_count": 44
        }
      ]
    },
    {
      "cell_type": "code",
      "source": [
        "#Truthy and Falsy\n",
        "#Values that evaluate to False are considered Falsy.\n",
        "#Values that evaluate to True are considered Truthy\n",
        "number = 7\n",
        "if number :\n",
        "   print(number)"
      ],
      "metadata": {
        "colab": {
          "base_uri": "https://localhost:8080/"
        },
        "id": "PhUlMLm1rzvO",
        "outputId": "79296d8d-3fd5-4d38-e6b3-59eb703cc8ac"
      },
      "execution_count": null,
      "outputs": [
        {
          "output_type": "stream",
          "name": "stdout",
          "text": [
            "7\n"
          ]
        }
      ]
    },
    {
      "cell_type": "code",
      "source": [
        "number = 2\n",
        "if number :\n",
        "   print(number)"
      ],
      "metadata": {
        "colab": {
          "base_uri": "https://localhost:8080/"
        },
        "id": "j6r2LoExtsxx",
        "outputId": "3d8a8872-2483-42fe-9970-2d92497b6c60"
      },
      "execution_count": null,
      "outputs": [
        {
          "output_type": "stream",
          "name": "stdout",
          "text": [
            "2\n"
          ]
        }
      ]
    },
    {
      "cell_type": "code",
      "source": [
        "gender =0\n",
        "Boy =True\n",
        "Girl =False\n",
        "if Boy :\n",
        "  gender +=1\n",
        "elif Girl:\n",
        " gender +=2\n",
        "else :\n",
        "    print('transgender')\n",
        "gender"
      ],
      "metadata": {
        "colab": {
          "base_uri": "https://localhost:8080/"
        },
        "id": "VuqfPW_gznek",
        "outputId": "4c7c20bb-030a-4133-b47a-c0611cdeb0b8"
      },
      "execution_count": 1,
      "outputs": [
        {
          "output_type": "execute_result",
          "data": {
            "text/plain": [
              "1"
            ]
          },
          "metadata": {},
          "execution_count": 1
        }
      ]
    },
    {
      "cell_type": "code",
      "source": [
        "#Falsy Values Includes:\n",
        "\n",
        "#1) Sequences and Collections:\n",
        "#Empty lists []\n",
        "#Empty tuples ()\n",
        "##Empty dictionaries {}\n",
        "#Empty sets ()\n",
        "#Empty strings ” “\n",
        "#Empty ranges range(0)\n",
        "\n",
        "# 2. Numbers: Zero of any numeric type.\n",
        "\n",
        "#Integer: 0\n",
        "#Float: 0.0\n",
        "#Complex: 0j"
      ],
      "metadata": {
        "id": "_bRKfwH5uqHV"
      },
      "execution_count": null,
      "outputs": []
    },
    {
      "cell_type": "code",
      "source": [
        "bool(7)\n",
        "# True\n",
        "\n",
        "bool(0)\n",
        "#False\n",
        "\n",
        "bool([]) #empty list\n",
        "# False\n",
        "\n",
        "bool({7,4})\n",
        "#True\n",
        "\n",
        "bool(-4)\n",
        "# True\n",
        "\n",
        "bool(0.0)\n",
        "# False\n",
        "\n",
        "bool(None)\n",
        "# False\n",
        "\n",
        "bool(1)\n",
        "#True\n",
        "\n",
        "bool(range(0))\n",
        "# False\n",
        "\n",
        "bool(set())\n",
        "# False\n",
        "\n",
        "bool([1,2,3,4])\n",
        "# True\n"
      ],
      "metadata": {
        "id": "3WjDyrupwr60"
      },
      "execution_count": null,
      "outputs": []
    },
    {
      "cell_type": "code",
      "source": [
        "bool({7,4})\n",
        "type({7, 4})"
      ],
      "metadata": {
        "colab": {
          "base_uri": "https://localhost:8080/"
        },
        "id": "2cLGjsWfw7-2",
        "outputId": "08659651-7e53-4088-a8ae-e67947125b5c"
      },
      "execution_count": null,
      "outputs": [
        {
          "output_type": "execute_result",
          "data": {
            "text/plain": [
              "set"
            ]
          },
          "metadata": {},
          "execution_count": 50
        }
      ]
    },
    {
      "cell_type": "code",
      "source": [
        "time = []# this is a falsy since its an empty list so it doesn't print\n",
        "if time :\n",
        "  print('early')"
      ],
      "metadata": {
        "id": "8ZMCaEw9vW5K"
      },
      "execution_count": null,
      "outputs": []
    },
    {
      "cell_type": "code",
      "source": [
        "flu = 'viral'\n",
        "flu= 'bacterial'# here the viral was overwritten so the flu is baterial\n",
        "if  flu == 'bacterial':\n",
        "     print('antibiotic')\n",
        "else:\n",
        "   print('further action')\n",
        "\n",
        "\n"
      ],
      "metadata": {
        "colab": {
          "base_uri": "https://localhost:8080/"
        },
        "id": "dju4Wk77kKsx",
        "outputId": "3807a3b7-4c8b-49df-8681-999b748a50d1"
      },
      "execution_count": 2,
      "outputs": [
        {
          "output_type": "stream",
          "name": "stdout",
          "text": [
            "antibiotic\n"
          ]
        }
      ]
    },
    {
      "cell_type": "code",
      "source": [
        "\n",
        "flu = \"viral\"\n",
        "flu = 'bacterial'# the flu being viral was overwritten so the flu now is bacterial\n",
        "if flu == 'viral':\n",
        "  print('no antibiotic')\n",
        "\n",
        "elif  flu == 'bacterial':\n",
        "\n",
        "  print('antibiotic')\n",
        "else :\n",
        "   print('further assistance')"
      ],
      "metadata": {
        "colab": {
          "base_uri": "https://localhost:8080/"
        },
        "id": "kq2YR8q0xRWQ",
        "outputId": "8a6c9565-c275-4be8-b167-4428d0eb369f"
      },
      "execution_count": null,
      "outputs": [
        {
          "output_type": "stream",
          "name": "stdout",
          "text": [
            "antibiotic\n"
          ]
        }
      ]
    },
    {
      "cell_type": "code",
      "source": [
        "# Conditional flow : if, else,elif\n",
        "age = 30\n",
        "if age >= 30:\n",
        "   print('can vote')\n",
        "else:\n",
        "   print('too young to vote')\n"
      ],
      "metadata": {
        "colab": {
          "base_uri": "https://localhost:8080/"
        },
        "id": "muAE3T-0-IRH",
        "outputId": "4706cd58-0fac-41ed-d7ea-441b514398b9"
      },
      "execution_count": null,
      "outputs": [
        {
          "output_type": "stream",
          "name": "stdout",
          "text": [
            "can vote\n"
          ]
        }
      ]
    },
    {
      "cell_type": "code",
      "source": [
        "# remember elif must be followed by an expression\n",
        "gender = 'transgender'\n",
        "if gender =='female' :\n",
        "    print('cervical cancer')\n",
        "elif  gender == 'male':# this expression\n",
        "    print('prostrate cancer')\n",
        "else:# not followed by an expression\n",
        "    print('further intervention')\n",
        "\n"
      ],
      "metadata": {
        "colab": {
          "base_uri": "https://localhost:8080/"
        },
        "id": "q1C6qTVn_5kj",
        "outputId": "0b4a49cb-b5df-42a8-fd24-242211d36123"
      },
      "execution_count": null,
      "outputs": [
        {
          "output_type": "stream",
          "name": "stdout",
          "text": [
            "further intervention\n"
          ]
        }
      ]
    },
    {
      "cell_type": "code",
      "source": [
        "number_50 = 50 #Remember to ident.The inner blocks of codes should be in the same line\n",
        "my_number = None\n",
        "if number_50 > 100:\n",
        "    less_than_50 = 100\n",
        "    my_number =100# if number_50 is greater than 100, assign the `my_number` variable to the number 100\n",
        "elif number_50 > 50:\n",
        "    less_than_50 = 50\n",
        "    my_number =50    # if number_50 is greater than 50, assign the `my_number` variable to the number 50\n",
        "else:\n",
        "    less_than_50 = 0\n",
        "    my_number =0# else assign the `my_number` variable to 0\n",
        "\n",
        "print(my_number)\n"
      ],
      "metadata": {
        "colab": {
          "base_uri": "https://localhost:8080/"
        },
        "id": "Lmc8Zjcs0RBL",
        "outputId": "418ca114-1bf9-4241-fc13-3ea9e0408843"
      },
      "execution_count": null,
      "outputs": [
        {
          "output_type": "stream",
          "name": "stdout",
          "text": [
            "0\n"
          ]
        }
      ]
    },
    {
      "cell_type": "code",
      "source": [
        "number_50 = 50\n",
        "my_number = None\n",
        "\n",
        "if number_50 > 100:\n",
        "    my_number = 100  # Assign 100 to `my_number`\n",
        "    less_than_50 = 100\n",
        "elif number_50 > 50:\n",
        "    my_number = 50  # Assign 50 to `my_number`\n",
        "    less_than_50 = 50\n",
        "else:\n",
        "    my_number = 0  # Assign 0 to `my_number`\n",
        "    less_than_50 = 0\n",
        "\n",
        "print(my_number)  # Print the value of `my_number`\n"
      ],
      "metadata": {
        "colab": {
          "base_uri": "https://localhost:8080/"
        },
        "id": "7wFVR7QDzEw1",
        "outputId": "ba642671-d2c7-4544-e6b0-fd87cc51906b"
      },
      "execution_count": null,
      "outputs": [
        {
          "output_type": "stream",
          "name": "stdout",
          "text": [
            "0\n"
          ]
        }
      ]
    },
    {
      "cell_type": "code",
      "source": [
        "#There are 7 days in the week starting with Sunday at day 1 and ending with Saturday at day 7.\n",
        "#Use conditional statements to assign the day of the week to the variable day_of_the_week based on the number below assigned to the variable today_is.\n",
        "#For example, if the day is 2, we would assign day_of_the_week the value \"Monday\".\n",
        "today_is = 4\n",
        "day_of_the_week = None\n",
        "if today_is == 1:\n",
        "    day_of_the_week = \"Sunday\"\n",
        "elif today_is == 2:\n",
        "    day_of_the_week = \"Monday\"\n",
        "elif today_is == 3:\n",
        "    day_of_the_week = \"Tuesday\"\n",
        "elif today_is == 4:\n",
        "    day_of_the_week = \"Wednesday\"\n",
        "elif today_is == 5:\n",
        "    day_of_the_week = \"Thursday\"\n",
        "elif today_is == 6:\n",
        "    day_of_the_week = \"Friday\"\n",
        "elif today_is == 7:\n",
        "    day_of_the_week = \"Saturday\"\n",
        "# conditionals go here\n",
        "print(day_of_the_week)\n"
      ],
      "metadata": {
        "colab": {
          "base_uri": "https://localhost:8080/"
        },
        "id": "C7VaLiMHxYQT",
        "outputId": "b0f19801-d2a9-4b8e-b9a4-a22f25a41ef9"
      },
      "execution_count": null,
      "outputs": [
        {
          "output_type": "stream",
          "name": "stdout",
          "text": [
            "Wednesday\n"
          ]
        }
      ]
    },
    {
      "cell_type": "code",
      "source": [
        "#Below, use conditionals to tell whether it is hot outside or not.\n",
        "#If it is hot, assign the string \"It is so hot out!\" to the variable is_it_hot.\n",
        "# If it is not hot, assign the string \"This is nothing! Bring on the heat.\".\n",
        "#For our purposes, anything over 80 degrees is considered hot.\n",
        "temperature = 85\n",
        "is_it_hot = None\n",
        "if temperature > 80:\n",
        "    is_it_hot = \"It is so hot out!\"\n",
        "else:\n",
        "    is_it_hot = \"This is nothing! Bring on the heat.\"\n",
        "print(is_it_hot)\n",
        "\n",
        "\n"
      ],
      "metadata": {
        "colab": {
          "base_uri": "https://localhost:8080/"
        },
        "id": "-cd5JLjfubqA",
        "outputId": "fcc40b46-9a8e-4a3f-c0b5-e450c4676089"
      },
      "execution_count": null,
      "outputs": [
        {
          "output_type": "stream",
          "name": "stdout",
          "text": [
            "It is so hot out!\n"
          ]
        }
      ]
    },
    {
      "cell_type": "code",
      "source": [
        " #let's take a string and see if it ends with a certain substring.\n",
        " #If it does, assign the variable ends_with to True, and if it does not, assign it to False.\n",
        " #For example, if have the string \"School\" and we want to know if it ends with the sub-string \"cool\".\n",
        "  #In this case it does not, so, we would assign False to the variable ends_with.\n",
        "string = \"Python\"\n",
        "sub_string = \"on\"\n",
        "ends_with = None\n",
        "if string.endswith(sub_string):\n",
        "    ends_with = True\n",
        "else:\n",
        "    ends_with = False\n",
        "print(ends_with)# conditionals go here\n"
      ],
      "metadata": {
        "colab": {
          "base_uri": "https://localhost:8080/"
        },
        "id": "R17vAqyj09cf",
        "outputId": "075fb67f-5b09-41ed-e4c2-213359ef39ba"
      },
      "execution_count": null,
      "outputs": [
        {
          "output_type": "stream",
          "name": "stdout",
          "text": [
            "True\n"
          ]
        }
      ]
    }
  ]
}