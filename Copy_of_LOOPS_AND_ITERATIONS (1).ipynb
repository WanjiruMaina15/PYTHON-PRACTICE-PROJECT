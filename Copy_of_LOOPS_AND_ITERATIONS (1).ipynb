{
  "nbformat": 4,
  "nbformat_minor": 0,
  "metadata": {
    "colab": {
      "provenance": []
    },
    "kernelspec": {
      "name": "python3",
      "display_name": "Python 3"
    },
    "language_info": {
      "name": "python"
    }
  },
  "cells": [
    {
      "cell_type": "code",
      "execution_count": 3,
      "metadata": {
        "colab": {
          "base_uri": "https://localhost:8080/"
        },
        "id": "QjrtZ4qQsB0N",
        "outputId": "6e1bd393-c943-406f-8bd5-27414f65044b"
      },
      "outputs": [
        {
          "output_type": "stream",
          "name": "stdout",
          "text": [
            "0\n",
            "1\n",
            "2\n",
            "3\n"
          ]
        }
      ],
      "source": [
        "#there are two types of loops for and while\n",
        "\n",
        "#for loop is used for going over a list of items one by one\n",
        "\n",
        "zero_to_three = [0,1,2, 3]\n",
        "print(zero_to_three[0])\n",
        "print(zero_to_three[1])\n",
        "print(zero_to_three[2])\n",
        "print(zero_to_three[3])\n"
      ]
    },
    {
      "cell_type": "code",
      "source": [
        "#loops have two components called arguments  1.variable (the name you are assigning to the loop ) 2. and the collection we are iterating over\n",
        "for number in  zero_to_three:# after the loop put the full colon\n",
        "    print (number) # number is the variable . and zero_to_three is the collection we are iterating over.\n",
        "    # after the second argument we indent the block of code that comes after."
      ],
      "metadata": {
        "colab": {
          "base_uri": "https://localhost:8080/"
        },
        "id": "EVZZFXxE4Mgh",
        "outputId": "939db32c-ebc8-43c1-85e8-b74de471732a"
      },
      "execution_count": 4,
      "outputs": [
        {
          "output_type": "stream",
          "name": "stdout",
          "text": [
            "0\n",
            "1\n",
            "2\n",
            "3\n"
          ]
        }
      ]
    },
    {
      "cell_type": "code",
      "source": [
        "#This could work for a list with small elements,but for a list with many elements.It will become tedious\n",
        "#so we use the for  loop for number in  :\n",
        "\n",
        "for number in zero_to_three:\n",
        "   print(number)"
      ],
      "metadata": {
        "colab": {
          "base_uri": "https://localhost:8080/"
        },
        "id": "dy_neHDQtorR",
        "outputId": "eb98e9df-b440-44b0-f36d-929a25fb854d"
      },
      "execution_count": 5,
      "outputs": [
        {
          "output_type": "stream",
          "name": "stdout",
          "text": [
            "0\n",
            "1\n",
            "2\n",
            "3\n"
          ]
        }
      ]
    },
    {
      "cell_type": "code",
      "source": [
        "iteration_count =0\n",
        "for whatever_we_want in zero_to_three:\n",
        "     iteration_count= +1\n",
        "     print('This is iteration:', iteration_count)\n",
        "     print('whatever_we _want')\n",
        "     print('The for loop is finished now! I am not in the for loop now that is why I only printed once')\n",
        "\n"
      ],
      "metadata": {
        "colab": {
          "base_uri": "https://localhost:8080/"
        },
        "id": "56-vJMg98fMa",
        "outputId": "2735ce79-4de1-4925-dc91-630c40eb575d"
      },
      "execution_count": 6,
      "outputs": [
        {
          "output_type": "stream",
          "name": "stdout",
          "text": [
            "This is iteration: 1\n",
            "whatever_we _want\n",
            "The for loop is finished now! I am not in the for loop now that is why I only printed once\n",
            "This is iteration: 1\n",
            "whatever_we _want\n",
            "The for loop is finished now! I am not in the for loop now that is why I only printed once\n",
            "This is iteration: 1\n",
            "whatever_we _want\n",
            "The for loop is finished now! I am not in the for loop now that is why I only printed once\n",
            "This is iteration: 1\n",
            "whatever_we _want\n",
            "The for loop is finished now! I am not in the for loop now that is why I only printed once\n"
          ]
        }
      ]
    },
    {
      "cell_type": "code",
      "source": [
        "# Using elements in list as indices\n",
        "countries = ['Croatia', 'USA','Argentina','France','Brazil','Japan','Vietnam']\n",
        "for i in [0,1,2,3,4,5,6]:\n",
        "   print(i)\n",
        "   print(countries[i])"
      ],
      "metadata": {
        "colab": {
          "base_uri": "https://localhost:8080/"
        },
        "id": "Q3Fq8XGGdqXG",
        "outputId": "a81c9372-1ca4-471b-8aa7-07b0c4908d84"
      },
      "execution_count": 7,
      "outputs": [
        {
          "output_type": "stream",
          "name": "stdout",
          "text": [
            "0\n",
            "Croatia\n",
            "1\n",
            "USA\n",
            "2\n",
            "Argentina\n",
            "3\n",
            "France\n",
            "4\n",
            "Brazil\n",
            "5\n",
            "Japan\n",
            "6\n",
            "Vietnam\n"
          ]
        }
      ]
    },
    {
      "cell_type": "code",
      "source": [
        "#printing two lists\n",
        "countries = ['Croatia', 'USA','Argentina','France','Brazil','Japan','Vietnam']\n",
        "cities = ['Zagreb', 'District of Columbia', 'Buenos Aires', 'Paris', 'Rio Dejenerio', 'Tokyo','Hanoi']\n",
        "\n",
        "for index in [0,1,3,4,5,6]:\n",
        "    print(cities[index] + ',', countries[index])"
      ],
      "metadata": {
        "colab": {
          "base_uri": "https://localhost:8080/"
        },
        "id": "YldiSXhPBlcA",
        "outputId": "9fcc2099-a648-40d3-96eb-1590d0361c8e"
      },
      "execution_count": 8,
      "outputs": [
        {
          "output_type": "stream",
          "name": "stdout",
          "text": [
            "Zagreb, Croatia\n",
            "District of Columbia, USA\n",
            "Paris, France\n",
            "Rio Dejenerio, Brazil\n",
            "Tokyo, Japan\n",
            "Hanoi, Vietnam\n"
          ]
        }
      ]
    },
    {
      "cell_type": "code",
      "source": [
        "#the above cannot work if the indices do not match up\n",
        "#it says the list is out range\n",
        "countries = ['Croatia', 'USA','Argentina','France','Brazil','Japan','Vietnam']\n",
        "cities = ['Zagreb', 'District of Columbia', 'Buenos Aires', 'Paris', 'Rio Dejenerio', 'Tokyo','Hanoi']\n",
        "for index in[0,1,2,3,4,5,6,7,8,9,10]:\n",
        "    print(index)\n",
        "    print(cities[index] + ',', countries[index])"
      ],
      "metadata": {
        "colab": {
          "base_uri": "https://localhost:8080/",
          "height": 436
        },
        "id": "3w8k1Lp3HvHu",
        "outputId": "681174c1-8bfb-4688-ddf4-66f1090317b3"
      },
      "execution_count": 9,
      "outputs": [
        {
          "output_type": "stream",
          "name": "stdout",
          "text": [
            "0\n",
            "Zagreb, Croatia\n",
            "1\n",
            "District of Columbia, USA\n",
            "2\n",
            "Buenos Aires, Argentina\n",
            "3\n",
            "Paris, France\n",
            "4\n",
            "Rio Dejenerio, Brazil\n",
            "5\n",
            "Tokyo, Japan\n",
            "6\n",
            "Hanoi, Vietnam\n",
            "7\n"
          ]
        },
        {
          "output_type": "error",
          "ename": "IndexError",
          "evalue": "list index out of range",
          "traceback": [
            "\u001b[0;31m---------------------------------------------------------------------------\u001b[0m",
            "\u001b[0;31mIndexError\u001b[0m                                Traceback (most recent call last)",
            "\u001b[0;32m<ipython-input-9-1dd4e30bbfa7>\u001b[0m in \u001b[0;36m<cell line: 0>\u001b[0;34m()\u001b[0m\n\u001b[1;32m      5\u001b[0m \u001b[0;32mfor\u001b[0m \u001b[0mindex\u001b[0m \u001b[0;32min\u001b[0m\u001b[0;34m[\u001b[0m\u001b[0;36m0\u001b[0m\u001b[0;34m,\u001b[0m\u001b[0;36m1\u001b[0m\u001b[0;34m,\u001b[0m\u001b[0;36m2\u001b[0m\u001b[0;34m,\u001b[0m\u001b[0;36m3\u001b[0m\u001b[0;34m,\u001b[0m\u001b[0;36m4\u001b[0m\u001b[0;34m,\u001b[0m\u001b[0;36m5\u001b[0m\u001b[0;34m,\u001b[0m\u001b[0;36m6\u001b[0m\u001b[0;34m,\u001b[0m\u001b[0;36m7\u001b[0m\u001b[0;34m,\u001b[0m\u001b[0;36m8\u001b[0m\u001b[0;34m,\u001b[0m\u001b[0;36m9\u001b[0m\u001b[0;34m,\u001b[0m\u001b[0;36m10\u001b[0m\u001b[0;34m]\u001b[0m\u001b[0;34m:\u001b[0m\u001b[0;34m\u001b[0m\u001b[0;34m\u001b[0m\u001b[0m\n\u001b[1;32m      6\u001b[0m     \u001b[0mprint\u001b[0m\u001b[0;34m(\u001b[0m\u001b[0mindex\u001b[0m\u001b[0;34m)\u001b[0m\u001b[0;34m\u001b[0m\u001b[0;34m\u001b[0m\u001b[0m\n\u001b[0;32m----> 7\u001b[0;31m     \u001b[0mprint\u001b[0m\u001b[0;34m(\u001b[0m\u001b[0mcities\u001b[0m\u001b[0;34m[\u001b[0m\u001b[0mindex\u001b[0m\u001b[0;34m]\u001b[0m \u001b[0;34m+\u001b[0m \u001b[0;34m','\u001b[0m\u001b[0;34m,\u001b[0m \u001b[0mcountries\u001b[0m\u001b[0;34m[\u001b[0m\u001b[0mindex\u001b[0m\u001b[0;34m]\u001b[0m\u001b[0;34m)\u001b[0m\u001b[0;34m\u001b[0m\u001b[0;34m\u001b[0m\u001b[0m\n\u001b[0m",
            "\u001b[0;31mIndexError\u001b[0m: list index out of range"
          ]
        }
      ]
    },
    {
      "cell_type": "code",
      "source": [
        "#When unsure of the number of elements in alist we will use the len() funtion\n",
        "len(countries)\n",
        "len(cities)"
      ],
      "metadata": {
        "id": "cEmdrzfjIyEn",
        "colab": {
          "base_uri": "https://localhost:8080/"
        },
        "outputId": "2a1458f7-3246-4a3f-b666-e86bdeea525f"
      },
      "execution_count": 32,
      "outputs": [
        {
          "output_type": "execute_result",
          "data": {
            "text/plain": [
              "8"
            ]
          },
          "metadata": {},
          "execution_count": 32
        }
      ]
    },
    {
      "cell_type": "code",
      "source": [
        "#first create a range\n",
        "#Range function shows the starting pointing of the list and the ending point of the list excluding the end\n",
        "range(0, len(countries))"
      ],
      "metadata": {
        "id": "2qGXWLaNJUPs",
        "colab": {
          "base_uri": "https://localhost:8080/"
        },
        "outputId": "4e416ce4-44a0-45e4-8b02-32532a4a24db"
      },
      "execution_count": 33,
      "outputs": [
        {
          "output_type": "execute_result",
          "data": {
            "text/plain": [
              "range(0, 8)"
            ]
          },
          "metadata": {},
          "execution_count": 33
        }
      ]
    },
    {
      "cell_type": "code",
      "source": [
        "#Create a list then\n",
        "list(range(0, len(countries)))"
      ],
      "metadata": {
        "id": "zdTvozhoKIJ7",
        "colab": {
          "base_uri": "https://localhost:8080/"
        },
        "outputId": "b0326605-908d-4ded-9466-8cc7a5c29d2a"
      },
      "execution_count": 34,
      "outputs": [
        {
          "output_type": "execute_result",
          "data": {
            "text/plain": [
              "[0, 1, 2, 3, 4, 5, 6, 7]"
            ]
          },
          "metadata": {},
          "execution_count": 34
        }
      ]
    },
    {
      "cell_type": "code",
      "source": [
        "for index in list(range(0,len(countries))):\n",
        "  print (index)\n",
        "  print(cities[index]+ ',',  countries[index])"
      ],
      "metadata": {
        "id": "ZOYrgclILT_d"
      },
      "execution_count": null,
      "outputs": []
    },
    {
      "cell_type": "code",
      "source": [
        "countries.pop()\n",
        "cities.pop()\n",
        "countries\n",
        "cities"
      ],
      "metadata": {
        "id": "ZV6DbytSNTGu",
        "colab": {
          "base_uri": "https://localhost:8080/"
        },
        "outputId": "74abb260-0fb8-4b7b-c45d-d92124cc0480"
      },
      "execution_count": 36,
      "outputs": [
        {
          "output_type": "execute_result",
          "data": {
            "text/plain": [
              "['Zagreb',\n",
              " 'District of Columbia',\n",
              " 'Buenos Aires',\n",
              " 'Paris',\n",
              " 'Rio de Janeiro',\n",
              " 'Tokyo',\n",
              " 'Hanoi',\n",
              " 'Mexico City']"
            ]
          },
          "metadata": {},
          "execution_count": 36
        }
      ]
    },
    {
      "cell_type": "code",
      "source": [
        "for index in list(range(0,len(countries))):\n",
        "    print(index)\n",
        "    print(cities[index] +',', countries[index] )"
      ],
      "metadata": {
        "id": "cEhJ5dIVNBVf",
        "colab": {
          "base_uri": "https://localhost:8080/"
        },
        "outputId": "656b6647-9f1e-4c73-904f-5e8113f6d708"
      },
      "execution_count": 37,
      "outputs": [
        {
          "output_type": "stream",
          "name": "stdout",
          "text": [
            "0\n",
            "Zagreb, Croatia\n",
            "1\n",
            "District of Columbia, USA\n",
            "2\n",
            "Buenos Aires, Argentina\n",
            "3\n",
            "Paris, France\n",
            "4\n",
            "Rio de Janeiro, Brazil\n",
            "5\n",
            "Tokyo, Japan\n",
            "6\n",
            "Hanoi, Vietnam\n",
            "7\n",
            "Mexico City, Mexico\n"
          ]
        }
      ]
    },
    {
      "cell_type": "code",
      "source": [
        "for numbers  in range (10 ):\n",
        "    print(numbers)"
      ],
      "metadata": {
        "id": "papkrR0_8GyV",
        "colab": {
          "base_uri": "https://localhost:8080/"
        },
        "outputId": "add84065-caf6-4493-b4cd-24b3f122ca2e"
      },
      "execution_count": 38,
      "outputs": [
        {
          "output_type": "stream",
          "name": "stdout",
          "text": [
            "0\n",
            "1\n",
            "2\n",
            "3\n",
            "4\n",
            "5\n",
            "6\n",
            "7\n",
            "8\n",
            "9\n"
          ]
        }
      ]
    },
    {
      "cell_type": "code",
      "source": [],
      "metadata": {
        "id": "in-38WFTk-SD"
      },
      "execution_count": 9,
      "outputs": []
    },
    {
      "cell_type": "code",
      "source": [
        "for numbers in range(5,21,2):# 5: The starting value of the sequence (inclusive). The sequence will start at 5.\n",
        "     print(numbers)#21The ending value of the sequence (exclusive). The sequence will go up to, but not include, 21.\n",
        "                   #2: The step value. This specifies the increment between each number in the sequence. In this case, the numbers will increase by 2."
      ],
      "metadata": {
        "id": "PVMSZY4B93I9",
        "colab": {
          "base_uri": "https://localhost:8080/"
        },
        "outputId": "2529cccb-f745-4d0f-d539-4db865ebc649"
      },
      "execution_count": 40,
      "outputs": [
        {
          "output_type": "stream",
          "name": "stdout",
          "text": [
            "5\n",
            "7\n",
            "9\n",
            "11\n",
            "13\n",
            "15\n",
            "17\n",
            "19\n"
          ]
        }
      ]
    },
    {
      "cell_type": "code",
      "source": [
        "for numbers in range(10,5,-2):\n",
        "    print(numbers)"
      ],
      "metadata": {
        "id": "R_BKzLvv-MAF",
        "colab": {
          "base_uri": "https://localhost:8080/"
        },
        "outputId": "9ac991a0-a35c-4adf-b661-f4dab4c70679"
      },
      "execution_count": 11,
      "outputs": [
        {
          "output_type": "stream",
          "name": "stdout",
          "text": [
            "10\n",
            "8\n",
            "6\n"
          ]
        }
      ]
    },
    {
      "cell_type": "code",
      "source": [
        "fruits = ['bananas', 'apples','avocadoes','lemons' ]\n",
        "for x in fruits :\n",
        "  print(x)"
      ],
      "metadata": {
        "id": "5I39AEQq_WYA",
        "colab": {
          "base_uri": "https://localhost:8080/"
        },
        "outputId": "baf5f236-a447-4e42-9a6b-c44a1befadbc"
      },
      "execution_count": 12,
      "outputs": [
        {
          "output_type": "stream",
          "name": "stdout",
          "text": [
            "bananas\n",
            "apples\n",
            "avocadoes\n",
            "lemons\n"
          ]
        }
      ]
    },
    {
      "cell_type": "code",
      "source": [
        "#exit the loop when x is bananas\n",
        "for x in fruits:\n",
        "    print(x)\n",
        "    if x== 'avocadoes':\n",
        "     break\n",
        "\n",
        "\n",
        "\n"
      ],
      "metadata": {
        "id": "e7hIvXR2AoBh",
        "colab": {
          "base_uri": "https://localhost:8080/"
        },
        "outputId": "029d1c5f-bd17-4302-c53b-c89d808baaeb"
      },
      "execution_count": 42,
      "outputs": [
        {
          "output_type": "stream",
          "name": "stdout",
          "text": [
            "bananas\n",
            "fruits\n",
            "oranges\n",
            "quavas\n"
          ]
        }
      ]
    },
    {
      "cell_type": "code",
      "source": [
        "countries = ['Croatia', 'USA','Argentina','France','Brazil','Japan','Vietnam']\n",
        "cities = ['Zagreb', 'District of Columbia', 'Buenos Aires', 'Paris', 'Rio Dejenerio', 'Tokyo','Hanoi']\n",
        "for index in (0,1,2,3,4,5,6,):\n",
        "    print(index)\n",
        "    print(cities[index] + ',', countries[index])\n",
        "\n"
      ],
      "metadata": {
        "id": "skJVvGBXEVBt",
        "colab": {
          "base_uri": "https://localhost:8080/"
        },
        "outputId": "4ad28f4f-09ec-42ef-ca98-2216a4b608fe"
      },
      "execution_count": 44,
      "outputs": [
        {
          "output_type": "stream",
          "name": "stdout",
          "text": [
            "0\n",
            "Zagreb, Croatia\n",
            "1\n",
            "District of Columbia, USA\n",
            "2\n",
            "Buenos Aires, Argentina\n",
            "3\n",
            "Paris, France\n",
            "4\n",
            "Rio Dejenerio, Brazil\n",
            "5\n",
            "Tokyo, Japan\n",
            "6\n",
            "Hanoi, Vietnam\n"
          ]
        }
      ]
    },
    {
      "cell_type": "code",
      "source": [
        "zero_to_three = [0,1,2,3,4,5]\n",
        "for num in zero_to_three:\n",
        "        print(num)"
      ],
      "metadata": {
        "id": "8kcxxrKdlCVg",
        "colab": {
          "base_uri": "https://localhost:8080/"
        },
        "outputId": "59e86acb-05a5-4811-e43d-af3fd320cf1c"
      },
      "execution_count": 43,
      "outputs": [
        {
          "output_type": "stream",
          "name": "stdout",
          "text": [
            "0\n",
            "1\n",
            "2\n",
            "3\n",
            "4\n",
            "5\n"
          ]
        }
      ]
    },
    {
      "cell_type": "code",
      "source": [
        "iteration_count = 2\n",
        "for whatevs in zero_to_three:\n",
        "    iteration_count +=1\n",
        "    print(\"This is iteration:\", iteration_count)\n",
        "    print(whatevs)\n",
        "print('the four loop is finished now')\n"
      ],
      "metadata": {
        "colab": {
          "base_uri": "https://localhost:8080/"
        },
        "id": "3bqjX1WUlk-E",
        "outputId": "3cb56696-1193-4641-c934-1e81f042fe80"
      },
      "execution_count": 45,
      "outputs": [
        {
          "output_type": "stream",
          "name": "stdout",
          "text": [
            "This is iteration: 3\n",
            "0\n",
            "This is iteration: 4\n",
            "1\n",
            "This is iteration: 5\n",
            "2\n",
            "This is iteration: 6\n",
            "3\n",
            "This is iteration: 7\n",
            "4\n",
            "This is iteration: 8\n",
            "5\n",
            "the four loop is finished now\n"
          ]
        }
      ]
    },
    {
      "cell_type": "code",
      "source": [
        "countries = ['Croatia', 'USA', 'Argentina', 'France', 'Brazil', 'Japan', 'Vietnam']\n",
        "for i in countries:\n",
        "    print(i)\n",
        "#This Loop: Use when you only need the values of the list and don't care about their positions."
      ],
      "metadata": {
        "id": "Ip7LkOoBrw9m",
        "colab": {
          "base_uri": "https://localhost:8080/"
        },
        "outputId": "74694c43-f2b6-4dc7-a1a1-5820f49b8d6c"
      },
      "execution_count": 47,
      "outputs": [
        {
          "output_type": "stream",
          "name": "stdout",
          "text": [
            "Croatia\n",
            "USA\n",
            "Argentina\n",
            "France\n",
            "Brazil\n",
            "Japan\n",
            "Vietnam\n"
          ]
        }
      ]
    },
    {
      "cell_type": "code",
      "source": [
        "for index in [0,1,2,3,4,5,6]:\n",
        "     print(index)\n",
        "     print(countries[index])#we are accessing each element in the list\n",
        "     #Second Loop: Use when you need both the index and the value or want to perform operations based on the position."
      ],
      "metadata": {
        "colab": {
          "base_uri": "https://localhost:8080/"
        },
        "id": "JA0aXi55r8h0",
        "outputId": "92cf6f14-974c-49e3-dab7-d6e7d3359224"
      },
      "execution_count": 50,
      "outputs": [
        {
          "output_type": "stream",
          "name": "stdout",
          "text": [
            "0\n",
            "Croatia\n",
            "1\n",
            "USA\n",
            "2\n",
            "Argentina\n",
            "3\n",
            "France\n",
            "4\n",
            "Brazil\n",
            "5\n",
            "Japan\n",
            "6\n",
            "Vietnam\n"
          ]
        }
      ]
    },
    {
      "cell_type": "code",
      "source": [
        "for country in countries :\n",
        "     print(country)"
      ],
      "metadata": {
        "colab": {
          "base_uri": "https://localhost:8080/"
        },
        "id": "3yOLeOE4slif",
        "outputId": "75a91e27-db68-4aa2-effc-21392599cde7"
      },
      "execution_count": 16,
      "outputs": [
        {
          "output_type": "stream",
          "name": "stdout",
          "text": [
            "Croatia\n",
            "USA\n",
            "Argentina\n",
            "France\n",
            "Brazil\n",
            "Japan\n",
            "Vietnam\n"
          ]
        }
      ]
    },
    {
      "cell_type": "code",
      "source": [
        "#the no of indices in the two lists should be equal\n",
        "countries = ['Croatia', 'USA', 'Argentina', 'France', 'Brazil', 'Japan', 'Vietnam']\n",
        "cities = ['Zagreb', 'District of Columbia', 'Buenos Aires', 'Paris', 'Rio de Janeiro', 'Tokyo', 'Hanoi']\n",
        "for index in [0,1,2,3,4,5,6]:\n",
        "    #print(index)\n",
        "    print(index, cities[index]+\",\", countries[index])"
      ],
      "metadata": {
        "colab": {
          "base_uri": "https://localhost:8080/"
        },
        "id": "CWV0UgM0tUke",
        "outputId": "62d45087-c437-4083-fef8-c1f9f4b848ac"
      },
      "execution_count": 17,
      "outputs": [
        {
          "output_type": "stream",
          "name": "stdout",
          "text": [
            "0 Zagreb, Croatia\n",
            "1 District of Columbia, USA\n",
            "2 Buenos Aires, Argentina\n",
            "3 Paris, France\n",
            "4 Rio de Janeiro, Brazil\n",
            "5 Tokyo, Japan\n",
            "6 Hanoi, Vietnam\n"
          ]
        }
      ]
    },
    {
      "cell_type": "code",
      "source": [
        "len(countries)\n",
        "len(cities)"
      ],
      "metadata": {
        "colab": {
          "base_uri": "https://localhost:8080/"
        },
        "id": "IZ4fOlzKtr_x",
        "outputId": "14b4742f-f05a-4acb-d3ff-492c43a4a05a"
      },
      "execution_count": 18,
      "outputs": [
        {
          "output_type": "execute_result",
          "data": {
            "text/plain": [
              "7"
            ]
          },
          "metadata": {},
          "execution_count": 18
        }
      ]
    },
    {
      "cell_type": "code",
      "source": [
        "#range :if you do not know the number of elements in a list yo use range\n",
        "range(0, len(countries))"
      ],
      "metadata": {
        "colab": {
          "base_uri": "https://localhost:8080/"
        },
        "id": "K-yXx6ZlvLmG",
        "outputId": "e7e0c14e-6357-44e9-b5f8-a590c2b1f9e9"
      },
      "execution_count": 19,
      "outputs": [
        {
          "output_type": "execute_result",
          "data": {
            "text/plain": [
              "range(0, 7)"
            ]
          },
          "metadata": {},
          "execution_count": 19
        }
      ]
    },
    {
      "cell_type": "code",
      "source": [
        "list(range(0, len(countries)))"
      ],
      "metadata": {
        "colab": {
          "base_uri": "https://localhost:8080/"
        },
        "id": "3W9W8LLOvtio",
        "outputId": "9a53eb76-a5c9-4b04-ebc2-e423e2f1c0a3"
      },
      "execution_count": 20,
      "outputs": [
        {
          "output_type": "execute_result",
          "data": {
            "text/plain": [
              "[0, 1, 2, 3, 4, 5, 6]"
            ]
          },
          "metadata": {},
          "execution_count": 20
        }
      ]
    },
    {
      "cell_type": "code",
      "source": [
        "for index in list(range(0, len(countries))):\n",
        "\n",
        "      print(index, cities[index]+\",\", countries[index])"
      ],
      "metadata": {
        "colab": {
          "base_uri": "https://localhost:8080/"
        },
        "id": "R3ym60hov1Ik",
        "outputId": "acfe3964-53e5-4d15-fecf-aed7e3e04e2b"
      },
      "execution_count": 21,
      "outputs": [
        {
          "output_type": "stream",
          "name": "stdout",
          "text": [
            "0 Zagreb, Croatia\n",
            "1 District of Columbia, USA\n",
            "2 Buenos Aires, Argentina\n",
            "3 Paris, France\n",
            "4 Rio de Janeiro, Brazil\n",
            "5 Tokyo, Japan\n",
            "6 Hanoi, Vietnam\n"
          ]
        }
      ]
    },
    {
      "cell_type": "code",
      "source": [
        "countries.append('Mexico')\n",
        "cities.append('Mexico City')\n",
        "for index in list(range(0, len(countries))):\n",
        "\n",
        "      print(index, cities[index]+\",\", countries[index])"
      ],
      "metadata": {
        "colab": {
          "base_uri": "https://localhost:8080/"
        },
        "id": "97ZMMjOExmup",
        "outputId": "af384d38-ad31-4de6-b456-25742696c66d"
      },
      "execution_count": 22,
      "outputs": [
        {
          "output_type": "stream",
          "name": "stdout",
          "text": [
            "0 Zagreb, Croatia\n",
            "1 District of Columbia, USA\n",
            "2 Buenos Aires, Argentina\n",
            "3 Paris, France\n",
            "4 Rio de Janeiro, Brazil\n",
            "5 Tokyo, Japan\n",
            "6 Hanoi, Vietnam\n",
            "7 Mexico City, Mexico\n"
          ]
        }
      ]
    },
    {
      "cell_type": "code",
      "source": [],
      "metadata": {
        "id": "kE7yrF6LwmYP"
      },
      "execution_count": null,
      "outputs": []
    },
    {
      "cell_type": "code",
      "source": [
        "#Iterating over dictionaries\n",
        "details = {'first name':'Esther','age':28, 'favorite_language':'Python','last name':'Maina'}\n",
        "for Wanjiru in details:#When you iterate over a dictionary, the loop variable (Wanjiru) gets the keys of the dictionary.\n",
        "    print(Wanjiru)\n",
        "    #the keys here are name.,AGE AND FAVORITE LANGUAGE"
      ],
      "metadata": {
        "colab": {
          "base_uri": "https://localhost:8080/"
        },
        "id": "ZzRp6pOr_UNa",
        "outputId": "c40c9e7d-fa20-45a8-c7e8-1a0d3b682ae0"
      },
      "execution_count": 51,
      "outputs": [
        {
          "output_type": "stream",
          "name": "stdout",
          "text": [
            "first name\n",
            "age\n",
            "favorite_language\n",
            "last name\n"
          ]
        }
      ]
    },
    {
      "cell_type": "code",
      "source": [],
      "metadata": {
        "id": "5dPtG6Rjw6fU"
      },
      "execution_count": null,
      "outputs": []
    },
    {
      "cell_type": "code",
      "source": [
        "#If you want to access the values, you can use the key with details[Wanjiru].\n",
        "for Wanjiru in details:\n",
        "    print(Wanjiru, details[Wanjiru])\n",
        "#Wanjiru acceses the keys of the dictionary, then details[Wanjiru] accesses the values\n"
      ],
      "metadata": {
        "colab": {
          "base_uri": "https://localhost:8080/"
        },
        "id": "Kz33WBS9ByqY",
        "outputId": "01415b4b-d817-4929-d3bc-e08f387025bb"
      },
      "execution_count": 54,
      "outputs": [
        {
          "output_type": "stream",
          "name": "stdout",
          "text": [
            "first name Esther\n",
            "age 28\n",
            "favorite_language Python\n",
            "last name Maina\n"
          ]
        }
      ]
    },
    {
      "cell_type": "code",
      "source": [],
      "metadata": {
        "id": "M7SKYuZ4x8NE"
      },
      "execution_count": null,
      "outputs": []
    },
    {
      "cell_type": "code",
      "source": [
        "#Alternatively you can use .items()\n",
        "for key, value in details.items():\n",
        "    print('This is the key:',  key)\n",
        "    print('This is the value:',  value)\n",
        "\n",
        "\n",
        "\n"
      ],
      "metadata": {
        "colab": {
          "base_uri": "https://localhost:8080/"
        },
        "id": "C8FRRKneCbxN",
        "outputId": "cf2615ec-e07c-4be6-8d41-76cd8296a907"
      },
      "execution_count": null,
      "outputs": [
        {
          "output_type": "stream",
          "name": "stdout",
          "text": [
            "This is the key: first name\n",
            "This is the value: Esther\n",
            "This is the key: age\n",
            "This is the value: 28\n",
            "This is the key: favorite_language\n",
            "This is the value: Python\n",
            "This is the key: last name\n",
            "This is the value: Maina\n"
          ]
        }
      ]
    },
    {
      "cell_type": "code",
      "source": [
        "for idx, item in enumerate(['A', 'B', 'C']):\n",
        "    print(idx, item)"
      ],
      "metadata": {
        "colab": {
          "base_uri": "https://localhost:8080/"
        },
        "id": "wP3VJicvy0hV",
        "outputId": "9476d24e-0902-47aa-c5fc-03339a9e1421"
      },
      "execution_count": 23,
      "outputs": [
        {
          "output_type": "stream",
          "name": "stdout",
          "text": [
            "0 A\n",
            "1 B\n",
            "2 C\n"
          ]
        }
      ]
    },
    {
      "cell_type": "code",
      "source": [
        "different_elements = ['A String', [\"a\", 'list', \"of\", 5, [\"elements\"]], {'this': \"is a dictionary\"}]\n",
        "for element in different_elements:\n",
        "    print(element)"
      ],
      "metadata": {
        "colab": {
          "base_uri": "https://localhost:8080/"
        },
        "id": "2QiyfLqozGoq",
        "outputId": "9787ac37-2247-472e-af5d-808c8d81b740"
      },
      "execution_count": 24,
      "outputs": [
        {
          "output_type": "stream",
          "name": "stdout",
          "text": [
            "A String\n",
            "['a', 'list', 'of', 5, ['elements']]\n",
            "{'this': 'is a dictionary'}\n"
          ]
        }
      ]
    },
    {
      "cell_type": "code",
      "source": [
        "#calling  out a dictionary\n",
        "different_elements[2]['this']"
      ],
      "metadata": {
        "colab": {
          "base_uri": "https://localhost:8080/",
          "height": 35
        },
        "id": "dmq3nwzDzXGM",
        "outputId": "c3410ff8-a773-469d-f86f-758e7eb19620"
      },
      "execution_count": 62,
      "outputs": [
        {
          "output_type": "execute_result",
          "data": {
            "text/plain": [
              "'is a dictionary'"
            ],
            "application/vnd.google.colaboratory.intrinsic+json": {
              "type": "string"
            }
          },
          "metadata": {},
          "execution_count": 62
        }
      ]
    },
    {
      "cell_type": "code",
      "source": [
        "different_elements[0]"
      ],
      "metadata": {
        "colab": {
          "base_uri": "https://localhost:8080/",
          "height": 35
        },
        "id": "MLCjfajYzr9K",
        "outputId": "388722ed-23b6-4a7e-9d2f-0d44f274a856"
      },
      "execution_count": 63,
      "outputs": [
        {
          "output_type": "execute_result",
          "data": {
            "text/plain": [
              "'A String'"
            ],
            "application/vnd.google.colaboratory.intrinsic+json": {
              "type": "string"
            }
          },
          "metadata": {},
          "execution_count": 63
        }
      ]
    },
    {
      "cell_type": "code",
      "source": [
        "example_dictionary = {'first_name': \"Terrance\", 'last_name': \"KOAR\", 'favorite_language': \"Python\"}\n",
        "print(example_dictionary.values())\n",
        "type(example_dictionary.values())"
      ],
      "metadata": {
        "colab": {
          "base_uri": "https://localhost:8080/"
        },
        "id": "OA4ENyPa0AOJ",
        "outputId": "816bcf6b-cb97-4daf-baa5-1fb6e66d3423"
      },
      "execution_count": 25,
      "outputs": [
        {
          "output_type": "stream",
          "name": "stdout",
          "text": [
            "dict_values(['Terrance', 'KOAR', 'Python'])\n"
          ]
        },
        {
          "output_type": "execute_result",
          "data": {
            "text/plain": [
              "dict_values"
            ]
          },
          "metadata": {},
          "execution_count": 25
        }
      ]
    },
    {
      "cell_type": "code",
      "source": [
        "for keys,values in example_dictionary.items():\n",
        "    print(keys,values,'\\n')"
      ],
      "metadata": {
        "colab": {
          "base_uri": "https://localhost:8080/"
        },
        "id": "-qVeINvYyrtP",
        "outputId": "d72f1e3b-76a3-46ee-8b4a-81396d8d2617"
      },
      "execution_count": 64,
      "outputs": [
        {
          "output_type": "stream",
          "name": "stdout",
          "text": [
            "first_name Terrance \n",
            "\n",
            "last_name KOAR \n",
            "\n",
            "favorite_language Python \n",
            "\n"
          ]
        }
      ]
    },
    {
      "cell_type": "code",
      "source": [
        "# \"\\n\") means the end puts an enter\n",
        "#when retrieving two things in a dictionary just put both\n",
        "for key, value in example_dictionary.items():\n",
        "    print(\"this is the key:\", key)\n",
        "    print(\"this is the value:\", value, \"\\n\")"
      ],
      "metadata": {
        "colab": {
          "base_uri": "https://localhost:8080/"
        },
        "id": "Dt-WuLB10hTj",
        "outputId": "e38b934b-b470-490a-f687-0c961bd130f7"
      },
      "execution_count": 26,
      "outputs": [
        {
          "output_type": "stream",
          "name": "stdout",
          "text": [
            "this is the key: first_name\n",
            "this is the value: Terrance \n",
            "\n",
            "this is the key: last_name\n",
            "this is the value: KOAR \n",
            "\n",
            "this is the key: favorite_language\n",
            "this is the value: Python \n",
            "\n"
          ]
        }
      ]
    },
    {
      "cell_type": "code",
      "source": [
        "first_name = \"\"\n",
        "last_name = \"\"\n",
        "for key, value in example_dictionary.items():\n",
        "    if key == \"last_name\":\n",
        "        last_name = value.casefold()\n",
        "    if key == \"first_name\":\n",
        "        first_name = value.title()\n",
        "print(first_name, last_name)"
      ],
      "metadata": {
        "colab": {
          "base_uri": "https://localhost:8080/"
        },
        "id": "XhrBgG-t1Zik",
        "outputId": "110733bc-d8e4-4729-a542-b46736a1018f"
      },
      "execution_count": 67,
      "outputs": [
        {
          "output_type": "stream",
          "name": "stdout",
          "text": [
            "Terrance koar\n"
          ]
        }
      ]
    },
    {
      "cell_type": "code",
      "source": [
        "ice_cream_flavors = ['Mint Chocolate Chip', 'Coffee', 'Cookie Dough', 'Fudge Mint Brownie', 'Vanilla Bean']\n",
        "for ice_cream_flavor in ice_cream_flavors:\n",
        "    print('I love ' + ice_cream_flavor + ' ice cream!!')"
      ],
      "metadata": {
        "colab": {
          "base_uri": "https://localhost:8080/"
        },
        "id": "3pyor9oa158r",
        "outputId": "4a7a81be-b8f5-492b-826f-6743dc83dcee"
      },
      "execution_count": 28,
      "outputs": [
        {
          "output_type": "stream",
          "name": "stdout",
          "text": [
            "I love Mint Chocolate Chip ice cream!!\n",
            "I love Coffee ice cream!!\n",
            "I love Cookie Dough ice cream!!\n",
            "I love Fudge Mint Brownie ice cream!!\n",
            "I love Vanilla Bean ice cream!!\n"
          ]
        }
      ]
    },
    {
      "cell_type": "code",
      "source": [
        "bucket_list_countries= ['Portugal',' South Africa', 'Namimbia', 'Morocco', 'Jordan']\n",
        "#for my_favorite_countries in bucket_list_countries:\n",
        "for index in list(range(0,len(bucket_list_countries))):\n",
        "      print(index, 'I am saving up to travel to' , bucket_list_countries[index])"
      ],
      "metadata": {
        "id": "-jxD9pBQ2ucc",
        "colab": {
          "base_uri": "https://localhost:8080/"
        },
        "outputId": "69cd98ca-e45f-4e5a-a855-cf493f391a32"
      },
      "execution_count": 29,
      "outputs": [
        {
          "output_type": "stream",
          "name": "stdout",
          "text": [
            "0 I am saving up to travel to Portugal\n",
            "1 I am saving up to travel to  South Africa\n",
            "2 I am saving up to travel to Namimbia\n",
            "3 I am saving up to travel to Morocco\n",
            "4 I am saving up to travel to Jordan\n"
          ]
        }
      ]
    },
    {
      "cell_type": "code",
      "source": [
        "fruits = ('bananas','fruits','oranges', 'quavas')\n",
        "for index in list(range(0,len(fruits)) ):\n",
        "    print(index, 'i love', fruits[index])\n"
      ],
      "metadata": {
        "id": "SKqH6wkU7xUR",
        "colab": {
          "base_uri": "https://localhost:8080/"
        },
        "outputId": "8163fc20-b4fc-4934-982f-74593539593d"
      },
      "execution_count": 30,
      "outputs": [
        {
          "output_type": "stream",
          "name": "stdout",
          "text": [
            "0 i love bananas\n",
            "1 i love fruits\n",
            "2 i love oranges\n",
            "3 i love quavas\n"
          ]
        }
      ]
    },
    {
      "cell_type": "code",
      "source": [
        "#WHILE LOOPS\n",
        "#Assignvalue\n",
        "#set condition\n",
        "#print function.\n",
        "number = 0\n",
        "while number <5:\n",
        "    print(number)\n",
        "    number = number +1\n"
      ],
      "metadata": {
        "colab": {
          "base_uri": "https://localhost:8080/"
        },
        "id": "-Ew9dqT38yTk",
        "outputId": "6a7eb221-c468-426d-eb89-7be5a3366067"
      },
      "execution_count": 31,
      "outputs": [
        {
          "output_type": "stream",
          "name": "stdout",
          "text": [
            "0\n",
            "1\n",
            "2\n",
            "3\n",
            "4\n"
          ]
        }
      ]
    },
    {
      "cell_type": "code",
      "source": [
        "# for loops labs"
      ],
      "metadata": {
        "id": "90Yp2jXv58iz"
      },
      "execution_count": null,
      "outputs": []
    },
    {
      "cell_type": "code",
      "source": [
        "import pandas as pd\n",
        "file_name = './cities.xlsx'\n",
        "travel_df = pd.read_excel(file_name)\n",
        "cities = travel_df.to_dict('records')\n"
      ],
      "metadata": {
        "colab": {
          "base_uri": "https://localhost:8080/",
          "height": 356
        },
        "id": "iIOTmhbK6AcE",
        "outputId": "e0665ac2-c45f-4905-eee1-6211fd99c41e"
      },
      "execution_count": 69,
      "outputs": [
        {
          "output_type": "error",
          "ename": "FileNotFoundError",
          "evalue": "[Errno 2] No such file or directory: './cities.xlsx'",
          "traceback": [
            "\u001b[0;31m---------------------------------------------------------------------------\u001b[0m",
            "\u001b[0;31mFileNotFoundError\u001b[0m                         Traceback (most recent call last)",
            "\u001b[0;32m<ipython-input-69-cd755be98823>\u001b[0m in \u001b[0;36m<cell line: 0>\u001b[0;34m()\u001b[0m\n\u001b[1;32m      1\u001b[0m \u001b[0;32mimport\u001b[0m \u001b[0mpandas\u001b[0m \u001b[0;32mas\u001b[0m \u001b[0mpd\u001b[0m\u001b[0;34m\u001b[0m\u001b[0;34m\u001b[0m\u001b[0m\n\u001b[1;32m      2\u001b[0m \u001b[0mfile_name\u001b[0m \u001b[0;34m=\u001b[0m \u001b[0;34m'./cities.xlsx'\u001b[0m\u001b[0;34m\u001b[0m\u001b[0;34m\u001b[0m\u001b[0m\n\u001b[0;32m----> 3\u001b[0;31m \u001b[0mtravel_df\u001b[0m \u001b[0;34m=\u001b[0m \u001b[0mpd\u001b[0m\u001b[0;34m.\u001b[0m\u001b[0mread_excel\u001b[0m\u001b[0;34m(\u001b[0m\u001b[0mfile_name\u001b[0m\u001b[0;34m)\u001b[0m\u001b[0;34m\u001b[0m\u001b[0;34m\u001b[0m\u001b[0m\n\u001b[0m\u001b[1;32m      4\u001b[0m \u001b[0mcities\u001b[0m \u001b[0;34m=\u001b[0m \u001b[0mtravel_df\u001b[0m\u001b[0;34m.\u001b[0m\u001b[0mto_dict\u001b[0m\u001b[0;34m(\u001b[0m\u001b[0;34m'records'\u001b[0m\u001b[0;34m)\u001b[0m\u001b[0;34m\u001b[0m\u001b[0;34m\u001b[0m\u001b[0m\n",
            "\u001b[0;32m/usr/local/lib/python3.11/dist-packages/pandas/io/excel/_base.py\u001b[0m in \u001b[0;36mread_excel\u001b[0;34m(io, sheet_name, header, names, index_col, usecols, dtype, engine, converters, true_values, false_values, skiprows, nrows, na_values, keep_default_na, na_filter, verbose, parse_dates, date_parser, date_format, thousands, decimal, comment, skipfooter, storage_options, dtype_backend, engine_kwargs)\u001b[0m\n\u001b[1;32m    493\u001b[0m     \u001b[0;32mif\u001b[0m \u001b[0;32mnot\u001b[0m \u001b[0misinstance\u001b[0m\u001b[0;34m(\u001b[0m\u001b[0mio\u001b[0m\u001b[0;34m,\u001b[0m \u001b[0mExcelFile\u001b[0m\u001b[0;34m)\u001b[0m\u001b[0;34m:\u001b[0m\u001b[0;34m\u001b[0m\u001b[0;34m\u001b[0m\u001b[0m\n\u001b[1;32m    494\u001b[0m         \u001b[0mshould_close\u001b[0m \u001b[0;34m=\u001b[0m \u001b[0;32mTrue\u001b[0m\u001b[0;34m\u001b[0m\u001b[0;34m\u001b[0m\u001b[0m\n\u001b[0;32m--> 495\u001b[0;31m         io = ExcelFile(\n\u001b[0m\u001b[1;32m    496\u001b[0m             \u001b[0mio\u001b[0m\u001b[0;34m,\u001b[0m\u001b[0;34m\u001b[0m\u001b[0;34m\u001b[0m\u001b[0m\n\u001b[1;32m    497\u001b[0m             \u001b[0mstorage_options\u001b[0m\u001b[0;34m=\u001b[0m\u001b[0mstorage_options\u001b[0m\u001b[0;34m,\u001b[0m\u001b[0;34m\u001b[0m\u001b[0;34m\u001b[0m\u001b[0m\n",
            "\u001b[0;32m/usr/local/lib/python3.11/dist-packages/pandas/io/excel/_base.py\u001b[0m in \u001b[0;36m__init__\u001b[0;34m(self, path_or_buffer, engine, storage_options, engine_kwargs)\u001b[0m\n\u001b[1;32m   1548\u001b[0m                 \u001b[0mext\u001b[0m \u001b[0;34m=\u001b[0m \u001b[0;34m\"xls\"\u001b[0m\u001b[0;34m\u001b[0m\u001b[0;34m\u001b[0m\u001b[0m\n\u001b[1;32m   1549\u001b[0m             \u001b[0;32melse\u001b[0m\u001b[0;34m:\u001b[0m\u001b[0;34m\u001b[0m\u001b[0;34m\u001b[0m\u001b[0m\n\u001b[0;32m-> 1550\u001b[0;31m                 ext = inspect_excel_format(\n\u001b[0m\u001b[1;32m   1551\u001b[0m                     \u001b[0mcontent_or_path\u001b[0m\u001b[0;34m=\u001b[0m\u001b[0mpath_or_buffer\u001b[0m\u001b[0;34m,\u001b[0m \u001b[0mstorage_options\u001b[0m\u001b[0;34m=\u001b[0m\u001b[0mstorage_options\u001b[0m\u001b[0;34m\u001b[0m\u001b[0;34m\u001b[0m\u001b[0m\n\u001b[1;32m   1552\u001b[0m                 )\n",
            "\u001b[0;32m/usr/local/lib/python3.11/dist-packages/pandas/io/excel/_base.py\u001b[0m in \u001b[0;36minspect_excel_format\u001b[0;34m(content_or_path, storage_options)\u001b[0m\n\u001b[1;32m   1400\u001b[0m         \u001b[0mcontent_or_path\u001b[0m \u001b[0;34m=\u001b[0m \u001b[0mBytesIO\u001b[0m\u001b[0;34m(\u001b[0m\u001b[0mcontent_or_path\u001b[0m\u001b[0;34m)\u001b[0m\u001b[0;34m\u001b[0m\u001b[0;34m\u001b[0m\u001b[0m\n\u001b[1;32m   1401\u001b[0m \u001b[0;34m\u001b[0m\u001b[0m\n\u001b[0;32m-> 1402\u001b[0;31m     with get_handle(\n\u001b[0m\u001b[1;32m   1403\u001b[0m         \u001b[0mcontent_or_path\u001b[0m\u001b[0;34m,\u001b[0m \u001b[0;34m\"rb\"\u001b[0m\u001b[0;34m,\u001b[0m \u001b[0mstorage_options\u001b[0m\u001b[0;34m=\u001b[0m\u001b[0mstorage_options\u001b[0m\u001b[0;34m,\u001b[0m \u001b[0mis_text\u001b[0m\u001b[0;34m=\u001b[0m\u001b[0;32mFalse\u001b[0m\u001b[0;34m\u001b[0m\u001b[0;34m\u001b[0m\u001b[0m\n\u001b[1;32m   1404\u001b[0m     ) as handle:\n",
            "\u001b[0;32m/usr/local/lib/python3.11/dist-packages/pandas/io/common.py\u001b[0m in \u001b[0;36mget_handle\u001b[0;34m(path_or_buf, mode, encoding, compression, memory_map, is_text, errors, storage_options)\u001b[0m\n\u001b[1;32m    880\u001b[0m         \u001b[0;32melse\u001b[0m\u001b[0;34m:\u001b[0m\u001b[0;34m\u001b[0m\u001b[0;34m\u001b[0m\u001b[0m\n\u001b[1;32m    881\u001b[0m             \u001b[0;31m# Binary mode\u001b[0m\u001b[0;34m\u001b[0m\u001b[0;34m\u001b[0m\u001b[0m\n\u001b[0;32m--> 882\u001b[0;31m             \u001b[0mhandle\u001b[0m \u001b[0;34m=\u001b[0m \u001b[0mopen\u001b[0m\u001b[0;34m(\u001b[0m\u001b[0mhandle\u001b[0m\u001b[0;34m,\u001b[0m \u001b[0mioargs\u001b[0m\u001b[0;34m.\u001b[0m\u001b[0mmode\u001b[0m\u001b[0;34m)\u001b[0m\u001b[0;34m\u001b[0m\u001b[0;34m\u001b[0m\u001b[0m\n\u001b[0m\u001b[1;32m    883\u001b[0m         \u001b[0mhandles\u001b[0m\u001b[0;34m.\u001b[0m\u001b[0mappend\u001b[0m\u001b[0;34m(\u001b[0m\u001b[0mhandle\u001b[0m\u001b[0;34m)\u001b[0m\u001b[0;34m\u001b[0m\u001b[0;34m\u001b[0m\u001b[0m\n\u001b[1;32m    884\u001b[0m \u001b[0;34m\u001b[0m\u001b[0m\n",
            "\u001b[0;31mFileNotFoundError\u001b[0m: [Errno 2] No such file or directory: './cities.xlsx'"
          ]
        }
      ]
    },
    {
      "cell_type": "code",
      "source": [
        "import pandas as pd\n",
        "from google.colab import drive\n",
        "drive.mount('/content/drive')"
      ],
      "metadata": {
        "colab": {
          "base_uri": "https://localhost:8080/"
        },
        "id": "o2Bwn7pb6DTV",
        "outputId": "f13aa9a0-6fcb-467b-f47c-971837b8cadd"
      },
      "execution_count": 71,
      "outputs": [
        {
          "output_type": "stream",
          "name": "stdout",
          "text": [
            "Drive already mounted at /content/drive; to attempt to forcibly remount, call drive.mount(\"/content/drive\", force_remount=True).\n"
          ]
        }
      ]
    },
    {
      "cell_type": "code",
      "source": [
        "\n",
        "df =  pd.read_csv(\"/content/drive/MyDrive/TRAVEL _CITIES.csv\")\n",
        "travel_cities= df.dropna()\n",
        "travel_cities"
      ],
      "metadata": {
        "colab": {
          "base_uri": "https://localhost:8080/",
          "height": 425
        },
        "id": "KaPQcY8Z7_pf",
        "outputId": "31e62ac4-79fb-45eb-cd2d-627466b335b3"
      },
      "execution_count": 79,
      "outputs": [
        {
          "output_type": "execute_result",
          "data": {
            "text/plain": [
              "                  City      Country  Population       Area\n",
              "0                Solta      Croatia      1700.0       59.0\n",
              "1           Greenville          USA     84554.0       68.0\n",
              "2         Buenos Aires    Argentina  13591863.0     4758.0\n",
              "3            Los Cabos       Mexico    287651.0     3750.0\n",
              "4   Walla Walla Valley          USA     32237.0       33.0\n",
              "5             Marakesh      Morocco    928850.0      200.0\n",
              "6          Albuquerque   New Mexico    559277.0      491.0\n",
              "7      Archipelago Sea      Finland     60000.0     8300.0\n",
              "8         Iguazu Falls    Argentina         0.0      672.0\n",
              "9        Salina Island        Italy      4000.0       27.0\n",
              "10             Toronto       Canada       630.0  2731571.0\n",
              "11         Pyeongchang  South Korea   2581000.0     3194.0"
            ],
            "text/html": [
              "\n",
              "  <div id=\"df-71dee43a-52ef-469d-aeae-c444e729db8f\" class=\"colab-df-container\">\n",
              "    <div>\n",
              "<style scoped>\n",
              "    .dataframe tbody tr th:only-of-type {\n",
              "        vertical-align: middle;\n",
              "    }\n",
              "\n",
              "    .dataframe tbody tr th {\n",
              "        vertical-align: top;\n",
              "    }\n",
              "\n",
              "    .dataframe thead th {\n",
              "        text-align: right;\n",
              "    }\n",
              "</style>\n",
              "<table border=\"1\" class=\"dataframe\">\n",
              "  <thead>\n",
              "    <tr style=\"text-align: right;\">\n",
              "      <th></th>\n",
              "      <th>City</th>\n",
              "      <th>Country</th>\n",
              "      <th>Population</th>\n",
              "      <th>Area</th>\n",
              "    </tr>\n",
              "  </thead>\n",
              "  <tbody>\n",
              "    <tr>\n",
              "      <th>0</th>\n",
              "      <td>Solta</td>\n",
              "      <td>Croatia</td>\n",
              "      <td>1700.0</td>\n",
              "      <td>59.0</td>\n",
              "    </tr>\n",
              "    <tr>\n",
              "      <th>1</th>\n",
              "      <td>Greenville</td>\n",
              "      <td>USA</td>\n",
              "      <td>84554.0</td>\n",
              "      <td>68.0</td>\n",
              "    </tr>\n",
              "    <tr>\n",
              "      <th>2</th>\n",
              "      <td>Buenos Aires</td>\n",
              "      <td>Argentina</td>\n",
              "      <td>13591863.0</td>\n",
              "      <td>4758.0</td>\n",
              "    </tr>\n",
              "    <tr>\n",
              "      <th>3</th>\n",
              "      <td>Los Cabos</td>\n",
              "      <td>Mexico</td>\n",
              "      <td>287651.0</td>\n",
              "      <td>3750.0</td>\n",
              "    </tr>\n",
              "    <tr>\n",
              "      <th>4</th>\n",
              "      <td>Walla Walla Valley</td>\n",
              "      <td>USA</td>\n",
              "      <td>32237.0</td>\n",
              "      <td>33.0</td>\n",
              "    </tr>\n",
              "    <tr>\n",
              "      <th>5</th>\n",
              "      <td>Marakesh</td>\n",
              "      <td>Morocco</td>\n",
              "      <td>928850.0</td>\n",
              "      <td>200.0</td>\n",
              "    </tr>\n",
              "    <tr>\n",
              "      <th>6</th>\n",
              "      <td>Albuquerque</td>\n",
              "      <td>New Mexico</td>\n",
              "      <td>559277.0</td>\n",
              "      <td>491.0</td>\n",
              "    </tr>\n",
              "    <tr>\n",
              "      <th>7</th>\n",
              "      <td>Archipelago Sea</td>\n",
              "      <td>Finland</td>\n",
              "      <td>60000.0</td>\n",
              "      <td>8300.0</td>\n",
              "    </tr>\n",
              "    <tr>\n",
              "      <th>8</th>\n",
              "      <td>Iguazu Falls</td>\n",
              "      <td>Argentina</td>\n",
              "      <td>0.0</td>\n",
              "      <td>672.0</td>\n",
              "    </tr>\n",
              "    <tr>\n",
              "      <th>9</th>\n",
              "      <td>Salina Island</td>\n",
              "      <td>Italy</td>\n",
              "      <td>4000.0</td>\n",
              "      <td>27.0</td>\n",
              "    </tr>\n",
              "    <tr>\n",
              "      <th>10</th>\n",
              "      <td>Toronto</td>\n",
              "      <td>Canada</td>\n",
              "      <td>630.0</td>\n",
              "      <td>2731571.0</td>\n",
              "    </tr>\n",
              "    <tr>\n",
              "      <th>11</th>\n",
              "      <td>Pyeongchang</td>\n",
              "      <td>South Korea</td>\n",
              "      <td>2581000.0</td>\n",
              "      <td>3194.0</td>\n",
              "    </tr>\n",
              "  </tbody>\n",
              "</table>\n",
              "</div>\n",
              "    <div class=\"colab-df-buttons\">\n",
              "\n",
              "  <div class=\"colab-df-container\">\n",
              "    <button class=\"colab-df-convert\" onclick=\"convertToInteractive('df-71dee43a-52ef-469d-aeae-c444e729db8f')\"\n",
              "            title=\"Convert this dataframe to an interactive table.\"\n",
              "            style=\"display:none;\">\n",
              "\n",
              "  <svg xmlns=\"http://www.w3.org/2000/svg\" height=\"24px\" viewBox=\"0 -960 960 960\">\n",
              "    <path d=\"M120-120v-720h720v720H120Zm60-500h600v-160H180v160Zm220 220h160v-160H400v160Zm0 220h160v-160H400v160ZM180-400h160v-160H180v160Zm440 0h160v-160H620v160ZM180-180h160v-160H180v160Zm440 0h160v-160H620v160Z\"/>\n",
              "  </svg>\n",
              "    </button>\n",
              "\n",
              "  <style>\n",
              "    .colab-df-container {\n",
              "      display:flex;\n",
              "      gap: 12px;\n",
              "    }\n",
              "\n",
              "    .colab-df-convert {\n",
              "      background-color: #E8F0FE;\n",
              "      border: none;\n",
              "      border-radius: 50%;\n",
              "      cursor: pointer;\n",
              "      display: none;\n",
              "      fill: #1967D2;\n",
              "      height: 32px;\n",
              "      padding: 0 0 0 0;\n",
              "      width: 32px;\n",
              "    }\n",
              "\n",
              "    .colab-df-convert:hover {\n",
              "      background-color: #E2EBFA;\n",
              "      box-shadow: 0px 1px 2px rgba(60, 64, 67, 0.3), 0px 1px 3px 1px rgba(60, 64, 67, 0.15);\n",
              "      fill: #174EA6;\n",
              "    }\n",
              "\n",
              "    .colab-df-buttons div {\n",
              "      margin-bottom: 4px;\n",
              "    }\n",
              "\n",
              "    [theme=dark] .colab-df-convert {\n",
              "      background-color: #3B4455;\n",
              "      fill: #D2E3FC;\n",
              "    }\n",
              "\n",
              "    [theme=dark] .colab-df-convert:hover {\n",
              "      background-color: #434B5C;\n",
              "      box-shadow: 0px 1px 3px 1px rgba(0, 0, 0, 0.15);\n",
              "      filter: drop-shadow(0px 1px 2px rgba(0, 0, 0, 0.3));\n",
              "      fill: #FFFFFF;\n",
              "    }\n",
              "  </style>\n",
              "\n",
              "    <script>\n",
              "      const buttonEl =\n",
              "        document.querySelector('#df-71dee43a-52ef-469d-aeae-c444e729db8f button.colab-df-convert');\n",
              "      buttonEl.style.display =\n",
              "        google.colab.kernel.accessAllowed ? 'block' : 'none';\n",
              "\n",
              "      async function convertToInteractive(key) {\n",
              "        const element = document.querySelector('#df-71dee43a-52ef-469d-aeae-c444e729db8f');\n",
              "        const dataTable =\n",
              "          await google.colab.kernel.invokeFunction('convertToInteractive',\n",
              "                                                    [key], {});\n",
              "        if (!dataTable) return;\n",
              "\n",
              "        const docLinkHtml = 'Like what you see? Visit the ' +\n",
              "          '<a target=\"_blank\" href=https://colab.research.google.com/notebooks/data_table.ipynb>data table notebook</a>'\n",
              "          + ' to learn more about interactive tables.';\n",
              "        element.innerHTML = '';\n",
              "        dataTable['output_type'] = 'display_data';\n",
              "        await google.colab.output.renderOutput(dataTable, element);\n",
              "        const docLink = document.createElement('div');\n",
              "        docLink.innerHTML = docLinkHtml;\n",
              "        element.appendChild(docLink);\n",
              "      }\n",
              "    </script>\n",
              "  </div>\n",
              "\n",
              "\n",
              "<div id=\"df-e50fee21-7b8a-4278-90bf-3201ff46385a\">\n",
              "  <button class=\"colab-df-quickchart\" onclick=\"quickchart('df-e50fee21-7b8a-4278-90bf-3201ff46385a')\"\n",
              "            title=\"Suggest charts\"\n",
              "            style=\"display:none;\">\n",
              "\n",
              "<svg xmlns=\"http://www.w3.org/2000/svg\" height=\"24px\"viewBox=\"0 0 24 24\"\n",
              "     width=\"24px\">\n",
              "    <g>\n",
              "        <path d=\"M19 3H5c-1.1 0-2 .9-2 2v14c0 1.1.9 2 2 2h14c1.1 0 2-.9 2-2V5c0-1.1-.9-2-2-2zM9 17H7v-7h2v7zm4 0h-2V7h2v10zm4 0h-2v-4h2v4z\"/>\n",
              "    </g>\n",
              "</svg>\n",
              "  </button>\n",
              "\n",
              "<style>\n",
              "  .colab-df-quickchart {\n",
              "      --bg-color: #E8F0FE;\n",
              "      --fill-color: #1967D2;\n",
              "      --hover-bg-color: #E2EBFA;\n",
              "      --hover-fill-color: #174EA6;\n",
              "      --disabled-fill-color: #AAA;\n",
              "      --disabled-bg-color: #DDD;\n",
              "  }\n",
              "\n",
              "  [theme=dark] .colab-df-quickchart {\n",
              "      --bg-color: #3B4455;\n",
              "      --fill-color: #D2E3FC;\n",
              "      --hover-bg-color: #434B5C;\n",
              "      --hover-fill-color: #FFFFFF;\n",
              "      --disabled-bg-color: #3B4455;\n",
              "      --disabled-fill-color: #666;\n",
              "  }\n",
              "\n",
              "  .colab-df-quickchart {\n",
              "    background-color: var(--bg-color);\n",
              "    border: none;\n",
              "    border-radius: 50%;\n",
              "    cursor: pointer;\n",
              "    display: none;\n",
              "    fill: var(--fill-color);\n",
              "    height: 32px;\n",
              "    padding: 0;\n",
              "    width: 32px;\n",
              "  }\n",
              "\n",
              "  .colab-df-quickchart:hover {\n",
              "    background-color: var(--hover-bg-color);\n",
              "    box-shadow: 0 1px 2px rgba(60, 64, 67, 0.3), 0 1px 3px 1px rgba(60, 64, 67, 0.15);\n",
              "    fill: var(--button-hover-fill-color);\n",
              "  }\n",
              "\n",
              "  .colab-df-quickchart-complete:disabled,\n",
              "  .colab-df-quickchart-complete:disabled:hover {\n",
              "    background-color: var(--disabled-bg-color);\n",
              "    fill: var(--disabled-fill-color);\n",
              "    box-shadow: none;\n",
              "  }\n",
              "\n",
              "  .colab-df-spinner {\n",
              "    border: 2px solid var(--fill-color);\n",
              "    border-color: transparent;\n",
              "    border-bottom-color: var(--fill-color);\n",
              "    animation:\n",
              "      spin 1s steps(1) infinite;\n",
              "  }\n",
              "\n",
              "  @keyframes spin {\n",
              "    0% {\n",
              "      border-color: transparent;\n",
              "      border-bottom-color: var(--fill-color);\n",
              "      border-left-color: var(--fill-color);\n",
              "    }\n",
              "    20% {\n",
              "      border-color: transparent;\n",
              "      border-left-color: var(--fill-color);\n",
              "      border-top-color: var(--fill-color);\n",
              "    }\n",
              "    30% {\n",
              "      border-color: transparent;\n",
              "      border-left-color: var(--fill-color);\n",
              "      border-top-color: var(--fill-color);\n",
              "      border-right-color: var(--fill-color);\n",
              "    }\n",
              "    40% {\n",
              "      border-color: transparent;\n",
              "      border-right-color: var(--fill-color);\n",
              "      border-top-color: var(--fill-color);\n",
              "    }\n",
              "    60% {\n",
              "      border-color: transparent;\n",
              "      border-right-color: var(--fill-color);\n",
              "    }\n",
              "    80% {\n",
              "      border-color: transparent;\n",
              "      border-right-color: var(--fill-color);\n",
              "      border-bottom-color: var(--fill-color);\n",
              "    }\n",
              "    90% {\n",
              "      border-color: transparent;\n",
              "      border-bottom-color: var(--fill-color);\n",
              "    }\n",
              "  }\n",
              "</style>\n",
              "\n",
              "  <script>\n",
              "    async function quickchart(key) {\n",
              "      const quickchartButtonEl =\n",
              "        document.querySelector('#' + key + ' button');\n",
              "      quickchartButtonEl.disabled = true;  // To prevent multiple clicks.\n",
              "      quickchartButtonEl.classList.add('colab-df-spinner');\n",
              "      try {\n",
              "        const charts = await google.colab.kernel.invokeFunction(\n",
              "            'suggestCharts', [key], {});\n",
              "      } catch (error) {\n",
              "        console.error('Error during call to suggestCharts:', error);\n",
              "      }\n",
              "      quickchartButtonEl.classList.remove('colab-df-spinner');\n",
              "      quickchartButtonEl.classList.add('colab-df-quickchart-complete');\n",
              "    }\n",
              "    (() => {\n",
              "      let quickchartButtonEl =\n",
              "        document.querySelector('#df-e50fee21-7b8a-4278-90bf-3201ff46385a button');\n",
              "      quickchartButtonEl.style.display =\n",
              "        google.colab.kernel.accessAllowed ? 'block' : 'none';\n",
              "    })();\n",
              "  </script>\n",
              "</div>\n",
              "\n",
              "  <div id=\"id_cca1e851-4921-446b-8575-45b9c5348057\">\n",
              "    <style>\n",
              "      .colab-df-generate {\n",
              "        background-color: #E8F0FE;\n",
              "        border: none;\n",
              "        border-radius: 50%;\n",
              "        cursor: pointer;\n",
              "        display: none;\n",
              "        fill: #1967D2;\n",
              "        height: 32px;\n",
              "        padding: 0 0 0 0;\n",
              "        width: 32px;\n",
              "      }\n",
              "\n",
              "      .colab-df-generate:hover {\n",
              "        background-color: #E2EBFA;\n",
              "        box-shadow: 0px 1px 2px rgba(60, 64, 67, 0.3), 0px 1px 3px 1px rgba(60, 64, 67, 0.15);\n",
              "        fill: #174EA6;\n",
              "      }\n",
              "\n",
              "      [theme=dark] .colab-df-generate {\n",
              "        background-color: #3B4455;\n",
              "        fill: #D2E3FC;\n",
              "      }\n",
              "\n",
              "      [theme=dark] .colab-df-generate:hover {\n",
              "        background-color: #434B5C;\n",
              "        box-shadow: 0px 1px 3px 1px rgba(0, 0, 0, 0.15);\n",
              "        filter: drop-shadow(0px 1px 2px rgba(0, 0, 0, 0.3));\n",
              "        fill: #FFFFFF;\n",
              "      }\n",
              "    </style>\n",
              "    <button class=\"colab-df-generate\" onclick=\"generateWithVariable('travel_cities')\"\n",
              "            title=\"Generate code using this dataframe.\"\n",
              "            style=\"display:none;\">\n",
              "\n",
              "  <svg xmlns=\"http://www.w3.org/2000/svg\" height=\"24px\"viewBox=\"0 0 24 24\"\n",
              "       width=\"24px\">\n",
              "    <path d=\"M7,19H8.4L18.45,9,17,7.55,7,17.6ZM5,21V16.75L18.45,3.32a2,2,0,0,1,2.83,0l1.4,1.43a1.91,1.91,0,0,1,.58,1.4,1.91,1.91,0,0,1-.58,1.4L9.25,21ZM18.45,9,17,7.55Zm-12,3A5.31,5.31,0,0,0,4.9,8.1,5.31,5.31,0,0,0,1,6.5,5.31,5.31,0,0,0,4.9,4.9,5.31,5.31,0,0,0,6.5,1,5.31,5.31,0,0,0,8.1,4.9,5.31,5.31,0,0,0,12,6.5,5.46,5.46,0,0,0,6.5,12Z\"/>\n",
              "  </svg>\n",
              "    </button>\n",
              "    <script>\n",
              "      (() => {\n",
              "      const buttonEl =\n",
              "        document.querySelector('#id_cca1e851-4921-446b-8575-45b9c5348057 button.colab-df-generate');\n",
              "      buttonEl.style.display =\n",
              "        google.colab.kernel.accessAllowed ? 'block' : 'none';\n",
              "\n",
              "      buttonEl.onclick = () => {\n",
              "        google.colab.notebook.generateWithVariable('travel_cities');\n",
              "      }\n",
              "      })();\n",
              "    </script>\n",
              "  </div>\n",
              "\n",
              "    </div>\n",
              "  </div>\n"
            ],
            "application/vnd.google.colaboratory.intrinsic+json": {
              "type": "dataframe",
              "variable_name": "travel_cities",
              "summary": "{\n  \"name\": \"travel_cities\",\n  \"rows\": 12,\n  \"fields\": [\n    {\n      \"column\": \"City\",\n      \"properties\": {\n        \"dtype\": \"string\",\n        \"num_unique_values\": 12,\n        \"samples\": [\n          \"Toronto\",\n          \"Salina Island\",\n          \"Solta\"\n        ],\n        \"semantic_type\": \"\",\n        \"description\": \"\"\n      }\n    },\n    {\n      \"column\": \"Country\",\n      \"properties\": {\n        \"dtype\": \"string\",\n        \"num_unique_values\": 10,\n        \"samples\": [\n          \"Canada\",\n          \"USA\",\n          \"New Mexico\"\n        ],\n        \"semantic_type\": \"\",\n        \"description\": \"\"\n      }\n    },\n    {\n      \"column\": \"Population\",\n      \"properties\": {\n        \"dtype\": \"number\",\n        \"std\": 3876193.9171289676,\n        \"min\": 0.0,\n        \"max\": 13591863.0,\n        \"num_unique_values\": 12,\n        \"samples\": [\n          630.0,\n          4000.0,\n          1700.0\n        ],\n        \"semantic_type\": \"\",\n        \"description\": \"\"\n      }\n    },\n    {\n      \"column\": \"Area\",\n      \"properties\": {\n        \"dtype\": \"number\",\n        \"std\": 787975.3193086303,\n        \"min\": 27.0,\n        \"max\": 2731571.0,\n        \"num_unique_values\": 12,\n        \"samples\": [\n          2731571.0,\n          27.0,\n          59.0\n        ],\n        \"semantic_type\": \"\",\n        \"description\": \"\"\n      }\n    }\n  ]\n}"
            }
          },
          "metadata": {},
          "execution_count": 79
        }
      ]
    },
    {
      "cell_type": "code",
      "source": [
        "cities = travel_cities.to_dict('records')\n",
        "cities"
      ],
      "metadata": {
        "colab": {
          "base_uri": "https://localhost:8080/"
        },
        "id": "BIEJjxVH_NeD",
        "outputId": "c509e5c4-b837-407d-8b88-52c904f31204"
      },
      "execution_count": 81,
      "outputs": [
        {
          "output_type": "execute_result",
          "data": {
            "text/plain": [
              "[{'City': 'Solta', 'Country': 'Croatia', 'Population': 1700.0, 'Area': 59.0},\n",
              " {'City': 'Greenville', 'Country': 'USA', 'Population': 84554.0, 'Area': 68.0},\n",
              " {'City': 'Buenos Aires',\n",
              "  'Country': 'Argentina',\n",
              "  'Population': 13591863.0,\n",
              "  'Area': 4758.0},\n",
              " {'City': 'Los Cabos',\n",
              "  'Country': 'Mexico',\n",
              "  'Population': 287651.0,\n",
              "  'Area': 3750.0},\n",
              " {'City': 'Walla Walla Valley',\n",
              "  'Country': 'USA',\n",
              "  'Population': 32237.0,\n",
              "  'Area': 33.0},\n",
              " {'City': 'Marakesh',\n",
              "  'Country': 'Morocco',\n",
              "  'Population': 928850.0,\n",
              "  'Area': 200.0},\n",
              " {'City': 'Albuquerque',\n",
              "  'Country': 'New Mexico',\n",
              "  'Population': 559277.0,\n",
              "  'Area': 491.0},\n",
              " {'City': 'Archipelago Sea',\n",
              "  'Country': 'Finland',\n",
              "  'Population': 60000.0,\n",
              "  'Area': 8300.0},\n",
              " {'City': 'Iguazu Falls',\n",
              "  'Country': 'Argentina',\n",
              "  'Population': 0.0,\n",
              "  'Area': 672.0},\n",
              " {'City': 'Salina Island',\n",
              "  'Country': 'Italy',\n",
              "  'Population': 4000.0,\n",
              "  'Area': 27.0},\n",
              " {'City': 'Toronto',\n",
              "  'Country': 'Canada',\n",
              "  'Population': 630.0,\n",
              "  'Area': 2731571.0},\n",
              " {'City': 'Pyeongchang',\n",
              "  'Country': 'South Korea',\n",
              "  'Population': 2581000.0,\n",
              "  'Area': 3194.0}]"
            ]
          },
          "metadata": {},
          "execution_count": 81
        }
      ]
    },
    {
      "cell_type": "code",
      "source": [
        "import matplotlib.pyplot as plt\n",
        "\n",
        "%matplotlib inline\n",
        "\n",
        "x_values = [cities[0]['City'], cities[1]['City'], cities[2]['City']]\n",
        "y_values = [cities[0]['Population'], cities[1]['Population'], cities[2]['Population']]\n",
        "\n",
        "plt.bar(x_values, y_values)\n",
        "plt.ylabel('Population')\n",
        "plt.title('City Populations')\n",
        "\n",
        "plt.show()\n"
      ],
      "metadata": {
        "colab": {
          "base_uri": "https://localhost:8080/",
          "height": 452
        },
        "id": "95PaMxTk-TFi",
        "outputId": "8474a664-4de2-4b57-db50-6c38d42b528e"
      },
      "execution_count": 82,
      "outputs": [
        {
          "output_type": "display_data",
          "data": {
            "text/plain": [
              "<Figure size 640x480 with 1 Axes>"
            ],
            "image/png": "[encoded data removed]"
          },
          "metadata": {}
        }
      ]
    },
    {
      "cell_type": "code",
      "source": [
        "buenos_aires = cities[2]\n",
        "buenos_aires\n"
      ],
      "metadata": {
        "colab": {
          "base_uri": "https://localhost:8080/"
        },
        "id": "YFi-9MvS_qAZ",
        "outputId": "40e0c40a-2b06-4530-fc90-4acbb111963e"
      },
      "execution_count": 85,
      "outputs": [
        {
          "output_type": "execute_result",
          "data": {
            "text/plain": [
              "{'City': 'Buenos Aires',\n",
              " 'Country': 'Argentina',\n",
              " 'Population': 13591863.0,\n",
              " 'Area': 4758.0}"
            ]
          },
          "metadata": {},
          "execution_count": 85
        }
      ]
    },
    {
      "cell_type": "code",
      "source": [
        "# here we want to find just the area of buenos_aires\n",
        "buenos_aires['Area']"
      ],
      "metadata": {
        "colab": {
          "base_uri": "https://localhost:8080/"
        },
        "id": "10c-JthC_1tg",
        "outputId": "bf63462b-401b-4b1e-c759-a71a9d2f3501"
      },
      "execution_count": 86,
      "outputs": [
        {
          "output_type": "execute_result",
          "data": {
            "text/plain": [
              "4758.0"
            ]
          },
          "metadata": {},
          "execution_count": 86
        }
      ]
    },
    {
      "cell_type": "code",
      "source": [
        "# here we want to find just the area of buenos_aires\n",
        "buenos_aires_area = None\n",
        "# code goes here\n",
        "for key, value in buenos_aires.items():\n",
        "    if key == \"Area\":\n",
        "        buenos_aires_area = value\n",
        "buenos_aires_area\n"
      ],
      "metadata": {
        "colab": {
          "base_uri": "https://localhost:8080/"
        },
        "id": "64EO1GdYBOEy",
        "outputId": "3598d92d-8a3a-4054-d9b5-0ce5d1ea297b"
      },
      "execution_count": 91,
      "outputs": [
        {
          "output_type": "execute_result",
          "data": {
            "text/plain": [
              "4758.0"
            ]
          },
          "metadata": {},
          "execution_count": 91
        }
      ]
    },
    {
      "cell_type": "code",
      "source": [
        "city_indices = list(range(0,len(cities)))\n",
        "city_indices"
      ],
      "metadata": {
        "colab": {
          "base_uri": "https://localhost:8080/"
        },
        "id": "fzyuYbk-Bked",
        "outputId": "b7ab7029-a97f-49d7-de46-738aa6eca975"
      },
      "execution_count": 92,
      "outputs": [
        {
          "output_type": "execute_result",
          "data": {
            "text/plain": [
              "[0, 1, 2, 3, 4, 5, 6, 7, 8, 9, 10, 11]"
            ]
          },
          "metadata": {},
          "execution_count": 92
        }
      ]
    },
    {
      "cell_type": "code",
      "source": [
        "city_names =[]\n",
        "for i in cities:\n",
        "   city_names.append(i['City'])\n",
        "print(city_names)"
      ],
      "metadata": {
        "colab": {
          "base_uri": "https://localhost:8080/"
        },
        "id": "wfg9LQ07B6BR",
        "outputId": "d12ab8ed-d1bb-4242-9a55-f9106b1ee9cb"
      },
      "execution_count": 94,
      "outputs": [
        {
          "output_type": "stream",
          "name": "stdout",
          "text": [
            "['Solta', 'Greenville', 'Buenos Aires', 'Los Cabos', 'Walla Walla Valley', 'Marakesh', 'Albuquerque', 'Archipelago Sea', 'Iguazu Falls', 'Salina Island', 'Toronto', 'Pyeongchang']\n"
          ]
        }
      ]
    },
    {
      "cell_type": "code",
      "source": [
        "# Your task is to assign the variable names_and_ranks to a list, with each element equal to the city name and its corresponding rank.\n",
        "#For example, the first element would be, \"1. Buenos Aires\" and the second would be \"2. Toronto\".\n",
        "#Luckily for us, the list of cities that we read from our excel file is already in order by most populous to least.\n",
        "# So, all we need to do is add numbers 1 through 12 to the beginning of each city name.\n",
        "\n",
        "names_and_ranks = []\n",
        "for i in city_indices:\n",
        "    names_and_ranks.append(f\"{i+1}. {city_names[i]}\")\n",
        "names_and_ranks\n",
        "# write a for loop that adds the properly formatted string to the names_and_ranks list\n"
      ],
      "metadata": {
        "colab": {
          "base_uri": "https://localhost:8080/"
        },
        "id": "bFhU1i8lCpPZ",
        "outputId": "195c2b71-6968-4559-f551-578f85f6c046"
      },
      "execution_count": 98,
      "outputs": [
        {
          "output_type": "execute_result",
          "data": {
            "text/plain": [
              "['1. Solta',\n",
              " '2. Greenville',\n",
              " '3. Buenos Aires',\n",
              " '4. Los Cabos',\n",
              " '5. Walla Walla Valley',\n",
              " '6. Marakesh',\n",
              " '7. Albuquerque',\n",
              " '8. Archipelago Sea',\n",
              " '9. Iguazu Falls',\n",
              " '10. Salina Island',\n",
              " '11. Toronto',\n",
              " '12. Pyeongchang']"
            ]
          },
          "metadata": {},
          "execution_count": 98
        }
      ]
    },
    {
      "cell_type": "code",
      "source": [
        "city_populations = []\n",
        "for i in cities:\n",
        "   city_populations.append(i['Population'])\n",
        "\n",
        "print(city_populations)\n"
      ],
      "metadata": {
        "colab": {
          "base_uri": "https://localhost:8080/"
        },
        "id": "P8K6tC9NGye3",
        "outputId": "0d60d1e0-a2a5-4ba9-8ddd-ee08f86ec4bb"
      },
      "execution_count": 99,
      "outputs": [
        {
          "output_type": "stream",
          "name": "stdout",
          "text": [
            "[1700.0, 84554.0, 13591863.0, 287651.0, 32237.0, 928850.0, 559277.0, 60000.0, 0.0, 4000.0, 630.0, 2581000.0]\n"
          ]
        }
      ]
    },
    {
      "cell_type": "code",
      "source": [
        "plt.bar(names_and_ranks, city_populations)\n",
        "plt.xticks(rotation='vertical')\n",
        "plt.ylabel('Population')\n",
        "plt.title('City Populations')\n",
        "plt.show()\n"
      ],
      "metadata": {
        "colab": {
          "base_uri": "https://localhost:8080/",
          "height": 582
        },
        "id": "mGGgYJweHiHr",
        "outputId": "50e9a650-f251-41de-c849-71fcf84482c1"
      },
      "execution_count": 100,
      "outputs": [
        {
          "output_type": "display_data",
          "data": {
            "text/plain": [
              "<Figure size 640x480 with 1 Axes>"
            ],
            "image/png": "[encoded data removed]"
          },
          "metadata": {}
        }
      ]
    },
    {
      "cell_type": "code",
      "source": [
        "city_area =[]\n",
        "for i in cities:\n",
        "   city_area.append(i['Area'])\n",
        "\n",
        "print(city_area)"
      ],
      "metadata": {
        "colab": {
          "base_uri": "https://localhost:8080/"
        },
        "id": "ds0lNRVkHrPj",
        "outputId": "0cb5970b-bb2a-4635-d460-e8dfb7abbddb"
      },
      "execution_count": 101,
      "outputs": [
        {
          "output_type": "stream",
          "name": "stdout",
          "text": [
            "[59.0, 68.0, 4758.0, 3750.0, 33.0, 200.0, 491.0, 8300.0, 672.0, 27.0, 2731571.0, 3194.0]\n"
          ]
        }
      ]
    },
    {
      "cell_type": "code",
      "source": [
        "plt.bar(names_and_ranks, city_populations)\n",
        "\n",
        "plt.ylabel('Population')\n",
        "plt.xlabel('Cities')\n",
        "plt.title('City Populations')\n",
        "plt.xticks(rotation='vertical')\n",
        "plt.show()\n"
      ],
      "metadata": {
        "colab": {
          "base_uri": "https://localhost:8080/",
          "height": 601
        },
        "id": "mWO-2YaOIQyf",
        "outputId": "7551bfcc-a514-4b3e-cdc4-78040e1ebd08"
      },
      "execution_count": 102,
      "outputs": [
        {
          "output_type": "display_data",
          "data": {
            "text/plain": [
              "<Figure size 640x480 with 1 Axes>"
            ],
            "image/png": "[encoded data removed]"
          },
          "metadata": {}
        }
      ]
    },
    {
      "cell_type": "code",
      "source": [
        "plt.bar(names_and_ranks, city_area)\n",
        "plt.ylabel('Area')\n",
        "plt.xlabel('Cities')\n",
        "plt.title('City Area')\n",
        "plt.xticks(rotation='vertical')\n",
        "\n",
        "plt.show()\n"
      ],
      "metadata": {
        "colab": {
          "base_uri": "https://localhost:8080/",
          "height": 601
        },
        "id": "1jSNMdmYIbiB",
        "outputId": "a998ee3b-dd08-4d0e-83a6-4391711cb4ed"
      },
      "execution_count": 104,
      "outputs": [
        {
          "output_type": "display_data",
          "data": {
            "text/plain": [
              "<Figure size 640x480 with 1 Axes>"
            ],
            "image/png": "[encoded data removed]"
          },
          "metadata": {}
        }
      ]
    }
  ]
}