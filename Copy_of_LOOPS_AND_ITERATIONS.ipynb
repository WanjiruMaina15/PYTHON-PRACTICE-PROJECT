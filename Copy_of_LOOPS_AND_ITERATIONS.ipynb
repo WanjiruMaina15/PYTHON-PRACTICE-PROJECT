{
  "nbformat": 4,
  "nbformat_minor": 0,
  "metadata": {
    "colab": {
      "provenance": []
    },
    "kernelspec": {
      "name": "python3",
      "display_name": "Python 3"
    },
    "language_info": {
      "name": "python"
    }
  },
  "cells": [
    {
      "cell_type": "code",
      "execution_count": 3,
      "metadata": {
        "colab": {
          "base_uri": "https://localhost:8080/"
        },
        "id": "QjrtZ4qQsB0N",
        "outputId": "6e1bd393-c943-406f-8bd5-27414f65044b"
      },
      "outputs": [
        {
          "output_type": "stream",
          "name": "stdout",
          "text": [
            "0\n",
            "1\n",
            "2\n",
            "3\n"
          ]
        }
      ],
      "source": [
        "#there are two types of loops for and while\n",
        "\n",
        "#for loop is used for going over a list of items one by one\n",
        "\n",
        "zero_to_three = [0,1,2, 3]\n",
        "print(zero_to_three[0])\n",
        "print(zero_to_three[1])\n",
        "print(zero_to_three[2])\n",
        "print(zero_to_three[3])\n"
      ]
    },
    {
      "cell_type": "code",
      "source": [
        "#loops have two components called arguments  1.variable (the name you are assigning to the loop ) 2. and the collection we are iterating over\n",
        "for number in  zero_to_three:# after the loop put the full colon\n",
        "    print (number) # number is the variable . and zero_to_three is the collection we are iterating over.\n",
        "    # after the second argument we indent the block of code that comes after."
      ],
      "metadata": {
        "colab": {
          "base_uri": "https://localhost:8080/"
        },
        "id": "EVZZFXxE4Mgh",
        "outputId": "939db32c-ebc8-43c1-85e8-b74de471732a"
      },
      "execution_count": 4,
      "outputs": [
        {
          "output_type": "stream",
          "name": "stdout",
          "text": [
            "0\n",
            "1\n",
            "2\n",
            "3\n"
          ]
        }
      ]
    },
    {
      "cell_type": "code",
      "source": [
        "#This could work for a list with small elements,but for a list with many elements.It will become tedious\n",
        "#so we use the for  loop for number in  :\n",
        "\n",
        "for number in zero_to_three:\n",
        "   print(number)"
      ],
      "metadata": {
        "colab": {
          "base_uri": "https://localhost:8080/"
        },
        "id": "dy_neHDQtorR",
        "outputId": "eb98e9df-b440-44b0-f36d-929a25fb854d"
      },
      "execution_count": 5,
      "outputs": [
        {
          "output_type": "stream",
          "name": "stdout",
          "text": [
            "0\n",
            "1\n",
            "2\n",
            "3\n"
          ]
        }
      ]
    },
    {
      "cell_type": "code",
      "source": [
        "iteration_count =0\n",
        "for whatever_we_want in zero_to_three:\n",
        "     iteration_count= +1\n",
        "     print('This is iteration:', iteration_count)\n",
        "     print('whatever_we _want')\n",
        "     print('The for loop is finished now! I am not in the for loop now that is why I only printed once')\n",
        "\n"
      ],
      "metadata": {
        "colab": {
          "base_uri": "https://localhost:8080/"
        },
        "id": "56-vJMg98fMa",
        "outputId": "2735ce79-4de1-4925-dc91-630c40eb575d"
      },
      "execution_count": 6,
      "outputs": [
        {
          "output_type": "stream",
          "name": "stdout",
          "text": [
            "This is iteration: 1\n",
            "whatever_we _want\n",
            "The for loop is finished now! I am not in the for loop now that is why I only printed once\n",
            "This is iteration: 1\n",
            "whatever_we _want\n",
            "The for loop is finished now! I am not in the for loop now that is why I only printed once\n",
            "This is iteration: 1\n",
            "whatever_we _want\n",
            "The for loop is finished now! I am not in the for loop now that is why I only printed once\n",
            "This is iteration: 1\n",
            "whatever_we _want\n",
            "The for loop is finished now! I am not in the for loop now that is why I only printed once\n"
          ]
        }
      ]
    },
    {
      "cell_type": "code",
      "source": [
        "# Using elements in list as indices\n",
        "countries = ['Croatia', 'USA','Argentina','France','Brazil','Japan','Vietnam']\n",
        "for i in [0,1,2,3,4,5,6]:\n",
        "   print(i)\n",
        "   print(countries[i])"
      ],
      "metadata": {
        "colab": {
          "base_uri": "https://localhost:8080/"
        },
        "id": "Q3Fq8XGGdqXG",
        "outputId": "a81c9372-1ca4-471b-8aa7-07b0c4908d84"
      },
      "execution_count": 7,
      "outputs": [
        {
          "output_type": "stream",
          "name": "stdout",
          "text": [
            "0\n",
            "Croatia\n",
            "1\n",
            "USA\n",
            "2\n",
            "Argentina\n",
            "3\n",
            "France\n",
            "4\n",
            "Brazil\n",
            "5\n",
            "Japan\n",
            "6\n",
            "Vietnam\n"
          ]
        }
      ]
    },
    {
      "cell_type": "code",
      "source": [
        "#printing two lists\n",
        "countries = ['Croatia', 'USA','Argentina','France','Brazil','Japan','Vietnam']\n",
        "cities = ['Zagreb', 'District of Columbia', 'Buenos Aires', 'Paris', 'Rio Dejenerio', 'Tokyo','Hanoi']\n",
        "\n",
        "for index in [0,1,3,4,5,6]:\n",
        "    print(cities[index] + ',', countries[index])"
      ],
      "metadata": {
        "colab": {
          "base_uri": "https://localhost:8080/"
        },
        "id": "YldiSXhPBlcA",
        "outputId": "9fcc2099-a648-40d3-96eb-1590d0361c8e"
      },
      "execution_count": 8,
      "outputs": [
        {
          "output_type": "stream",
          "name": "stdout",
          "text": [
            "Zagreb, Croatia\n",
            "District of Columbia, USA\n",
            "Paris, France\n",
            "Rio Dejenerio, Brazil\n",
            "Tokyo, Japan\n",
            "Hanoi, Vietnam\n"
          ]
        }
      ]
    },
    {
      "cell_type": "code",
      "source": [
        "#the above cannot work if the indices do not match up\n",
        "#it says the list is out range\n",
        "countries = ['Croatia', 'USA','Argentina','France','Brazil','Japan','Vietnam']\n",
        "cities = ['Zagreb', 'District of Columbia', 'Buenos Aires', 'Paris', 'Rio Dejenerio', 'Tokyo','Hanoi']\n",
        "for index in[0,1,2,3,4,5,6,7,8,9,10]:\n",
        "    print(index)\n",
        "    print(cities[index] + ',', countries[index])"
      ],
      "metadata": {
        "colab": {
          "base_uri": "https://localhost:8080/",
          "height": 436
        },
        "id": "3w8k1Lp3HvHu",
        "outputId": "681174c1-8bfb-4688-ddf4-66f1090317b3"
      },
      "execution_count": 9,
      "outputs": [
        {
          "output_type": "stream",
          "name": "stdout",
          "text": [
            "0\n",
            "Zagreb, Croatia\n",
            "1\n",
            "District of Columbia, USA\n",
            "2\n",
            "Buenos Aires, Argentina\n",
            "3\n",
            "Paris, France\n",
            "4\n",
            "Rio Dejenerio, Brazil\n",
            "5\n",
            "Tokyo, Japan\n",
            "6\n",
            "Hanoi, Vietnam\n",
            "7\n"
          ]
        },
        {
          "output_type": "error",
          "ename": "IndexError",
          "evalue": "list index out of range",
          "traceback": [
            "\u001b[0;31m---------------------------------------------------------------------------\u001b[0m",
            "\u001b[0;31mIndexError\u001b[0m                                Traceback (most recent call last)",
            "\u001b[0;32m<ipython-input-9-1dd4e30bbfa7>\u001b[0m in \u001b[0;36m<cell line: 0>\u001b[0;34m()\u001b[0m\n\u001b[1;32m      5\u001b[0m \u001b[0;32mfor\u001b[0m \u001b[0mindex\u001b[0m \u001b[0;32min\u001b[0m\u001b[0;34m[\u001b[0m\u001b[0;36m0\u001b[0m\u001b[0;34m,\u001b[0m\u001b[0;36m1\u001b[0m\u001b[0;34m,\u001b[0m\u001b[0;36m2\u001b[0m\u001b[0;34m,\u001b[0m\u001b[0;36m3\u001b[0m\u001b[0;34m,\u001b[0m\u001b[0;36m4\u001b[0m\u001b[0;34m,\u001b[0m\u001b[0;36m5\u001b[0m\u001b[0;34m,\u001b[0m\u001b[0;36m6\u001b[0m\u001b[0;34m,\u001b[0m\u001b[0;36m7\u001b[0m\u001b[0;34m,\u001b[0m\u001b[0;36m8\u001b[0m\u001b[0;34m,\u001b[0m\u001b[0;36m9\u001b[0m\u001b[0;34m,\u001b[0m\u001b[0;36m10\u001b[0m\u001b[0;34m]\u001b[0m\u001b[0;34m:\u001b[0m\u001b[0;34m\u001b[0m\u001b[0;34m\u001b[0m\u001b[0m\n\u001b[1;32m      6\u001b[0m     \u001b[0mprint\u001b[0m\u001b[0;34m(\u001b[0m\u001b[0mindex\u001b[0m\u001b[0;34m)\u001b[0m\u001b[0;34m\u001b[0m\u001b[0;34m\u001b[0m\u001b[0m\n\u001b[0;32m----> 7\u001b[0;31m     \u001b[0mprint\u001b[0m\u001b[0;34m(\u001b[0m\u001b[0mcities\u001b[0m\u001b[0;34m[\u001b[0m\u001b[0mindex\u001b[0m\u001b[0;34m]\u001b[0m \u001b[0;34m+\u001b[0m \u001b[0;34m','\u001b[0m\u001b[0;34m,\u001b[0m \u001b[0mcountries\u001b[0m\u001b[0;34m[\u001b[0m\u001b[0mindex\u001b[0m\u001b[0;34m]\u001b[0m\u001b[0;34m)\u001b[0m\u001b[0;34m\u001b[0m\u001b[0;34m\u001b[0m\u001b[0m\n\u001b[0m",
            "\u001b[0;31mIndexError\u001b[0m: list index out of range"
          ]
        }
      ]
    },
    {
      "cell_type": "code",
      "source": [
        "#When unsure of the number of elements in alist we will use the len() funtion\n",
        "len(countries)\n",
        "len(cities)"
      ],
      "metadata": {
        "id": "cEmdrzfjIyEn",
        "colab": {
          "base_uri": "https://localhost:8080/"
        },
        "outputId": "2a1458f7-3246-4a3f-b666-e86bdeea525f"
      },
      "execution_count": 32,
      "outputs": [
        {
          "output_type": "execute_result",
          "data": {
            "text/plain": [
              "8"
            ]
          },
          "metadata": {},
          "execution_count": 32
        }
      ]
    },
    {
      "cell_type": "code",
      "source": [
        "#first create a range\n",
        "#Range function shows the starting pointing of the list and the ending point of the list excluding the end\n",
        "range(0, len(countries))"
      ],
      "metadata": {
        "id": "2qGXWLaNJUPs",
        "colab": {
          "base_uri": "https://localhost:8080/"
        },
        "outputId": "4e416ce4-44a0-45e4-8b02-32532a4a24db"
      },
      "execution_count": 33,
      "outputs": [
        {
          "output_type": "execute_result",
          "data": {
            "text/plain": [
              "range(0, 8)"
            ]
          },
          "metadata": {},
          "execution_count": 33
        }
      ]
    },
    {
      "cell_type": "code",
      "source": [
        "#Create a list then\n",
        "list(range(0, len(countries)))"
      ],
      "metadata": {
        "id": "zdTvozhoKIJ7",
        "colab": {
          "base_uri": "https://localhost:8080/"
        },
        "outputId": "b0326605-908d-4ded-9466-8cc7a5c29d2a"
      },
      "execution_count": 34,
      "outputs": [
        {
          "output_type": "execute_result",
          "data": {
            "text/plain": [
              "[0, 1, 2, 3, 4, 5, 6, 7]"
            ]
          },
          "metadata": {},
          "execution_count": 34
        }
      ]
    },
    {
      "cell_type": "code",
      "source": [
        "for index in list(range(0,len(countries))):\n",
        "  print (index)\n",
        "  print(cities[index]+ ',',  countries[index])"
      ],
      "metadata": {
        "id": "ZOYrgclILT_d"
      },
      "execution_count": null,
      "outputs": []
    },
    {
      "cell_type": "code",
      "source": [
        "countries.pop()\n",
        "cities.pop()\n",
        "countries\n",
        "cities"
      ],
      "metadata": {
        "id": "ZV6DbytSNTGu",
        "colab": {
          "base_uri": "https://localhost:8080/"
        },
        "outputId": "74abb260-0fb8-4b7b-c45d-d92124cc0480"
      },
      "execution_count": 36,
      "outputs": [
        {
          "output_type": "execute_result",
          "data": {
            "text/plain": [
              "['Zagreb',\n",
              " 'District of Columbia',\n",
              " 'Buenos Aires',\n",
              " 'Paris',\n",
              " 'Rio de Janeiro',\n",
              " 'Tokyo',\n",
              " 'Hanoi',\n",
              " 'Mexico City']"
            ]
          },
          "metadata": {},
          "execution_count": 36
        }
      ]
    },
    {
      "cell_type": "code",
      "source": [
        "for index in list(range(0,len(countries))):\n",
        "    print(index)\n",
        "    print(cities[index] +',', countries[index] )"
      ],
      "metadata": {
        "id": "cEhJ5dIVNBVf",
        "colab": {
          "base_uri": "https://localhost:8080/"
        },
        "outputId": "656b6647-9f1e-4c73-904f-5e8113f6d708"
      },
      "execution_count": 37,
      "outputs": [
        {
          "output_type": "stream",
          "name": "stdout",
          "text": [
            "0\n",
            "Zagreb, Croatia\n",
            "1\n",
            "District of Columbia, USA\n",
            "2\n",
            "Buenos Aires, Argentina\n",
            "3\n",
            "Paris, France\n",
            "4\n",
            "Rio de Janeiro, Brazil\n",
            "5\n",
            "Tokyo, Japan\n",
            "6\n",
            "Hanoi, Vietnam\n",
            "7\n",
            "Mexico City, Mexico\n"
          ]
        }
      ]
    },
    {
      "cell_type": "code",
      "source": [
        "for numbers  in range (10 ):\n",
        "    print(numbers)"
      ],
      "metadata": {
        "id": "papkrR0_8GyV",
        "colab": {
          "base_uri": "https://localhost:8080/"
        },
        "outputId": "add84065-caf6-4493-b4cd-24b3f122ca2e"
      },
      "execution_count": 38,
      "outputs": [
        {
          "output_type": "stream",
          "name": "stdout",
          "text": [
            "0\n",
            "1\n",
            "2\n",
            "3\n",
            "4\n",
            "5\n",
            "6\n",
            "7\n",
            "8\n",
            "9\n"
          ]
        }
      ]
    },
    {
      "cell_type": "code",
      "source": [],
      "metadata": {
        "id": "in-38WFTk-SD"
      },
      "execution_count": 9,
      "outputs": []
    },
    {
      "cell_type": "code",
      "source": [
        "for numbers in range(5,21,2):# 5: The starting value of the sequence (inclusive). The sequence will start at 5.\n",
        "     print(numbers)#21The ending value of the sequence (exclusive). The sequence will go up to, but not include, 21.\n",
        "                   #2: The step value. This specifies the increment between each number in the sequence. In this case, the numbers will increase by 2."
      ],
      "metadata": {
        "id": "PVMSZY4B93I9",
        "colab": {
          "base_uri": "https://localhost:8080/"
        },
        "outputId": "2529cccb-f745-4d0f-d539-4db865ebc649"
      },
      "execution_count": 40,
      "outputs": [
        {
          "output_type": "stream",
          "name": "stdout",
          "text": [
            "5\n",
            "7\n",
            "9\n",
            "11\n",
            "13\n",
            "15\n",
            "17\n",
            "19\n"
          ]
        }
      ]
    },
    {
      "cell_type": "code",
      "source": [
        "for numbers in range(10,5,-2):\n",
        "    print(numbers)"
      ],
      "metadata": {
        "id": "R_BKzLvv-MAF",
        "colab": {
          "base_uri": "https://localhost:8080/"
        },
        "outputId": "9ac991a0-a35c-4adf-b661-f4dab4c70679"
      },
      "execution_count": 11,
      "outputs": [
        {
          "output_type": "stream",
          "name": "stdout",
          "text": [
            "10\n",
            "8\n",
            "6\n"
          ]
        }
      ]
    },
    {
      "cell_type": "code",
      "source": [
        "fruits = ['bananas', 'apples','avocadoes','lemons' ]\n",
        "for x in fruits :\n",
        "  print(x)"
      ],
      "metadata": {
        "id": "5I39AEQq_WYA",
        "colab": {
          "base_uri": "https://localhost:8080/"
        },
        "outputId": "baf5f236-a447-4e42-9a6b-c44a1befadbc"
      },
      "execution_count": 12,
      "outputs": [
        {
          "output_type": "stream",
          "name": "stdout",
          "text": [
            "bananas\n",
            "apples\n",
            "avocadoes\n",
            "lemons\n"
          ]
        }
      ]
    },
    {
      "cell_type": "code",
      "source": [
        "#exit the loop when x is bananas\n",
        "for x in fruits:\n",
        "    print(x)\n",
        "    if x== 'avocadoes':\n",
        "     break\n",
        "\n",
        "\n",
        "\n"
      ],
      "metadata": {
        "id": "e7hIvXR2AoBh",
        "colab": {
          "base_uri": "https://localhost:8080/"
        },
        "outputId": "029d1c5f-bd17-4302-c53b-c89d808baaeb"
      },
      "execution_count": 42,
      "outputs": [
        {
          "output_type": "stream",
          "name": "stdout",
          "text": [
            "bananas\n",
            "fruits\n",
            "oranges\n",
            "quavas\n"
          ]
        }
      ]
    },
    {
      "cell_type": "code",
      "source": [
        "countries = ['Croatia', 'USA','Argentina','France','Brazil','Japan','Vietnam']\n",
        "cities = ['Zagreb', 'District of Columbia', 'Buenos Aires', 'Paris', 'Rio Dejenerio', 'Tokyo','Hanoi']\n",
        "for index in (0,1,2,3,4,5,6,):\n",
        "    print(index)\n",
        "    print(cities[index] + ',', countries[index])\n",
        "\n"
      ],
      "metadata": {
        "id": "skJVvGBXEVBt",
        "colab": {
          "base_uri": "https://localhost:8080/"
        },
        "outputId": "4ad28f4f-09ec-42ef-ca98-2216a4b608fe"
      },
      "execution_count": 44,
      "outputs": [
        {
          "output_type": "stream",
          "name": "stdout",
          "text": [
            "0\n",
            "Zagreb, Croatia\n",
            "1\n",
            "District of Columbia, USA\n",
            "2\n",
            "Buenos Aires, Argentina\n",
            "3\n",
            "Paris, France\n",
            "4\n",
            "Rio Dejenerio, Brazil\n",
            "5\n",
            "Tokyo, Japan\n",
            "6\n",
            "Hanoi, Vietnam\n"
          ]
        }
      ]
    },
    {
      "cell_type": "code",
      "source": [
        "zero_to_three = [0,1,2,3,4,5]\n",
        "for num in zero_to_three:\n",
        "        print(num)"
      ],
      "metadata": {
        "id": "8kcxxrKdlCVg",
        "colab": {
          "base_uri": "https://localhost:8080/"
        },
        "outputId": "59e86acb-05a5-4811-e43d-af3fd320cf1c"
      },
      "execution_count": 43,
      "outputs": [
        {
          "output_type": "stream",
          "name": "stdout",
          "text": [
            "0\n",
            "1\n",
            "2\n",
            "3\n",
            "4\n",
            "5\n"
          ]
        }
      ]
    },
    {
      "cell_type": "code",
      "source": [
        "iteration_count = 2\n",
        "for whatevs in zero_to_three:\n",
        "    iteration_count +=1\n",
        "    print(\"This is iteration:\", iteration_count)\n",
        "    print(whatevs)\n",
        "print('the four loop is finished now')\n"
      ],
      "metadata": {
        "colab": {
          "base_uri": "https://localhost:8080/"
        },
        "id": "3bqjX1WUlk-E",
        "outputId": "3cb56696-1193-4641-c934-1e81f042fe80"
      },
      "execution_count": 45,
      "outputs": [
        {
          "output_type": "stream",
          "name": "stdout",
          "text": [
            "This is iteration: 3\n",
            "0\n",
            "This is iteration: 4\n",
            "1\n",
            "This is iteration: 5\n",
            "2\n",
            "This is iteration: 6\n",
            "3\n",
            "This is iteration: 7\n",
            "4\n",
            "This is iteration: 8\n",
            "5\n",
            "the four loop is finished now\n"
          ]
        }
      ]
    },
    {
      "cell_type": "code",
      "source": [
        "countries = ['Croatia', 'USA', 'Argentina', 'France', 'Brazil', 'Japan', 'Vietnam']\n",
        "for i in countries:\n",
        "    print(i)\n",
        "#This Loop: Use when you only need the values of the list and don't care about their positions."
      ],
      "metadata": {
        "id": "Ip7LkOoBrw9m",
        "colab": {
          "base_uri": "https://localhost:8080/"
        },
        "outputId": "74694c43-f2b6-4dc7-a1a1-5820f49b8d6c"
      },
      "execution_count": 47,
      "outputs": [
        {
          "output_type": "stream",
          "name": "stdout",
          "text": [
            "Croatia\n",
            "USA\n",
            "Argentina\n",
            "France\n",
            "Brazil\n",
            "Japan\n",
            "Vietnam\n"
          ]
        }
      ]
    },
    {
      "cell_type": "code",
      "source": [
        "for index in [0,1,2,3,4,5,6]:\n",
        "     print(index)\n",
        "     print(countries[index])#we are accessing each element in the list\n",
        "     #Second Loop: Use when you need both the index and the value or want to perform operations based on the position."
      ],
      "metadata": {
        "colab": {
          "base_uri": "https://localhost:8080/"
        },
        "id": "JA0aXi55r8h0",
        "outputId": "92cf6f14-974c-49e3-dab7-d6e7d3359224"
      },
      "execution_count": 50,
      "outputs": [
        {
          "output_type": "stream",
          "name": "stdout",
          "text": [
            "0\n",
            "Croatia\n",
            "1\n",
            "USA\n",
            "2\n",
            "Argentina\n",
            "3\n",
            "France\n",
            "4\n",
            "Brazil\n",
            "5\n",
            "Japan\n",
            "6\n",
            "Vietnam\n"
          ]
        }
      ]
    },
    {
      "cell_type": "code",
      "source": [
        "for country in countries :\n",
        "     print(country)"
      ],
      "metadata": {
        "colab": {
          "base_uri": "https://localhost:8080/"
        },
        "id": "3yOLeOE4slif",
        "outputId": "75a91e27-db68-4aa2-effc-21392599cde7"
      },
      "execution_count": 16,
      "outputs": [
        {
          "output_type": "stream",
          "name": "stdout",
          "text": [
            "Croatia\n",
            "USA\n",
            "Argentina\n",
            "France\n",
            "Brazil\n",
            "Japan\n",
            "Vietnam\n"
          ]
        }
      ]
    },
    {
      "cell_type": "code",
      "source": [
        "#the no of indices in the two lists should be equal\n",
        "countries = ['Croatia', 'USA', 'Argentina', 'France', 'Brazil', 'Japan', 'Vietnam']\n",
        "cities = ['Zagreb', 'District of Columbia', 'Buenos Aires', 'Paris', 'Rio de Janeiro', 'Tokyo', 'Hanoi']\n",
        "for index in [0,1,2,3,4,5,6]:\n",
        "    #print(index)\n",
        "    print(index, cities[index]+\",\", countries[index])"
      ],
      "metadata": {
        "colab": {
          "base_uri": "https://localhost:8080/"
        },
        "id": "CWV0UgM0tUke",
        "outputId": "62d45087-c437-4083-fef8-c1f9f4b848ac"
      },
      "execution_count": 17,
      "outputs": [
        {
          "output_type": "stream",
          "name": "stdout",
          "text": [
            "0 Zagreb, Croatia\n",
            "1 District of Columbia, USA\n",
            "2 Buenos Aires, Argentina\n",
            "3 Paris, France\n",
            "4 Rio de Janeiro, Brazil\n",
            "5 Tokyo, Japan\n",
            "6 Hanoi, Vietnam\n"
          ]
        }
      ]
    },
    {
      "cell_type": "code",
      "source": [
        "len(countries)\n",
        "len(cities)"
      ],
      "metadata": {
        "colab": {
          "base_uri": "https://localhost:8080/"
        },
        "id": "IZ4fOlzKtr_x",
        "outputId": "14b4742f-f05a-4acb-d3ff-492c43a4a05a"
      },
      "execution_count": 18,
      "outputs": [
        {
          "output_type": "execute_result",
          "data": {
            "text/plain": [
              "7"
            ]
          },
          "metadata": {},
          "execution_count": 18
        }
      ]
    },
    {
      "cell_type": "code",
      "source": [
        "#range :if you do not know the number of elements in a list yo use range\n",
        "range(0, len(countries))"
      ],
      "metadata": {
        "colab": {
          "base_uri": "https://localhost:8080/"
        },
        "id": "K-yXx6ZlvLmG",
        "outputId": "e7e0c14e-6357-44e9-b5f8-a590c2b1f9e9"
      },
      "execution_count": 19,
      "outputs": [
        {
          "output_type": "execute_result",
          "data": {
            "text/plain": [
              "range(0, 7)"
            ]
          },
          "metadata": {},
          "execution_count": 19
        }
      ]
    },
    {
      "cell_type": "code",
      "source": [
        "list(range(0, len(countries)))"
      ],
      "metadata": {
        "colab": {
          "base_uri": "https://localhost:8080/"
        },
        "id": "3W9W8LLOvtio",
        "outputId": "9a53eb76-a5c9-4b04-ebc2-e423e2f1c0a3"
      },
      "execution_count": 20,
      "outputs": [
        {
          "output_type": "execute_result",
          "data": {
            "text/plain": [
              "[0, 1, 2, 3, 4, 5, 6]"
            ]
          },
          "metadata": {},
          "execution_count": 20
        }
      ]
    },
    {
      "cell_type": "code",
      "source": [
        "for index in list(range(0, len(countries))):\n",
        "\n",
        "      print(index, cities[index]+\",\", countries[index])"
      ],
      "metadata": {
        "colab": {
          "base_uri": "https://localhost:8080/"
        },
        "id": "R3ym60hov1Ik",
        "outputId": "acfe3964-53e5-4d15-fecf-aed7e3e04e2b"
      },
      "execution_count": 21,
      "outputs": [
        {
          "output_type": "stream",
          "name": "stdout",
          "text": [
            "0 Zagreb, Croatia\n",
            "1 District of Columbia, USA\n",
            "2 Buenos Aires, Argentina\n",
            "3 Paris, France\n",
            "4 Rio de Janeiro, Brazil\n",
            "5 Tokyo, Japan\n",
            "6 Hanoi, Vietnam\n"
          ]
        }
      ]
    },
    {
      "cell_type": "code",
      "source": [
        "countries.append('Mexico')\n",
        "cities.append('Mexico City')\n",
        "for index in list(range(0, len(countries))):\n",
        "\n",
        "      print(index, cities[index]+\",\", countries[index])"
      ],
      "metadata": {
        "colab": {
          "base_uri": "https://localhost:8080/"
        },
        "id": "97ZMMjOExmup",
        "outputId": "af384d38-ad31-4de6-b456-25742696c66d"
      },
      "execution_count": 22,
      "outputs": [
        {
          "output_type": "stream",
          "name": "stdout",
          "text": [
            "0 Zagreb, Croatia\n",
            "1 District of Columbia, USA\n",
            "2 Buenos Aires, Argentina\n",
            "3 Paris, France\n",
            "4 Rio de Janeiro, Brazil\n",
            "5 Tokyo, Japan\n",
            "6 Hanoi, Vietnam\n",
            "7 Mexico City, Mexico\n"
          ]
        }
      ]
    },
    {
      "cell_type": "code",
      "source": [],
      "metadata": {
        "id": "kE7yrF6LwmYP"
      },
      "execution_count": null,
      "outputs": []
    },
    {
      "cell_type": "code",
      "source": [
        "#Iterating over dictionaries\n",
        "details = {'first name':'Esther','age':28, 'favorite_language':'Python','last name':'Maina'}\n",
        "for Wanjiru in details:#When you iterate over a dictionary, the loop variable (Wanjiru) gets the keys of the dictionary.\n",
        "    print(Wanjiru)\n",
        "    #the keys here are name.,AGE AND FAVORITE LANGUAGE"
      ],
      "metadata": {
        "colab": {
          "base_uri": "https://localhost:8080/"
        },
        "id": "ZzRp6pOr_UNa",
        "outputId": "c40c9e7d-fa20-45a8-c7e8-1a0d3b682ae0"
      },
      "execution_count": 51,
      "outputs": [
        {
          "output_type": "stream",
          "name": "stdout",
          "text": [
            "first name\n",
            "age\n",
            "favorite_language\n",
            "last name\n"
          ]
        }
      ]
    },
    {
      "cell_type": "code",
      "source": [],
      "metadata": {
        "id": "5dPtG6Rjw6fU"
      },
      "execution_count": null,
      "outputs": []
    },
    {
      "cell_type": "code",
      "source": [
        "#If you want to access the values, you can use the key with details[Wanjiru].\n",
        "for Wanjiru in details:\n",
        "    print(Wanjiru, details[Wanjiru])\n",
        "#Wanjiru acceses the keys of the dictionary, then details[Wanjiru] accesses the values\n"
      ],
      "metadata": {
        "colab": {
          "base_uri": "https://localhost:8080/"
        },
        "id": "Kz33WBS9ByqY",
        "outputId": "01415b4b-d817-4929-d3bc-e08f387025bb"
      },
      "execution_count": 54,
      "outputs": [
        {
          "output_type": "stream",
          "name": "stdout",
          "text": [
            "first name Esther\n",
            "age 28\n",
            "favorite_language Python\n",
            "last name Maina\n"
          ]
        }
      ]
    },
    {
      "cell_type": "code",
      "source": [],
      "metadata": {
        "id": "M7SKYuZ4x8NE"
      },
      "execution_count": null,
      "outputs": []
    },
    {
      "cell_type": "code",
      "source": [
        "#Alternatively you can use .items()\n",
        "for key, value in details.items():\n",
        "    print('This is the key:',  key)\n",
        "    print('This is the value:',  value)\n",
        "\n",
        "\n",
        "\n"
      ],
      "metadata": {
        "colab": {
          "base_uri": "https://localhost:8080/"
        },
        "id": "C8FRRKneCbxN",
        "outputId": "cf2615ec-e07c-4be6-8d41-76cd8296a907"
      },
      "execution_count": null,
      "outputs": [
        {
          "output_type": "stream",
          "name": "stdout",
          "text": [
            "This is the key: first name\n",
            "This is the value: Esther\n",
            "This is the key: age\n",
            "This is the value: 28\n",
            "This is the key: favorite_language\n",
            "This is the value: Python\n",
            "This is the key: last name\n",
            "This is the value: Maina\n"
          ]
        }
      ]
    },
    {
      "cell_type": "code",
      "source": [
        "for idx, item in enumerate(['A', 'B', 'C']):\n",
        "    print(idx, item)"
      ],
      "metadata": {
        "colab": {
          "base_uri": "https://localhost:8080/"
        },
        "id": "wP3VJicvy0hV",
        "outputId": "9476d24e-0902-47aa-c5fc-03339a9e1421"
      },
      "execution_count": 23,
      "outputs": [
        {
          "output_type": "stream",
          "name": "stdout",
          "text": [
            "0 A\n",
            "1 B\n",
            "2 C\n"
          ]
        }
      ]
    },
    {
      "cell_type": "code",
      "source": [
        "different_elements = ['A String', [\"a\", 'list', \"of\", 5, [\"elements\"]], {'this': \"is a dictionary\"}]\n",
        "for element in different_elements:\n",
        "    print(element)"
      ],
      "metadata": {
        "colab": {
          "base_uri": "https://localhost:8080/"
        },
        "id": "2QiyfLqozGoq",
        "outputId": "9787ac37-2247-472e-af5d-808c8d81b740"
      },
      "execution_count": 24,
      "outputs": [
        {
          "output_type": "stream",
          "name": "stdout",
          "text": [
            "A String\n",
            "['a', 'list', 'of', 5, ['elements']]\n",
            "{'this': 'is a dictionary'}\n"
          ]
        }
      ]
    },
    {
      "cell_type": "code",
      "source": [
        "#calling  out a dictionary\n",
        "different_elements[2]['this']"
      ],
      "metadata": {
        "colab": {
          "base_uri": "https://localhost:8080/",
          "height": 35
        },
        "id": "dmq3nwzDzXGM",
        "outputId": "c3410ff8-a773-469d-f86f-758e7eb19620"
      },
      "execution_count": 62,
      "outputs": [
        {
          "output_type": "execute_result",
          "data": {
            "text/plain": [
              "'is a dictionary'"
            ],
            "application/vnd.google.colaboratory.intrinsic+json": {
              "type": "string"
            }
          },
          "metadata": {},
          "execution_count": 62
        }
      ]
    },
    {
      "cell_type": "code",
      "source": [
        "different_elements[0]"
      ],
      "metadata": {
        "colab": {
          "base_uri": "https://localhost:8080/",
          "height": 35
        },
        "id": "MLCjfajYzr9K",
        "outputId": "388722ed-23b6-4a7e-9d2f-0d44f274a856"
      },
      "execution_count": 63,
      "outputs": [
        {
          "output_type": "execute_result",
          "data": {
            "text/plain": [
              "'A String'"
            ],
            "application/vnd.google.colaboratory.intrinsic+json": {
              "type": "string"
            }
          },
          "metadata": {},
          "execution_count": 63
        }
      ]
    },
    {
      "cell_type": "code",
      "source": [
        "example_dictionary = {'first_name': \"Terrance\", 'last_name': \"KOAR\", 'favorite_language': \"Python\"}\n",
        "print(example_dictionary.values())\n",
        "type(example_dictionary.values())"
      ],
      "metadata": {
        "colab": {
          "base_uri": "https://localhost:8080/"
        },
        "id": "OA4ENyPa0AOJ",
        "outputId": "816bcf6b-cb97-4daf-baa5-1fb6e66d3423"
      },
      "execution_count": 25,
      "outputs": [
        {
          "output_type": "stream",
          "name": "stdout",
          "text": [
            "dict_values(['Terrance', 'KOAR', 'Python'])\n"
          ]
        },
        {
          "output_type": "execute_result",
          "data": {
            "text/plain": [
              "dict_values"
            ]
          },
          "metadata": {},
          "execution_count": 25
        }
      ]
    },
    {
      "cell_type": "code",
      "source": [
        "for keys,values in example_dictionary.items():\n",
        "    print(keys,values,'\\n')"
      ],
      "metadata": {
        "colab": {
          "base_uri": "https://localhost:8080/"
        },
        "id": "-qVeINvYyrtP",
        "outputId": "d72f1e3b-76a3-46ee-8b4a-81396d8d2617"
      },
      "execution_count": 64,
      "outputs": [
        {
          "output_type": "stream",
          "name": "stdout",
          "text": [
            "first_name Terrance \n",
            "\n",
            "last_name KOAR \n",
            "\n",
            "favorite_language Python \n",
            "\n"
          ]
        }
      ]
    },
    {
      "cell_type": "code",
      "source": [
        "# \"\\n\") means the end puts an enter\n",
        "#when retrieving two things in a dictionary just put both\n",
        "for key, value in example_dictionary.items():\n",
        "    print(\"this is the key:\", key)\n",
        "    print(\"this is the value:\", value, \"\\n\")"
      ],
      "metadata": {
        "colab": {
          "base_uri": "https://localhost:8080/"
        },
        "id": "Dt-WuLB10hTj",
        "outputId": "e38b934b-b470-490a-f687-0c961bd130f7"
      },
      "execution_count": 26,
      "outputs": [
        {
          "output_type": "stream",
          "name": "stdout",
          "text": [
            "this is the key: first_name\n",
            "this is the value: Terrance \n",
            "\n",
            "this is the key: last_name\n",
            "this is the value: KOAR \n",
            "\n",
            "this is the key: favorite_language\n",
            "this is the value: Python \n",
            "\n"
          ]
        }
      ]
    },
    {
      "cell_type": "code",
      "source": [
        "first_name = \"\"\n",
        "last_name = \"\"\n",
        "for key, value in example_dictionary.items():\n",
        "    if key == \"last_name\":\n",
        "        last_name = value.casefold()\n",
        "    if key == \"first_name\":\n",
        "        first_name = value.title()\n",
        "print(first_name, last_name)"
      ],
      "metadata": {
        "colab": {
          "base_uri": "https://localhost:8080/"
        },
        "id": "XhrBgG-t1Zik",
        "outputId": "110733bc-d8e4-4729-a542-b46736a1018f"
      },
      "execution_count": 67,
      "outputs": [
        {
          "output_type": "stream",
          "name": "stdout",
          "text": [
            "Terrance koar\n"
          ]
        }
      ]
    },
    {
      "cell_type": "code",
      "source": [
        "ice_cream_flavors = ['Mint Chocolate Chip', 'Coffee', 'Cookie Dough', 'Fudge Mint Brownie', 'Vanilla Bean']\n",
        "for ice_cream_flavor in ice_cream_flavors:\n",
        "    print('I love ' + ice_cream_flavor + ' ice cream!!')"
      ],
      "metadata": {
        "colab": {
          "base_uri": "https://localhost:8080/"
        },
        "id": "3pyor9oa158r",
        "outputId": "4a7a81be-b8f5-492b-826f-6743dc83dcee"
      },
      "execution_count": 28,
      "outputs": [
        {
          "output_type": "stream",
          "name": "stdout",
          "text": [
            "I love Mint Chocolate Chip ice cream!!\n",
            "I love Coffee ice cream!!\n",
            "I love Cookie Dough ice cream!!\n",
            "I love Fudge Mint Brownie ice cream!!\n",
            "I love Vanilla Bean ice cream!!\n"
          ]
        }
      ]
    },
    {
      "cell_type": "code",
      "source": [
        "bucket_list_countries= ['Portugal',' South Africa', 'Namimbia', 'Morocco', 'Jordan']\n",
        "#for my_favorite_countries in bucket_list_countries:\n",
        "for index in list(range(0,len(bucket_list_countries))):\n",
        "      print(index, 'I am saving up to travel to' , bucket_list_countries[index])"
      ],
      "metadata": {
        "id": "-jxD9pBQ2ucc",
        "colab": {
          "base_uri": "https://localhost:8080/"
        },
        "outputId": "69cd98ca-e45f-4e5a-a855-cf493f391a32"
      },
      "execution_count": 29,
      "outputs": [
        {
          "output_type": "stream",
          "name": "stdout",
          "text": [
            "0 I am saving up to travel to Portugal\n",
            "1 I am saving up to travel to  South Africa\n",
            "2 I am saving up to travel to Namimbia\n",
            "3 I am saving up to travel to Morocco\n",
            "4 I am saving up to travel to Jordan\n"
          ]
        }
      ]
    },
    {
      "cell_type": "code",
      "source": [
        "fruits = ('bananas','fruits','oranges', 'quavas')\n",
        "for index in list(range(0,len(fruits)) ):\n",
        "    print(index, 'i love', fruits[index])\n"
      ],
      "metadata": {
        "id": "SKqH6wkU7xUR",
        "colab": {
          "base_uri": "https://localhost:8080/"
        },
        "outputId": "8163fc20-b4fc-4934-982f-74593539593d"
      },
      "execution_count": 30,
      "outputs": [
        {
          "output_type": "stream",
          "name": "stdout",
          "text": [
            "0 i love bananas\n",
            "1 i love fruits\n",
            "2 i love oranges\n",
            "3 i love quavas\n"
          ]
        }
      ]
    },
    {
      "cell_type": "code",
      "source": [
        "#WHILE LOOPS\n",
        "#Assignvalue\n",
        "#set condition\n",
        "#print function.\n",
        "number = 0\n",
        "while number <5:\n",
        "    print(number)\n",
        "    number = number +1\n"
      ],
      "metadata": {
        "colab": {
          "base_uri": "https://localhost:8080/"
        },
        "id": "-Ew9dqT38yTk",
        "outputId": "6a7eb221-c468-426d-eb89-7be5a3366067"
      },
      "execution_count": 31,
      "outputs": [
        {
          "output_type": "stream",
          "name": "stdout",
          "text": [
            "0\n",
            "1\n",
            "2\n",
            "3\n",
            "4\n"
          ]
        }
      ]
    }
  ]
}